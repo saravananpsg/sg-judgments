{
 "cells": [
  {
   "cell_type": "code",
   "execution_count": 2,
   "metadata": {
    "collapsed": true
   },
   "outputs": [],
   "source": [
    "from nltk.corpus.reader import CategorizedPlaintextCorpusReader\n",
    "\n",
    "CORPUS_ROOT = r\"\\Users\\howkh\\Desktop\\Data Science\\Final Project\\judgments\"\n",
    "CAT_FILE = CORPUS_ROOT + r\"\\cats.txt\"\n",
    "judgments = CategorizedPlaintextCorpusReader(root=CORPUS_ROOT, fileids='.*\\\\d+', cat_file=CAT_FILE, encoding='utf-8')"
   ]
  },
  {
   "cell_type": "code",
   "execution_count": 2,
   "metadata": {},
   "outputs": [
    {
     "data": {
      "text/plain": [
       "5303"
      ]
     },
     "execution_count": 2,
     "metadata": {},
     "output_type": "execute_result"
    }
   ],
   "source": [
    "len(judgments.fileids())"
   ]
  },
  {
   "cell_type": "code",
   "execution_count": 3,
   "metadata": {},
   "outputs": [
    {
     "data": {
      "text/plain": [
       "87"
      ]
     },
     "execution_count": 3,
     "metadata": {},
     "output_type": "execute_result"
    }
   ],
   "source": [
    "len(judgments.categories())"
   ]
  },
  {
   "cell_type": "code",
   "execution_count": 4,
   "metadata": {
    "collapsed": true
   },
   "outputs": [],
   "source": [
    "from collections import Counter\n",
    "\n",
    "def get_top_categories(num_categories):\n",
    "    category_counter = []\n",
    "    for fileid in judgments.fileids():\n",
    "        category_counter.extend(judgments.categories(fileid))\n",
    "    return [pairs[0] for pairs in Counter(category_counter).most_common(num_categories)]"
   ]
  },
  {
   "cell_type": "code",
   "execution_count": 5,
   "metadata": {},
   "outputs": [
    {
     "data": {
      "text/plain": [
       "['civil_procedure',\n",
       " 'contract',\n",
       " 'criminal_procedure_and_sentencing',\n",
       " 'criminal_law',\n",
       " 'tort',\n",
       " 'family_law',\n",
       " 'companies',\n",
       " 'evidence',\n",
       " 'land',\n",
       " 'damages']"
      ]
     },
     "execution_count": 5,
     "metadata": {},
     "output_type": "execute_result"
    }
   ],
   "source": [
    "NUM_CATEGORIES = 10\n",
    "\n",
    "selected_categories = get_top_categories(NUM_CATEGORIES)\n",
    "selected_categories"
   ]
  },
  {
   "cell_type": "code",
   "execution_count": 6,
   "metadata": {},
   "outputs": [
    {
     "data": {
      "text/plain": [
       "3901"
      ]
     },
     "execution_count": 6,
     "metadata": {},
     "output_type": "execute_result"
    }
   ],
   "source": [
    "train_docs_ids = [\n",
    "    fileid for fileid in judgments.fileids() if fileid.startswith('training') \n",
    "    #and any(category in judgments.categories(fileid) for category in selected_categories)\n",
    "]\n",
    "len(train_docs_ids)"
   ]
  },
  {
   "cell_type": "code",
   "execution_count": 7,
   "metadata": {},
   "outputs": [
    {
     "data": {
      "text/plain": [
       "1301"
      ]
     },
     "execution_count": 7,
     "metadata": {},
     "output_type": "execute_result"
    }
   ],
   "source": [
    "test_docs_ids = [\n",
    "    fileid for fileid in judgments.fileids() if fileid.startswith('test') \n",
    "    #and any(category in judgments.categories(fileid) for category in selected_categories)\n",
    "]\n",
    "len(test_docs_ids)"
   ]
  },
  {
   "cell_type": "code",
   "execution_count": 8,
   "metadata": {},
   "outputs": [
    {
     "data": {
      "text/plain": [
       "3841"
      ]
     },
     "execution_count": 8,
     "metadata": {},
     "output_type": "execute_result"
    }
   ],
   "source": [
    "selected_docs_ids = [\n",
    "    fileid for fileid in judgments.fileids() if any(category in judgments.categories(fileid) for category in selected_categories)\n",
    "]\n",
    "len(selected_docs_ids)"
   ]
  },
  {
   "cell_type": "code",
   "execution_count": 9,
   "metadata": {
    "collapsed": true
   },
   "outputs": [],
   "source": [
    "import numpy as np\n",
    "\n",
    "train_labels = np.zeros((len(train_docs_ids), NUM_CATEGORIES))\n",
    "test_labels = np.zeros((len(test_docs_ids), NUM_CATEGORIES))\n",
    "\n",
    "for idx, docid in enumerate(train_docs_ids):\n",
    "    for category in judgments.categories(docid):\n",
    "        if category in selected_categories:\n",
    "            train_labels.itemset((idx, selected_categories.index(category)), 1)\n",
    "\n",
    "for idx, docid in enumerate(test_docs_ids):\n",
    "    for category in judgments.categories(docid):\n",
    "        if category in selected_categories:\n",
    "            test_labels.itemset((idx, selected_categories.index(category)), 1)"
   ]
  },
  {
   "cell_type": "code",
   "execution_count": 10,
   "metadata": {},
   "outputs": [
    {
     "data": {
      "text/plain": [
       "3901"
      ]
     },
     "execution_count": 10,
     "metadata": {},
     "output_type": "execute_result"
    }
   ],
   "source": [
    "len(train_labels)"
   ]
  },
  {
   "cell_type": "code",
   "execution_count": 11,
   "metadata": {},
   "outputs": [
    {
     "data": {
      "text/plain": [
       "1301"
      ]
     },
     "execution_count": 11,
     "metadata": {},
     "output_type": "execute_result"
    }
   ],
   "source": [
    "len(test_labels)"
   ]
  },
  {
   "cell_type": "code",
   "execution_count": 12,
   "metadata": {
    "collapsed": true
   },
   "outputs": [],
   "source": [
    "from nltk.tokenize import word_tokenize\n",
    "from nltk.corpus import stopwords\n",
    "from nltk.stem import WordNetLemmatizer\n",
    "\n",
    "stopwords = set (stopwords.words('english'))\n",
    "\n",
    "def get_tokens(text):\n",
    "    text = text.lower()\n",
    "    tokens = word_tokenize(text)\n",
    "    tokens = [t for t in tokens if len(t) > 2]\n",
    "    tokens = [t for t in tokens if t not in stopwords]\n",
    "    tokens = [t for t in tokens if t not in \"would also may could whether may\".split()]\n",
    "    tokens = [WordNetLemmatizer().lemmatize(t) for t in tokens]\n",
    "    tokens = [t for t in tokens if not any(c.isdigit() for c in t)]\n",
    "    return tokens"
   ]
  },
  {
   "cell_type": "code",
   "execution_count": 12,
   "metadata": {
    "collapsed": true
   },
   "outputs": [],
   "source": [
    "train_docs = [judgments.raw(doc_id) for doc_id in train_docs_ids]\n",
    "test_docs = [judgments.raw(doc_id) for doc_id in test_docs_ids]"
   ]
  },
  {
   "cell_type": "code",
   "execution_count": 23,
   "metadata": {
    "collapsed": true
   },
   "outputs": [],
   "source": [
    "from sklearn.feature_extraction.text import TfidfVectorizer\n",
    "from sklearn.svm import LinearSVC\n",
    "from sklearn.multiclass import OneVsRestClassifier\n",
    "\n",
    "# Tokenization, learn and transform training docs, transform test docs\n",
    "vectorizer = TfidfVectorizer(stop_words=stopwords, tokenizer=get_tokens)\n",
    "vectorized_train_docs = vectorizer.fit_transform(train_docs)\n",
    "vectorized_test_docs = vectorizer.transform(test_docs)"
   ]
  },
  {
   "cell_type": "code",
   "execution_count": null,
   "metadata": {
    "collapsed": true
   },
   "outputs": [],
   "source": [
    "#from sklearn.preprocessing import MultiLabelBinarizer\n",
    "# Transform mutilabel labels\n",
    "mlb = MultiLabelBinarizer()\n",
    "train_labels = mlb.fit_transform([judgments.categories(doc_id) for doc_id in train_docs_ids])\n",
    "test_labels = mlb.transform([judgments.categories(doc_id) for doc_id in test_docs_ids])"
   ]
  },
  {
   "cell_type": "code",
   "execution_count": 53,
   "metadata": {},
   "outputs": [
    {
     "data": {
      "text/plain": [
       "OneVsRestClassifier(estimator=LinearSVC(C=1.0, class_weight=None, dual=True, fit_intercept=True,\n",
       "     intercept_scaling=1, loss='squared_hinge', max_iter=1000,\n",
       "     multi_class='ovr', penalty='l2', random_state=42, tol=0.0001,\n",
       "     verbose=0),\n",
       "          n_jobs=1)"
      ]
     },
     "execution_count": 53,
     "metadata": {},
     "output_type": "execute_result"
    }
   ],
   "source": [
    "# Classifier\n",
    "classifier = OneVsRestClassifier(LinearSVC(random_state=42))\n",
    "classifier.fit(vectorized_train_docs, train_labels)"
   ]
  },
  {
   "cell_type": "code",
   "execution_count": 54,
   "metadata": {},
   "outputs": [
    {
     "data": {
      "text/plain": [
       "(1301, 20)"
      ]
     },
     "execution_count": 54,
     "metadata": {},
     "output_type": "execute_result"
    }
   ],
   "source": [
    "predictions = classifier.predict(vectorized_test_docs)\n",
    "predictions.shape"
   ]
  },
  {
   "cell_type": "code",
   "execution_count": 55,
   "metadata": {},
   "outputs": [
    {
     "name": "stdout",
     "output_type": "stream",
     "text": [
      "Micro-average quality numbers\n",
      "Precision: 0.8065, Recall: 0.5544, F1-measure: 0.6571\n",
      "Macro-average quality numbers\n",
      "Precision: 0.7501, Recall: 0.4920, F1-measure: 0.5759\n"
     ]
    }
   ],
   "source": [
    "# Evaluation\n",
    "# Micro-average: Every assignment (document, label) has the same importance. Common categories have more effect over the aggregate quality than smaller ones.\n",
    "# Macro-average: The quality for each category is calculated independently and their average is reported. All the categories are equally important.\n",
    "\n",
    "# Top 20 categories\n",
    "\n",
    "from sklearn.metrics import f1_score, precision_score, recall_score\n",
    " \n",
    "precision = precision_score(test_labels, predictions, average='micro')\n",
    "recall = recall_score(test_labels, predictions, average='micro')\n",
    "f1 = f1_score(test_labels, predictions, average='micro')\n",
    " \n",
    "print(\"Micro-average quality numbers\")\n",
    "print(\"Precision: {:.4f}, Recall: {:.4f}, F1-measure: {:.4f}\".format(precision, recall, f1))\n",
    " \n",
    "precision = precision_score(test_labels, predictions, average='macro')\n",
    "recall = recall_score(test_labels, predictions, average='macro')\n",
    "f1 = f1_score(test_labels, predictions, average='macro')\n",
    " \n",
    "print(\"Macro-average quality numbers\")\n",
    "print(\"Precision: {:.4f}, Recall: {:.4f}, F1-measure: {:.4f}\".format(precision, recall, f1))"
   ]
  },
  {
   "cell_type": "code",
   "execution_count": 26,
   "metadata": {},
   "outputs": [
    {
     "name": "stdout",
     "output_type": "stream",
     "text": [
      "Micro-average quality numbers\n",
      "Precision: 0.8062, Recall: 0.5663, F1-measure: 0.6652\n",
      "Macro-average quality numbers\n",
      "Precision: 0.7434, Recall: 0.5140, F1-measure: 0.5910\n"
     ]
    }
   ],
   "source": [
    "# Evaluation\n",
    "# Micro-average: Every assignment (document, label) has the same importance. Common categories have more effect over the aggregate quality than smaller ones.\n",
    "# Macro-average: The quality for each category is calculated independently and their average is reported. All the categories are equally important.\n",
    "\n",
    "# Top 15 categories\n",
    "\n",
    "from sklearn.metrics import f1_score, precision_score, recall_score\n",
    " \n",
    "precision = precision_score(test_labels, predictions, average='micro')\n",
    "recall = recall_score(test_labels, predictions, average='micro')\n",
    "f1 = f1_score(test_labels, predictions, average='micro')\n",
    " \n",
    "print(\"Micro-average quality numbers\")\n",
    "print(\"Precision: {:.4f}, Recall: {:.4f}, F1-measure: {:.4f}\".format(precision, recall, f1))\n",
    " \n",
    "precision = precision_score(test_labels, predictions, average='macro')\n",
    "recall = recall_score(test_labels, predictions, average='macro')\n",
    "f1 = f1_score(test_labels, predictions, average='macro')\n",
    " \n",
    "print(\"Macro-average quality numbers\")\n",
    "print(\"Precision: {:.4f}, Recall: {:.4f}, F1-measure: {:.4f}\".format(precision, recall, f1))"
   ]
  },
  {
   "cell_type": "code",
   "execution_count": 36,
   "metadata": {},
   "outputs": [
    {
     "name": "stdout",
     "output_type": "stream",
     "text": [
      "Micro-average quality numbers\n",
      "Precision: 0.8030, Recall: 0.5723, F1-measure: 0.6683\n",
      "Macro-average quality numbers\n",
      "Precision: 0.8183, Recall: 0.5475, F1-measure: 0.6389\n"
     ]
    }
   ],
   "source": [
    "# Evaluation\n",
    "# Micro-average: Every assignment (document, label) has the same importance. Common categories have more effect over the aggregate quality than smaller ones.\n",
    "# Macro-average: The quality for each category is calculated independently and their average is reported. All the categories are equally important.\n",
    "\n",
    "# Top 10 categories\n",
    "\n",
    "from sklearn.metrics import f1_score, precision_score, recall_score\n",
    " \n",
    "precision = precision_score(test_labels, predictions, average='micro')\n",
    "recall = recall_score(test_labels, predictions, average='micro')\n",
    "f1 = f1_score(test_labels, predictions, average='micro')\n",
    " \n",
    "print(\"Micro-average quality numbers\")\n",
    "print(\"Precision: {:.4f}, Recall: {:.4f}, F1-measure: {:.4f}\".format(precision, recall, f1))\n",
    " \n",
    "precision = precision_score(test_labels, predictions, average='macro')\n",
    "recall = recall_score(test_labels, predictions, average='macro')\n",
    "f1 = f1_score(test_labels, predictions, average='macro')\n",
    " \n",
    "print(\"Macro-average quality numbers\")\n",
    "print(\"Precision: {:.4f}, Recall: {:.4f}, F1-measure: {:.4f}\".format(precision, recall, f1))"
   ]
  },
  {
   "cell_type": "code",
   "execution_count": 41,
   "metadata": {},
   "outputs": [
    {
     "name": "stdout",
     "output_type": "stream",
     "text": [
      "Micro-average quality numbers\n",
      "Precision: 0.7948, Recall: 0.6068, F1-measure: 0.6882\n",
      "Macro-average quality numbers\n",
      "Precision: 0.8067, Recall: 0.6144, F1-measure: 0.6884\n"
     ]
    }
   ],
   "source": [
    "# Evaluation\n",
    "# Micro-average: Every assignment (document, label) has the same importance. Common categories have more effect over the aggregate quality than smaller ones.\n",
    "# Macro-average: The quality for each category is calculated independently and their average is reported. All the categories are equally important.\n",
    "\n",
    "# Top 7 categories\n",
    "\n",
    "from sklearn.metrics import f1_score, precision_score, recall_score\n",
    " \n",
    "precision = precision_score(test_labels, predictions, average='micro')\n",
    "recall = recall_score(test_labels, predictions, average='micro')\n",
    "f1 = f1_score(test_labels, predictions, average='micro')\n",
    " \n",
    "print(\"Micro-average quality numbers\")\n",
    "print(\"Precision: {:.4f}, Recall: {:.4f}, F1-measure: {:.4f}\".format(precision, recall, f1))\n",
    " \n",
    "precision = precision_score(test_labels, predictions, average='macro')\n",
    "recall = recall_score(test_labels, predictions, average='macro')\n",
    "f1 = f1_score(test_labels, predictions, average='macro')\n",
    " \n",
    "print(\"Macro-average quality numbers\")\n",
    "print(\"Precision: {:.4f}, Recall: {:.4f}, F1-measure: {:.4f}\".format(precision, recall, f1))"
   ]
  },
  {
   "cell_type": "code",
   "execution_count": 31,
   "metadata": {},
   "outputs": [
    {
     "name": "stdout",
     "output_type": "stream",
     "text": [
      "Micro-average quality numbers\n",
      "Precision: 0.7778, Recall: 0.5950, F1-measure: 0.6742\n",
      "Macro-average quality numbers\n",
      "Precision: 0.7735, Recall: 0.5828, F1-measure: 0.6590\n"
     ]
    }
   ],
   "source": [
    "# Evaluation\n",
    "# Micro-average: Every assignment (document, label) has the same importance. Common categories have more effect over the aggregate quality than smaller ones.\n",
    "# Macro-average: The quality for each category is calculated independently and their average is reported. All the categories are equally important.\n",
    "\n",
    "# Top 5 categories\n",
    "\n",
    "from sklearn.metrics import f1_score, precision_score, recall_score\n",
    " \n",
    "precision = precision_score(test_labels, predictions, average='micro')\n",
    "recall = recall_score(test_labels, predictions, average='micro')\n",
    "f1 = f1_score(test_labels, predictions, average='micro')\n",
    " \n",
    "print(\"Micro-average quality numbers\")\n",
    "print(\"Precision: {:.4f}, Recall: {:.4f}, F1-measure: {:.4f}\".format(precision, recall, f1))\n",
    " \n",
    "precision = precision_score(test_labels, predictions, average='macro')\n",
    "recall = recall_score(test_labels, predictions, average='macro')\n",
    "f1 = f1_score(test_labels, predictions, average='macro')\n",
    " \n",
    "print(\"Macro-average quality numbers\")\n",
    "print(\"Precision: {:.4f}, Recall: {:.4f}, F1-measure: {:.4f}\".format(precision, recall, f1))"
   ]
  },
  {
   "cell_type": "code",
   "execution_count": 48,
   "metadata": {},
   "outputs": [
    {
     "name": "stdout",
     "output_type": "stream",
     "text": [
      "Micro-average quality numbers\n",
      "Precision: 0.7773, Recall: 0.6066, F1-measure: 0.6814\n",
      "Macro-average quality numbers\n",
      "Precision: 0.7700, Recall: 0.6065, F1-measure: 0.6767\n"
     ]
    }
   ],
   "source": [
    "# Evaluation\n",
    "# Micro-average: Every assignment (document, label) has the same importance. Common categories have more effect over the aggregate quality than smaller ones.\n",
    "# Macro-average: The quality for each category is calculated independently and their average is reported. All the categories are equally important.\n",
    "\n",
    "# Top 3 categories\n",
    "\n",
    "from sklearn.metrics import f1_score, precision_score, recall_score\n",
    " \n",
    "precision = precision_score(test_labels, predictions, average='micro')\n",
    "recall = recall_score(test_labels, predictions, average='micro')\n",
    "f1 = f1_score(test_labels, predictions, average='micro')\n",
    " \n",
    "print(\"Micro-average quality numbers\")\n",
    "print(\"Precision: {:.4f}, Recall: {:.4f}, F1-measure: {:.4f}\".format(precision, recall, f1))\n",
    " \n",
    "precision = precision_score(test_labels, predictions, average='macro')\n",
    "recall = recall_score(test_labels, predictions, average='macro')\n",
    "f1 = f1_score(test_labels, predictions, average='macro')\n",
    " \n",
    "print(\"Macro-average quality numbers\")\n",
    "print(\"Precision: {:.4f}, Recall: {:.4f}, F1-measure: {:.4f}\".format(precision, recall, f1))"
   ]
  },
  {
   "cell_type": "code",
   "execution_count": 56,
   "metadata": {},
   "outputs": [
    {
     "data": {
      "text/plain": [
       "'training/12481'"
      ]
     },
     "execution_count": 56,
     "metadata": {},
     "output_type": "execute_result"
    }
   ],
   "source": [
    "train_docs_ids[0]"
   ]
  },
  {
   "cell_type": "code",
   "execution_count": 13,
   "metadata": {},
   "outputs": [
    {
     "name": "stderr",
     "output_type": "stream",
     "text": [
      "C:\\Users\\howkh\\Anaconda3\\envs\\py35\\lib\\site-packages\\gensim\\utils.py:855: UserWarning: detected Windows; aliasing chunkize to chunkize_serial\n",
      "  warnings.warn(\"detected Windows; aliasing chunkize to chunkize_serial\")\n"
     ]
    }
   ],
   "source": [
    "import gensim\n",
    "\n",
    "from gensim.models.doc2vec import TaggedDocument\n",
    "assert gensim.models.doc2vec.FAST_VERSION > -1\n",
    "\n",
    "train_tagged_docs = [TaggedDocument(get_tokens(judgments.raw(fileid)), [fileid.split(\"/\")[1]]) for fileid in train_docs_ids]"
   ]
  },
  {
   "cell_type": "code",
   "execution_count": 14,
   "metadata": {
    "collapsed": true
   },
   "outputs": [],
   "source": [
    "model = gensim.models.doc2vec.Doc2Vec(size=50, min_count=3, workers=4, window=8, alpha=0.025, min_alpha=0.025)\n",
    "model.build_vocab(train_tagged_docs)\n",
    "for epoch in range(10):\n",
    "    model.train(train_tagged_docs)\n",
    "    model.alpha -= 0.002\n",
    "    model.min_alpha = model.alpha\n",
    "model.save('trained.doc2vec')"
   ]
  },
  {
   "cell_type": "code",
   "execution_count": 1,
   "metadata": {},
   "outputs": [
    {
     "ename": "NameError",
     "evalue": "name 'gensim' is not defined",
     "output_type": "error",
     "traceback": [
      "\u001b[0;31m---------------------------------------------------------------------------\u001b[0m",
      "\u001b[0;31mNameError\u001b[0m                                 Traceback (most recent call last)",
      "\u001b[0;32m<ipython-input-1-b4cace0253a4>\u001b[0m in \u001b[0;36m<module>\u001b[0;34m()\u001b[0m\n\u001b[0;32m----> 1\u001b[0;31m \u001b[0mmodel\u001b[0m \u001b[1;33m=\u001b[0m \u001b[0mgensim\u001b[0m\u001b[1;33m.\u001b[0m\u001b[0mmodels\u001b[0m\u001b[1;33m.\u001b[0m\u001b[0mdoc2vec\u001b[0m\u001b[1;33m.\u001b[0m\u001b[0mDoc2Vec\u001b[0m\u001b[1;33m.\u001b[0m\u001b[0mload\u001b[0m\u001b[1;33m(\u001b[0m\u001b[1;34m'trained.doc2vec'\u001b[0m\u001b[1;33m)\u001b[0m\u001b[1;33m\u001b[0m\u001b[0m\n\u001b[0m",
      "\u001b[0;31mNameError\u001b[0m: name 'gensim' is not defined"
     ]
    }
   ],
   "source": [
    "model = gensim.models.doc2vec.Doc2Vec.load('trained.doc2vec')"
   ]
  },
  {
   "cell_type": "code",
   "execution_count": 15,
   "metadata": {},
   "outputs": [
    {
     "data": {
      "text/plain": [
       "(50,)"
      ]
     },
     "execution_count": 15,
     "metadata": {},
     "output_type": "execute_result"
    }
   ],
   "source": [
    "model.docvecs[0].shape"
   ]
  },
  {
   "cell_type": "code",
   "execution_count": 16,
   "metadata": {
    "collapsed": true
   },
   "outputs": [],
   "source": [
    "test_doc = model.infer_vector(get_tokens(judgments.raw('test/22821')))"
   ]
  },
  {
   "cell_type": "code",
   "execution_count": 17,
   "metadata": {},
   "outputs": [
    {
     "data": {
      "text/plain": [
       "(50,)"
      ]
     },
     "execution_count": 17,
     "metadata": {},
     "output_type": "execute_result"
    }
   ],
   "source": [
    "test_doc.shape"
   ]
  },
  {
   "cell_type": "code",
   "execution_count": 64,
   "metadata": {},
   "outputs": [
    {
     "data": {
      "text/plain": [
       "[('22744', 0.7519214749336243),\n",
       " ('15103', 0.7250633835792542),\n",
       " ('22723', 0.7186082601547241),\n",
       " ('22602', 0.7177111506462097),\n",
       " ('15775', 0.7088651657104492),\n",
       " ('20446', 0.7039706110954285),\n",
       " ('15388', 0.6877029538154602),\n",
       " ('18014', 0.6870896816253662),\n",
       " ('22770', 0.6866070628166199),\n",
       " ('18182', 0.6831321716308594)]"
      ]
     },
     "execution_count": 64,
     "metadata": {},
     "output_type": "execute_result"
    }
   ],
   "source": [
    "model.docvecs.most_similar([test_doc])"
   ]
  },
  {
   "cell_type": "code",
   "execution_count": 85,
   "metadata": {},
   "outputs": [
    {
     "data": {
      "text/html": [
       "<div>\n",
       "<style>\n",
       "    .dataframe thead tr:only-child th {\n",
       "        text-align: right;\n",
       "    }\n",
       "\n",
       "    .dataframe thead th {\n",
       "        text-align: left;\n",
       "    }\n",
       "\n",
       "    .dataframe tbody tr th {\n",
       "        vertical-align: top;\n",
       "    }\n",
       "</style>\n",
       "<table border=\"1\" class=\"dataframe\">\n",
       "  <thead>\n",
       "    <tr style=\"text-align: right;\">\n",
       "      <th></th>\n",
       "      <th>index</th>\n",
       "      <th>name</th>\n",
       "      <th>citation</th>\n",
       "      <th>author</th>\n",
       "      <th>case_no</th>\n",
       "      <th>date</th>\n",
       "      <th>court</th>\n",
       "      <th>coram</th>\n",
       "      <th>counsel</th>\n",
       "      <th>reserved</th>\n",
       "      <th>catchwords-1</th>\n",
       "      <th>catchwords-2</th>\n",
       "      <th>url</th>\n",
       "    </tr>\n",
       "  </thead>\n",
       "  <tbody>\n",
       "    <tr>\n",
       "      <th>2611</th>\n",
       "      <td>15103</td>\n",
       "      <td>Public Prosecutor v Hang Tuah bin Jumaat</td>\n",
       "      <td>[2013] SGHC 28</td>\n",
       "      <td>Choo Han Teck J</td>\n",
       "      <td>Criminal Case No 4 of 2012</td>\n",
       "      <td>29 January 2013</td>\n",
       "      <td>High Court</td>\n",
       "      <td>Choo Han Teck J</td>\n",
       "      <td>Kavita Uthrapathy and Adrian Loo Yu Hao (Attor...</td>\n",
       "      <td>NaN</td>\n",
       "      <td>criminal_law</td>\n",
       "      <td>NaN</td>\n",
       "      <td>http://www.singaporelaw.sg/sglaw/laws-of-singa...</td>\n",
       "    </tr>\n",
       "    <tr>\n",
       "      <th>2831</th>\n",
       "      <td>15388</td>\n",
       "      <td>Public Prosecutor v Chum Tat Suan</td>\n",
       "      <td>[2013] SGHC 221</td>\n",
       "      <td>Choo Han Teck J</td>\n",
       "      <td>Criminal Case No 1 of 2012</td>\n",
       "      <td>24 October 2013</td>\n",
       "      <td>High Court</td>\n",
       "      <td>Choo Han Teck J</td>\n",
       "      <td>Mohamed Faizal and Qiu Huixiang (Attorney-Gene...</td>\n",
       "      <td>Judgment reserved</td>\n",
       "      <td>criminal_law</td>\n",
       "      <td>criminal_law-statutory_offences</td>\n",
       "      <td>http://www.singaporelaw.sg/sglaw/laws-of-singa...</td>\n",
       "    </tr>\n",
       "    <tr>\n",
       "      <th>3153</th>\n",
       "      <td>15775</td>\n",
       "      <td>Public Prosecutor v Purushothaman a/l Subramaniam</td>\n",
       "      <td>[2014] SGHC 231</td>\n",
       "      <td>Tan Siong Thye J</td>\n",
       "      <td>Criminal Case No 27 of 2014</td>\n",
       "      <td>10 November 2014</td>\n",
       "      <td>High Court</td>\n",
       "      <td>Tan Siong Thye J</td>\n",
       "      <td>Lau Wing Yum and Seraphina Fong (Attorney-Gene...</td>\n",
       "      <td>NaN</td>\n",
       "      <td>criminal_procedure_and_sentencing</td>\n",
       "      <td>criminal_procedure_and_sentencing-sentencing</td>\n",
       "      <td>http://www.singaporelaw.sg/sglaw/laws-of-singa...</td>\n",
       "    </tr>\n",
       "    <tr>\n",
       "      <th>3477</th>\n",
       "      <td>18014</td>\n",
       "      <td>Public Prosecutor v Mahesvaran a/l Sivalingam</td>\n",
       "      <td>[2014] SGHC 182</td>\n",
       "      <td>Tan Siong Thye J</td>\n",
       "      <td>Criminal Case No 30 of 2014</td>\n",
       "      <td>17 September 2014</td>\n",
       "      <td>High Court</td>\n",
       "      <td>Tan Siong Thye J</td>\n",
       "      <td>Tan Wen Hsien and N K Anitha (Attorney General...</td>\n",
       "      <td>NaN</td>\n",
       "      <td>criminal_law</td>\n",
       "      <td>criminal_law-statutory_offences</td>\n",
       "      <td>http://www.singaporelaw.sg/sglaw/laws-of-singa...</td>\n",
       "    </tr>\n",
       "    <tr>\n",
       "      <th>3644</th>\n",
       "      <td>18182</td>\n",
       "      <td>Public Prosecutor v Hamidah bte Awang and another</td>\n",
       "      <td>[2015] SGHC 270</td>\n",
       "      <td>Lee Seiu Kin J</td>\n",
       "      <td>Criminal Case No 32 of 2014</td>\n",
       "      <td>16 October 2015</td>\n",
       "      <td>High Court</td>\n",
       "      <td>Lee Seiu Kin J</td>\n",
       "      <td>Ng Cheng Thiam and Chee Min Ping (Attorney-Gen...</td>\n",
       "      <td>NaN</td>\n",
       "      <td>criminal_law</td>\n",
       "      <td>criminal_law-statutory_offences</td>\n",
       "      <td>http://www.singaporelaw.sg/sglaw/laws-of-singa...</td>\n",
       "    </tr>\n",
       "    <tr>\n",
       "      <th>4023</th>\n",
       "      <td>20446</td>\n",
       "      <td>Public Prosecutor v Sibeko Lindiwe Mary-Jane</td>\n",
       "      <td>[2016] SGHC 228</td>\n",
       "      <td>Lee Seiu Kin J</td>\n",
       "      <td>Criminal Case No 24 of 2016</td>\n",
       "      <td>19 October 2016</td>\n",
       "      <td>High Court</td>\n",
       "      <td>Lee Seiu Kin J</td>\n",
       "      <td>Ma Hanfeng and Kenny Yang (Attorney-General's ...</td>\n",
       "      <td>NaN</td>\n",
       "      <td>criminal_procedure_and_sentencing</td>\n",
       "      <td>criminal_procedure_and_sentencing-sentencing</td>\n",
       "      <td>http://www.singaporelaw.sg/sglaw/laws-of-singa...</td>\n",
       "    </tr>\n",
       "    <tr>\n",
       "      <th>5112</th>\n",
       "      <td>22602</td>\n",
       "      <td>Public Prosecutor v Mohamad Noor bin Abdullah</td>\n",
       "      <td>[2016] SGHC 257</td>\n",
       "      <td>Lee Seiu Kin J</td>\n",
       "      <td>Criminal Case No 54 of 2016</td>\n",
       "      <td>18 November 2016</td>\n",
       "      <td>High Court</td>\n",
       "      <td>Lee Seiu Kin J</td>\n",
       "      <td>Lau Wing Yum and Tan Yanying (Attorney-General...</td>\n",
       "      <td>NaN</td>\n",
       "      <td>evidence;criminal_law;criminal_procedure_and_s...</td>\n",
       "      <td>evidence-proof_of_evidence;criminal_law-statut...</td>\n",
       "      <td>http://www.singaporelaw.sg/sglaw/laws-of-singa...</td>\n",
       "    </tr>\n",
       "    <tr>\n",
       "      <th>5199</th>\n",
       "      <td>22723</td>\n",
       "      <td>Public Prosecutor v Razak bin Bashir</td>\n",
       "      <td>[2017] SGHC 33</td>\n",
       "      <td>Woo Bih Li J</td>\n",
       "      <td>Criminal Case No 7 of 2017</td>\n",
       "      <td>24 February 2017</td>\n",
       "      <td>High Court</td>\n",
       "      <td>Woo Bih Li J</td>\n",
       "      <td>Tan YanYing and Terence Chua (Attorney-General...</td>\n",
       "      <td>NaN</td>\n",
       "      <td>criminal_procedure_and_sentencing</td>\n",
       "      <td>criminal_procedure_and_sentencing-sentencing</td>\n",
       "      <td>http://www.singaporelaw.sg/sglaw/laws-of-singa...</td>\n",
       "    </tr>\n",
       "    <tr>\n",
       "      <th>5220</th>\n",
       "      <td>22744</td>\n",
       "      <td>Public Prosecutor v Pandian a/l Subramaniam</td>\n",
       "      <td>[2017] SGHC 55</td>\n",
       "      <td>Pang Khang Chau JC</td>\n",
       "      <td>Criminal Case No 21 of 2017</td>\n",
       "      <td>14 March 2017</td>\n",
       "      <td>High Court</td>\n",
       "      <td>Pang Khang Chau JC</td>\n",
       "      <td>Lu Zhuoren John and Chan Yi Cheng (Attorney-Ge...</td>\n",
       "      <td>NaN</td>\n",
       "      <td>criminal_law</td>\n",
       "      <td>criminal_law-statutory_offences</td>\n",
       "      <td>http://www.singaporelaw.sg/sglaw/laws-of-singa...</td>\n",
       "    </tr>\n",
       "    <tr>\n",
       "      <th>5246</th>\n",
       "      <td>22770</td>\n",
       "      <td>Public Prosecutor v Alagesan Nathan and another</td>\n",
       "      <td>[2017] SGHC 67</td>\n",
       "      <td>Audrey Lim JC</td>\n",
       "      <td>Criminal Case No 20 of 2017</td>\n",
       "      <td>03 April 2017</td>\n",
       "      <td>High Court</td>\n",
       "      <td>Audrey Lim JC</td>\n",
       "      <td>Wong Woon Kwong and Star Chen (Attorney-Genera...</td>\n",
       "      <td>NaN</td>\n",
       "      <td>criminal_procedure_and_sentencing</td>\n",
       "      <td>criminal_procedure_and_sentencing-sentencing</td>\n",
       "      <td>http://www.singaporelaw.sg/sglaw/laws-of-singa...</td>\n",
       "    </tr>\n",
       "  </tbody>\n",
       "</table>\n",
       "</div>"
      ],
      "text/plain": [
       "      index                                               name  \\\n",
       "2611  15103           Public Prosecutor v Hang Tuah bin Jumaat   \n",
       "2831  15388                  Public Prosecutor v Chum Tat Suan   \n",
       "3153  15775  Public Prosecutor v Purushothaman a/l Subramaniam   \n",
       "3477  18014      Public Prosecutor v Mahesvaran a/l Sivalingam   \n",
       "3644  18182  Public Prosecutor v Hamidah bte Awang and another   \n",
       "4023  20446       Public Prosecutor v Sibeko Lindiwe Mary-Jane   \n",
       "5112  22602      Public Prosecutor v Mohamad Noor bin Abdullah   \n",
       "5199  22723               Public Prosecutor v Razak bin Bashir   \n",
       "5220  22744        Public Prosecutor v Pandian a/l Subramaniam   \n",
       "5246  22770    Public Prosecutor v Alagesan Nathan and another   \n",
       "\n",
       "             citation              author                      case_no  \\\n",
       "2611   [2013] SGHC 28     Choo Han Teck J   Criminal Case No 4 of 2012   \n",
       "2831  [2013] SGHC 221     Choo Han Teck J   Criminal Case No 1 of 2012   \n",
       "3153  [2014] SGHC 231    Tan Siong Thye J  Criminal Case No 27 of 2014   \n",
       "3477  [2014] SGHC 182    Tan Siong Thye J  Criminal Case No 30 of 2014   \n",
       "3644  [2015] SGHC 270      Lee Seiu Kin J  Criminal Case No 32 of 2014   \n",
       "4023  [2016] SGHC 228      Lee Seiu Kin J  Criminal Case No 24 of 2016   \n",
       "5112  [2016] SGHC 257      Lee Seiu Kin J  Criminal Case No 54 of 2016   \n",
       "5199   [2017] SGHC 33        Woo Bih Li J   Criminal Case No 7 of 2017   \n",
       "5220   [2017] SGHC 55  Pang Khang Chau JC  Criminal Case No 21 of 2017   \n",
       "5246   [2017] SGHC 67       Audrey Lim JC  Criminal Case No 20 of 2017   \n",
       "\n",
       "                   date       court               coram  \\\n",
       "2611    29 January 2013  High Court     Choo Han Teck J   \n",
       "2831    24 October 2013  High Court     Choo Han Teck J   \n",
       "3153   10 November 2014  High Court    Tan Siong Thye J   \n",
       "3477  17 September 2014  High Court    Tan Siong Thye J   \n",
       "3644    16 October 2015  High Court      Lee Seiu Kin J   \n",
       "4023    19 October 2016  High Court      Lee Seiu Kin J   \n",
       "5112   18 November 2016  High Court      Lee Seiu Kin J   \n",
       "5199   24 February 2017  High Court        Woo Bih Li J   \n",
       "5220      14 March 2017  High Court  Pang Khang Chau JC   \n",
       "5246      03 April 2017  High Court       Audrey Lim JC   \n",
       "\n",
       "                                                counsel           reserved  \\\n",
       "2611  Kavita Uthrapathy and Adrian Loo Yu Hao (Attor...                NaN   \n",
       "2831  Mohamed Faizal and Qiu Huixiang (Attorney-Gene...  Judgment reserved   \n",
       "3153  Lau Wing Yum and Seraphina Fong (Attorney-Gene...                NaN   \n",
       "3477  Tan Wen Hsien and N K Anitha (Attorney General...                NaN   \n",
       "3644  Ng Cheng Thiam and Chee Min Ping (Attorney-Gen...                NaN   \n",
       "4023  Ma Hanfeng and Kenny Yang (Attorney-General's ...                NaN   \n",
       "5112  Lau Wing Yum and Tan Yanying (Attorney-General...                NaN   \n",
       "5199  Tan YanYing and Terence Chua (Attorney-General...                NaN   \n",
       "5220  Lu Zhuoren John and Chan Yi Cheng (Attorney-Ge...                NaN   \n",
       "5246  Wong Woon Kwong and Star Chen (Attorney-Genera...                NaN   \n",
       "\n",
       "                                           catchwords-1  \\\n",
       "2611                                       criminal_law   \n",
       "2831                                       criminal_law   \n",
       "3153                  criminal_procedure_and_sentencing   \n",
       "3477                                       criminal_law   \n",
       "3644                                       criminal_law   \n",
       "4023                  criminal_procedure_and_sentencing   \n",
       "5112  evidence;criminal_law;criminal_procedure_and_s...   \n",
       "5199                  criminal_procedure_and_sentencing   \n",
       "5220                                       criminal_law   \n",
       "5246                  criminal_procedure_and_sentencing   \n",
       "\n",
       "                                           catchwords-2  \\\n",
       "2611                                                NaN   \n",
       "2831                    criminal_law-statutory_offences   \n",
       "3153       criminal_procedure_and_sentencing-sentencing   \n",
       "3477                    criminal_law-statutory_offences   \n",
       "3644                    criminal_law-statutory_offences   \n",
       "4023       criminal_procedure_and_sentencing-sentencing   \n",
       "5112  evidence-proof_of_evidence;criminal_law-statut...   \n",
       "5199       criminal_procedure_and_sentencing-sentencing   \n",
       "5220                    criminal_law-statutory_offences   \n",
       "5246       criminal_procedure_and_sentencing-sentencing   \n",
       "\n",
       "                                                    url  \n",
       "2611  http://www.singaporelaw.sg/sglaw/laws-of-singa...  \n",
       "2831  http://www.singaporelaw.sg/sglaw/laws-of-singa...  \n",
       "3153  http://www.singaporelaw.sg/sglaw/laws-of-singa...  \n",
       "3477  http://www.singaporelaw.sg/sglaw/laws-of-singa...  \n",
       "3644  http://www.singaporelaw.sg/sglaw/laws-of-singa...  \n",
       "4023  http://www.singaporelaw.sg/sglaw/laws-of-singa...  \n",
       "5112  http://www.singaporelaw.sg/sglaw/laws-of-singa...  \n",
       "5199  http://www.singaporelaw.sg/sglaw/laws-of-singa...  \n",
       "5220  http://www.singaporelaw.sg/sglaw/laws-of-singa...  \n",
       "5246  http://www.singaporelaw.sg/sglaw/laws-of-singa...  "
      ]
     },
     "execution_count": 85,
     "metadata": {},
     "output_type": "execute_result"
    }
   ],
   "source": [
    "df[df['index'].isin([idx for idx, sim in model.docvecs.most_similar([test_doc])])]"
   ]
  },
  {
   "cell_type": "code",
   "execution_count": 18,
   "metadata": {},
   "outputs": [
    {
     "data": {
      "text/plain": [
       "[('20446', 0.769403338432312),\n",
       " ('14429', 0.6676273345947266),\n",
       " ('22163', 0.6563906669616699),\n",
       " ('22744', 0.6544111967086792),\n",
       " ('13793', 0.6285304427146912),\n",
       " ('18014', 0.6267184019088745),\n",
       " ('18182', 0.6263490319252014),\n",
       " ('18458', 0.6246256828308105),\n",
       " ('13789', 0.6238721609115601),\n",
       " ('13510', 0.6082495450973511)]"
      ]
     },
     "execution_count": 18,
     "metadata": {},
     "output_type": "execute_result"
    }
   ],
   "source": [
    "model.docvecs.most_similar([test_doc])"
   ]
  },
  {
   "cell_type": "code",
   "execution_count": 20,
   "metadata": {},
   "outputs": [
    {
     "data": {
      "text/html": [
       "<div>\n",
       "<style>\n",
       "    .dataframe thead tr:only-child th {\n",
       "        text-align: right;\n",
       "    }\n",
       "\n",
       "    .dataframe thead th {\n",
       "        text-align: left;\n",
       "    }\n",
       "\n",
       "    .dataframe tbody tr th {\n",
       "        vertical-align: top;\n",
       "    }\n",
       "</style>\n",
       "<table border=\"1\" class=\"dataframe\">\n",
       "  <thead>\n",
       "    <tr style=\"text-align: right;\">\n",
       "      <th></th>\n",
       "      <th>index</th>\n",
       "      <th>name</th>\n",
       "      <th>citation</th>\n",
       "      <th>author</th>\n",
       "      <th>case_no</th>\n",
       "      <th>date</th>\n",
       "      <th>court</th>\n",
       "      <th>coram</th>\n",
       "      <th>counsel</th>\n",
       "      <th>reserved</th>\n",
       "      <th>catchwords-1</th>\n",
       "      <th>catchwords-2</th>\n",
       "      <th>url</th>\n",
       "    </tr>\n",
       "  </thead>\n",
       "  <tbody>\n",
       "    <tr>\n",
       "      <th>1030</th>\n",
       "      <td>13510</td>\n",
       "      <td>Tay Siew Gek Rachelgina Jasmine v Public Prose...</td>\n",
       "      <td>[2008] SGHC 176</td>\n",
       "      <td>Choo Han Teck J</td>\n",
       "      <td>MA 198/2008</td>\n",
       "      <td>20 Oct 2008</td>\n",
       "      <td>High Court</td>\n",
       "      <td>Choo Han Teck J</td>\n",
       "      <td>Terence Teo Chee Seng (Able Law Practice LLC) ...</td>\n",
       "      <td>Judgment reserved</td>\n",
       "      <td>criminal_procedure_and_sentencing</td>\n",
       "      <td>NaN</td>\n",
       "      <td>http://www.singaporelaw.sg/sglaw/laws-of-singa...</td>\n",
       "    </tr>\n",
       "    <tr>\n",
       "      <th>1309</th>\n",
       "      <td>13789</td>\n",
       "      <td>Public Prosecutor v ABJ</td>\n",
       "      <td>[2009] SGHC 185</td>\n",
       "      <td>Choo Han Teck J</td>\n",
       "      <td>CC 29/2009</td>\n",
       "      <td>14 Aug 2009</td>\n",
       "      <td>High Court</td>\n",
       "      <td>Choo Han Teck J</td>\n",
       "      <td>Gordon Oh (Deputy Public Prosecutor) for the p...</td>\n",
       "      <td>NaN</td>\n",
       "      <td>criminal_procedure_and_sentencing</td>\n",
       "      <td>NaN</td>\n",
       "      <td>http://www.singaporelaw.sg/sglaw/laws-of-singa...</td>\n",
       "    </tr>\n",
       "    <tr>\n",
       "      <th>1313</th>\n",
       "      <td>13793</td>\n",
       "      <td>Public Prosecutor v Tan Chin Hock</td>\n",
       "      <td>[2009] SGHC 189</td>\n",
       "      <td>Choo Han Teck J</td>\n",
       "      <td>CC 36/2009</td>\n",
       "      <td>25 Aug 2009</td>\n",
       "      <td>High Court</td>\n",
       "      <td>Choo Han Teck J</td>\n",
       "      <td>Amarjit Singh and Tan Boon Khai (Deputy Public...</td>\n",
       "      <td>NaN</td>\n",
       "      <td>criminal_law</td>\n",
       "      <td>NaN</td>\n",
       "      <td>http://www.singaporelaw.sg/sglaw/laws-of-singa...</td>\n",
       "    </tr>\n",
       "    <tr>\n",
       "      <th>1943</th>\n",
       "      <td>14429</td>\n",
       "      <td>Choi Byeongkuk v Public Prosecutor</td>\n",
       "      <td>[2011] SGHC 6</td>\n",
       "      <td>Choo Han Teck J</td>\n",
       "      <td>Magistrate’s Appeal No 393 of 2010 (DAC 42066 ...</td>\n",
       "      <td>11 January 2011</td>\n",
       "      <td>High Court</td>\n",
       "      <td>Choo Han Teck J</td>\n",
       "      <td>S K Kumar (S K Kumar &amp; Associates) for the app...</td>\n",
       "      <td>NaN</td>\n",
       "      <td>criminal_procedure_and_sentencing</td>\n",
       "      <td>NaN</td>\n",
       "      <td>http://www.singaporelaw.sg/sglaw/laws-of-singa...</td>\n",
       "    </tr>\n",
       "    <tr>\n",
       "      <th>3477</th>\n",
       "      <td>18014</td>\n",
       "      <td>Public Prosecutor v Mahesvaran a/l Sivalingam</td>\n",
       "      <td>[2014] SGHC 182</td>\n",
       "      <td>Tan Siong Thye J</td>\n",
       "      <td>Criminal Case No 30 of 2014</td>\n",
       "      <td>17 September 2014</td>\n",
       "      <td>High Court</td>\n",
       "      <td>Tan Siong Thye J</td>\n",
       "      <td>Tan Wen Hsien and N K Anitha (Attorney General...</td>\n",
       "      <td>NaN</td>\n",
       "      <td>criminal_law</td>\n",
       "      <td>criminal_law-statutory_offences</td>\n",
       "      <td>http://www.singaporelaw.sg/sglaw/laws-of-singa...</td>\n",
       "    </tr>\n",
       "    <tr>\n",
       "      <th>3644</th>\n",
       "      <td>18182</td>\n",
       "      <td>Public Prosecutor v Hamidah bte Awang and another</td>\n",
       "      <td>[2015] SGHC 270</td>\n",
       "      <td>Lee Seiu Kin J</td>\n",
       "      <td>Criminal Case No 32 of 2014</td>\n",
       "      <td>16 October 2015</td>\n",
       "      <td>High Court</td>\n",
       "      <td>Lee Seiu Kin J</td>\n",
       "      <td>Ng Cheng Thiam and Chee Min Ping (Attorney-Gen...</td>\n",
       "      <td>NaN</td>\n",
       "      <td>criminal_law</td>\n",
       "      <td>criminal_law-statutory_offences</td>\n",
       "      <td>http://www.singaporelaw.sg/sglaw/laws-of-singa...</td>\n",
       "    </tr>\n",
       "    <tr>\n",
       "      <th>3845</th>\n",
       "      <td>18458</td>\n",
       "      <td>Public Prosecutor v Azahari bin Ahmad and another</td>\n",
       "      <td>[2016] SGHC 101</td>\n",
       "      <td>Hoo Sheau Peng JC</td>\n",
       "      <td>Criminal Case No 23 of 2016</td>\n",
       "      <td>23 May 2016</td>\n",
       "      <td>High Court</td>\n",
       "      <td>Hoo Sheau Peng JC</td>\n",
       "      <td>John Lu Zhuoren and Nicholas Wuan Kin Lek (Att...</td>\n",
       "      <td>NaN</td>\n",
       "      <td>criminal_law</td>\n",
       "      <td>criminal_law-statutory_offences</td>\n",
       "      <td>http://www.singaporelaw.sg/sglaw/laws-of-singa...</td>\n",
       "    </tr>\n",
       "    <tr>\n",
       "      <th>4023</th>\n",
       "      <td>20446</td>\n",
       "      <td>Public Prosecutor v Sibeko Lindiwe Mary-Jane</td>\n",
       "      <td>[2016] SGHC 228</td>\n",
       "      <td>Lee Seiu Kin J</td>\n",
       "      <td>Criminal Case No 24 of 2016</td>\n",
       "      <td>19 October 2016</td>\n",
       "      <td>High Court</td>\n",
       "      <td>Lee Seiu Kin J</td>\n",
       "      <td>Ma Hanfeng and Kenny Yang (Attorney-General's ...</td>\n",
       "      <td>NaN</td>\n",
       "      <td>criminal_procedure_and_sentencing</td>\n",
       "      <td>criminal_procedure_and_sentencing-sentencing</td>\n",
       "      <td>http://www.singaporelaw.sg/sglaw/laws-of-singa...</td>\n",
       "    </tr>\n",
       "    <tr>\n",
       "      <th>4676</th>\n",
       "      <td>22163</td>\n",
       "      <td>Public Prosecutor v Jamal anak Nyalau and Others</td>\n",
       "      <td>[2002] SGHC 78</td>\n",
       "      <td>NaN</td>\n",
       "      <td>CC 22/2002</td>\n",
       "      <td>19 Apr 2002</td>\n",
       "      <td>High Court</td>\n",
       "      <td>MPH Rubin J</td>\n",
       "      <td>Daniel Yong and Hwong Meng Jet (Deputy Public ...</td>\n",
       "      <td>NaN</td>\n",
       "      <td>criminal_law;criminal_procedure_and_sentencing</td>\n",
       "      <td>criminal_law-offences;criminal_procedure_and_s...</td>\n",
       "      <td>http://www.singaporelaw.sg/sglaw/laws-of-singa...</td>\n",
       "    </tr>\n",
       "    <tr>\n",
       "      <th>5220</th>\n",
       "      <td>22744</td>\n",
       "      <td>Public Prosecutor v Pandian a/l Subramaniam</td>\n",
       "      <td>[2017] SGHC 55</td>\n",
       "      <td>Pang Khang Chau JC</td>\n",
       "      <td>Criminal Case No 21 of 2017</td>\n",
       "      <td>14 March 2017</td>\n",
       "      <td>High Court</td>\n",
       "      <td>Pang Khang Chau JC</td>\n",
       "      <td>Lu Zhuoren John and Chan Yi Cheng (Attorney-Ge...</td>\n",
       "      <td>NaN</td>\n",
       "      <td>criminal_law</td>\n",
       "      <td>criminal_law-statutory_offences</td>\n",
       "      <td>http://www.singaporelaw.sg/sglaw/laws-of-singa...</td>\n",
       "    </tr>\n",
       "  </tbody>\n",
       "</table>\n",
       "</div>"
      ],
      "text/plain": [
       "      index                                               name  \\\n",
       "1030  13510  Tay Siew Gek Rachelgina Jasmine v Public Prose...   \n",
       "1309  13789                            Public Prosecutor v ABJ   \n",
       "1313  13793                  Public Prosecutor v Tan Chin Hock   \n",
       "1943  14429                 Choi Byeongkuk v Public Prosecutor   \n",
       "3477  18014      Public Prosecutor v Mahesvaran a/l Sivalingam   \n",
       "3644  18182  Public Prosecutor v Hamidah bte Awang and another   \n",
       "3845  18458  Public Prosecutor v Azahari bin Ahmad and another   \n",
       "4023  20446       Public Prosecutor v Sibeko Lindiwe Mary-Jane   \n",
       "4676  22163   Public Prosecutor v Jamal anak Nyalau and Others   \n",
       "5220  22744        Public Prosecutor v Pandian a/l Subramaniam   \n",
       "\n",
       "             citation              author  \\\n",
       "1030  [2008] SGHC 176     Choo Han Teck J   \n",
       "1309  [2009] SGHC 185     Choo Han Teck J   \n",
       "1313  [2009] SGHC 189     Choo Han Teck J   \n",
       "1943    [2011] SGHC 6     Choo Han Teck J   \n",
       "3477  [2014] SGHC 182    Tan Siong Thye J   \n",
       "3644  [2015] SGHC 270      Lee Seiu Kin J   \n",
       "3845  [2016] SGHC 101   Hoo Sheau Peng JC   \n",
       "4023  [2016] SGHC 228      Lee Seiu Kin J   \n",
       "4676   [2002] SGHC 78                 NaN   \n",
       "5220   [2017] SGHC 55  Pang Khang Chau JC   \n",
       "\n",
       "                                                case_no               date  \\\n",
       "1030                                        MA 198/2008        20 Oct 2008   \n",
       "1309                                         CC 29/2009        14 Aug 2009   \n",
       "1313                                         CC 36/2009        25 Aug 2009   \n",
       "1943  Magistrate’s Appeal No 393 of 2010 (DAC 42066 ...    11 January 2011   \n",
       "3477                        Criminal Case No 30 of 2014  17 September 2014   \n",
       "3644                        Criminal Case No 32 of 2014    16 October 2015   \n",
       "3845                        Criminal Case No 23 of 2016        23 May 2016   \n",
       "4023                        Criminal Case No 24 of 2016    19 October 2016   \n",
       "4676                                         CC 22/2002        19 Apr 2002   \n",
       "5220                        Criminal Case No 21 of 2017      14 March 2017   \n",
       "\n",
       "           court               coram  \\\n",
       "1030  High Court     Choo Han Teck J   \n",
       "1309  High Court     Choo Han Teck J   \n",
       "1313  High Court     Choo Han Teck J   \n",
       "1943  High Court     Choo Han Teck J   \n",
       "3477  High Court    Tan Siong Thye J   \n",
       "3644  High Court      Lee Seiu Kin J   \n",
       "3845  High Court   Hoo Sheau Peng JC   \n",
       "4023  High Court      Lee Seiu Kin J   \n",
       "4676  High Court         MPH Rubin J   \n",
       "5220  High Court  Pang Khang Chau JC   \n",
       "\n",
       "                                                counsel           reserved  \\\n",
       "1030  Terence Teo Chee Seng (Able Law Practice LLC) ...  Judgment reserved   \n",
       "1309  Gordon Oh (Deputy Public Prosecutor) for the p...                NaN   \n",
       "1313  Amarjit Singh and Tan Boon Khai (Deputy Public...                NaN   \n",
       "1943  S K Kumar (S K Kumar & Associates) for the app...                NaN   \n",
       "3477  Tan Wen Hsien and N K Anitha (Attorney General...                NaN   \n",
       "3644  Ng Cheng Thiam and Chee Min Ping (Attorney-Gen...                NaN   \n",
       "3845  John Lu Zhuoren and Nicholas Wuan Kin Lek (Att...                NaN   \n",
       "4023  Ma Hanfeng and Kenny Yang (Attorney-General's ...                NaN   \n",
       "4676  Daniel Yong and Hwong Meng Jet (Deputy Public ...                NaN   \n",
       "5220  Lu Zhuoren John and Chan Yi Cheng (Attorney-Ge...                NaN   \n",
       "\n",
       "                                        catchwords-1  \\\n",
       "1030               criminal_procedure_and_sentencing   \n",
       "1309               criminal_procedure_and_sentencing   \n",
       "1313                                    criminal_law   \n",
       "1943               criminal_procedure_and_sentencing   \n",
       "3477                                    criminal_law   \n",
       "3644                                    criminal_law   \n",
       "3845                                    criminal_law   \n",
       "4023               criminal_procedure_and_sentencing   \n",
       "4676  criminal_law;criminal_procedure_and_sentencing   \n",
       "5220                                    criminal_law   \n",
       "\n",
       "                                           catchwords-2  \\\n",
       "1030                                                NaN   \n",
       "1309                                                NaN   \n",
       "1313                                                NaN   \n",
       "1943                                                NaN   \n",
       "3477                    criminal_law-statutory_offences   \n",
       "3644                    criminal_law-statutory_offences   \n",
       "3845                    criminal_law-statutory_offences   \n",
       "4023       criminal_procedure_and_sentencing-sentencing   \n",
       "4676  criminal_law-offences;criminal_procedure_and_s...   \n",
       "5220                    criminal_law-statutory_offences   \n",
       "\n",
       "                                                    url  \n",
       "1030  http://www.singaporelaw.sg/sglaw/laws-of-singa...  \n",
       "1309  http://www.singaporelaw.sg/sglaw/laws-of-singa...  \n",
       "1313  http://www.singaporelaw.sg/sglaw/laws-of-singa...  \n",
       "1943  http://www.singaporelaw.sg/sglaw/laws-of-singa...  \n",
       "3477  http://www.singaporelaw.sg/sglaw/laws-of-singa...  \n",
       "3644  http://www.singaporelaw.sg/sglaw/laws-of-singa...  \n",
       "3845  http://www.singaporelaw.sg/sglaw/laws-of-singa...  \n",
       "4023  http://www.singaporelaw.sg/sglaw/laws-of-singa...  \n",
       "4676  http://www.singaporelaw.sg/sglaw/laws-of-singa...  \n",
       "5220  http://www.singaporelaw.sg/sglaw/laws-of-singa...  "
      ]
     },
     "execution_count": 20,
     "metadata": {},
     "output_type": "execute_result"
    }
   ],
   "source": [
    "import pandas as pd\n",
    "df = pd.read_csv('judgments/data.tsv', sep='\\t', encoding='utf-8')\n",
    "df[df['index'].isin([idx for idx, sim in model.docvecs.most_similar([test_doc])])]"
   ]
  },
  {
   "cell_type": "code",
   "execution_count": 21,
   "metadata": {},
   "outputs": [
    {
     "data": {
      "text/plain": [
       "1301"
      ]
     },
     "execution_count": 21,
     "metadata": {},
     "output_type": "execute_result"
    }
   ],
   "source": [
    "test_doc2vecs = [model.infer_vector(get_tokens(judgments.raw(docid))) for docid in test_docs_ids]\n",
    "len(test_doc2vecs)"
   ]
  },
  {
   "cell_type": "code",
   "execution_count": 22,
   "metadata": {
    "collapsed": true
   },
   "outputs": [],
   "source": [
    "test_doc2vecs = np.array(test_doc2vecs)"
   ]
  },
  {
   "cell_type": "code",
   "execution_count": 23,
   "metadata": {
    "collapsed": true
   },
   "outputs": [],
   "source": [
    "training_doc2vecs = model.docvecs.doctag_syn0"
   ]
  },
  {
   "cell_type": "code",
   "execution_count": 25,
   "metadata": {},
   "outputs": [
    {
     "data": {
      "text/plain": [
       "OneVsRestClassifier(estimator=LinearSVC(C=1.0, class_weight=None, dual=True, fit_intercept=True,\n",
       "     intercept_scaling=1, loss='squared_hinge', max_iter=1000,\n",
       "     multi_class='ovr', penalty='l2', random_state=42, tol=0.0001,\n",
       "     verbose=0),\n",
       "          n_jobs=1)"
      ]
     },
     "execution_count": 25,
     "metadata": {},
     "output_type": "execute_result"
    }
   ],
   "source": [
    "from sklearn.svm import LinearSVC\n",
    "from sklearn.multiclass import OneVsRestClassifier\n",
    "classifier = OneVsRestClassifier(LinearSVC(random_state=42))\n",
    "classifier.fit(training_doc2vecs, train_labels)"
   ]
  },
  {
   "cell_type": "code",
   "execution_count": 27,
   "metadata": {},
   "outputs": [
    {
     "data": {
      "text/plain": [
       "(1301, 10)"
      ]
     },
     "execution_count": 27,
     "metadata": {},
     "output_type": "execute_result"
    }
   ],
   "source": [
    "predictions = classifier.predict(test_doc2vecs)\n",
    "predictions.shape"
   ]
  },
  {
   "cell_type": "code",
   "execution_count": 105,
   "metadata": {},
   "outputs": [
    {
     "name": "stdout",
     "output_type": "stream",
     "text": [
      "Micro-average quality numbers\n",
      "Precision: 0.2595, Recall: 0.6324, F1-measure: 0.3680\n",
      "Macro-average quality numbers\n",
      "Precision: 0.2452, Recall: 0.6167, F1-measure: 0.3462\n"
     ]
    }
   ],
   "source": [
    "# Doc2Vec 300\n",
    "\n",
    "from sklearn.metrics import f1_score, precision_score, recall_score\n",
    " \n",
    "precision = precision_score(test_labels, predictions, average='micro')\n",
    "recall = recall_score(test_labels, predictions, average='micro')\n",
    "f1 = f1_score(test_labels, predictions, average='micro')\n",
    " \n",
    "print(\"Micro-average quality numbers\")\n",
    "print(\"Precision: {:.4f}, Recall: {:.4f}, F1-measure: {:.4f}\".format(precision, recall, f1))\n",
    " \n",
    "precision = precision_score(test_labels, predictions, average='macro')\n",
    "recall = recall_score(test_labels, predictions, average='macro')\n",
    "f1 = f1_score(test_labels, predictions, average='macro')\n",
    " \n",
    "print(\"Macro-average quality numbers\")\n",
    "print(\"Precision: {:.4f}, Recall: {:.4f}, F1-measure: {:.4f}\".format(precision, recall, f1))"
   ]
  },
  {
   "cell_type": "code",
   "execution_count": 28,
   "metadata": {},
   "outputs": [
    {
     "name": "stdout",
     "output_type": "stream",
     "text": [
      "Micro-average quality numbers\n",
      "Precision: 0.6632, Recall: 0.4804, F1-measure: 0.5572\n",
      "Macro-average quality numbers\n",
      "Precision: 0.6758, Recall: 0.4712, F1-measure: 0.5320\n"
     ]
    }
   ],
   "source": [
    "# Doc2Vec 50\n",
    "\n",
    "from sklearn.metrics import f1_score, precision_score, recall_score\n",
    " \n",
    "precision = precision_score(test_labels, predictions, average='micro')\n",
    "recall = recall_score(test_labels, predictions, average='micro')\n",
    "f1 = f1_score(test_labels, predictions, average='micro')\n",
    " \n",
    "print(\"Micro-average quality numbers\")\n",
    "print(\"Precision: {:.4f}, Recall: {:.4f}, F1-measure: {:.4f}\".format(precision, recall, f1))\n",
    " \n",
    "precision = precision_score(test_labels, predictions, average='macro')\n",
    "recall = recall_score(test_labels, predictions, average='macro')\n",
    "f1 = f1_score(test_labels, predictions, average='macro')\n",
    " \n",
    "print(\"Macro-average quality numbers\")\n",
    "print(\"Precision: {:.4f}, Recall: {:.4f}, F1-measure: {:.4f}\".format(precision, recall, f1))"
   ]
  },
  {
   "cell_type": "code",
   "execution_count": 68,
   "metadata": {
    "collapsed": true
   },
   "outputs": [],
   "source": [
    "import pandas as pd\n",
    "df = pd.read_csv('judgments/data.tsv', sep='\\t', encoding='utf-8')"
   ]
  },
  {
   "cell_type": "code",
   "execution_count": 13,
   "metadata": {},
   "outputs": [
    {
     "name": "stderr",
     "output_type": "stream",
     "text": [
      "C:\\Users\\howkh\\Anaconda3\\envs\\py35\\lib\\site-packages\\gensim\\utils.py:855: UserWarning: detected Windows; aliasing chunkize to chunkize_serial\n",
      "  warnings.warn(\"detected Windows; aliasing chunkize to chunkize_serial\")\n"
     ]
    }
   ],
   "source": [
    "import gensim\n",
    "import pyLDAvis.gensim\n",
    "\n",
    "tokenized_docs = [get_tokens(judgments.raw(docid)) for docid in selected_docs_ids]"
   ]
  },
  {
   "cell_type": "code",
   "execution_count": 14,
   "metadata": {},
   "outputs": [
    {
     "data": {
      "text/plain": [
       "209884"
      ]
     },
     "execution_count": 14,
     "metadata": {},
     "output_type": "execute_result"
    }
   ],
   "source": [
    "corpus_vocab = gensim.corpora.Dictionary(tokenized_docs)\n",
    "len(corpus_vocab)"
   ]
  },
  {
   "cell_type": "code",
   "execution_count": 15,
   "metadata": {},
   "outputs": [
    {
     "name": "stderr",
     "output_type": "stream",
     "text": [
      "C:\\Users\\howkh\\Anaconda3\\envs\\py35\\lib\\site-packages\\pyLDAvis\\_prepare.py:387: DeprecationWarning: \n",
      ".ix is deprecated. Please use\n",
      ".loc for label based indexing or\n",
      ".iloc for positional indexing\n",
      "\n",
      "See the documentation here:\n",
      "http://pandas.pydata.org/pandas-docs/stable/indexing.html#deprecate_ix\n",
      "  topic_term_dists = topic_term_dists.ix[topic_order]\n"
     ]
    },
    {
     "data": {
      "text/html": [
       "\n",
       "<link rel=\"stylesheet\" type=\"text/css\" href=\"https://cdn.rawgit.com/bmabey/pyLDAvis/files/ldavis.v1.0.0.css\">\n",
       "\n",
       "\n",
       "<div id=\"ldavis_el578027325872858648248516756\"></div>\n",
       "<script type=\"text/javascript\">\n",
       "\n",
       "var ldavis_el578027325872858648248516756_data = {\"lambda.step\": 0.01, \"token.table\": {\"Term\": [\"...\", \"...\", \"...\", \"...\", \"...\", \"...\", \"...\", \"...\", \"...\", \"...\", \"`coffeemix`\", \"aa\", \"aa\", \"aa\", \"abang\", \"abetment\", \"abetment\", \"absg\", \"absg\", \"ac\", \"ac\", \"accident\", \"accident\", \"accident\", \"accident\", \"accident\", \"accident\", \"accident\", \"account\", \"account\", \"account\", \"account\", \"account\", \"account\", \"account\", \"account\", \"account\", \"account\", \"accumulator\", \"accumulator\", \"accused\", \"accused\", \"accused\", \"accused\", \"accused\", \"accused\", \"accused\", \"accused\", \"achar\", \"act\", \"act\", \"act\", \"act\", \"act\", \"act\", \"act\", \"act\", \"act\", \"act\", \"action\", \"action\", \"action\", \"action\", \"action\", \"action\", \"action\", \"action\", \"action\", \"action\", \"adaro\", \"adf\", \"affidavit\", \"affidavit\", \"affidavit\", \"affidavit\", \"affidavit\", \"affidavit\", \"affidavit\", \"affidavit\", \"affidavit\", \"affidavit\", \"aggravating\", \"aggravating\", \"aggravating\", \"aggravating\", \"agreed\", \"agreed\", \"agreed\", \"agreed\", \"agreed\", \"agreed\", \"agreed\", \"agreed\", \"agreed\", \"agreed\", \"agreement\", \"agreement\", \"agreement\", \"agreement\", \"agreement\", \"agreement\", \"agreement\", \"agreement\", \"agreement\", \"agreement\", \"agrima\", \"ahpetc\", \"ahpetc\", \"aircraft\", \"aircraft\", \"aircraft\", \"aircraft\", \"aircraft\", \"aircraft\", \"aircraft\", \"airocean\", \"akc\", \"akn\", \"allene\", \"allene\", \"allgreen\", \"allgreen\", \"amjad\", \"ancillaries\", \"ancillaries\", \"ancillary\", \"ancillary\", \"ancillary\", \"ancillary\", \"ancillary\", \"ancillary\", \"ancillary\", \"ancillary\", \"ancillary\", \"ancillary\", \"angiogram\", \"aniza\", \"announcement\", \"announcement\", \"announcement\", \"announcement\", \"announcement\", \"announcement\", \"anti-suit\", \"anti-suit\", \"antig\", \"antig\", \"antig\", \"apac\", \"apac\", \"apbs\", \"apbs\", \"apll\", \"appeal\", \"appeal\", \"appeal\", \"appeal\", \"appeal\", \"appeal\", \"appeal\", \"appeal\", \"appeal\", \"appeal\", \"appellant\", \"appellant\", \"appellant\", \"appellant\", \"appellant\", \"appellant\", \"appellant\", \"appellant\", \"appellant\", \"appellant\", \"applicant\", \"applicant\", \"applicant\", \"applicant\", \"applicant\", \"applicant\", \"applicant\", \"applicant\", \"applicant\", \"application\", \"application\", \"application\", \"application\", \"application\", \"application\", \"application\", \"application\", \"application\", \"application\", \"aquilus\", \"arbitral\", \"arbitral\", \"arbitral\", \"arbitral\", \"arbitration\", \"arbitration\", \"arbitration\", \"arbitration\", \"arbitration\", \"arbitrator\", \"arbitrator\", \"arbitrator\", \"arbitrator\", \"article\", \"article\", \"article\", \"article\", \"article\", \"article\", \"article\", \"article\", \"article\", \"article\", \"articon\", \"aside\", \"aside\", \"aside\", \"aside\", \"aside\", \"aside\", \"aside\", \"aside\", \"aside\", \"aside\", \"asked\", \"asked\", \"asked\", \"asked\", \"asked\", \"asked\", \"asked\", \"asked\", \"asked\", \"asked\", \"asp\", \"asp\", \"asp\", \"asset\", \"asset\", \"asset\", \"asset\", \"asset\", \"asset\", \"asset\", \"audit\", \"audit\", \"audit\", \"audit\", \"audit\", \"audit\", \"audit\", \"auditor\", \"auditor\", \"auditor\", \"auditor\", \"auditor\", \"auditor\", \"auditor\", \"auditor\", \"award\", \"award\", \"award\", \"award\", \"award\", \"award\", \"award\", \"award\", \"award\", \"bag\", \"bag\", \"bag\", \"bag\", \"bag\", \"bag\", \"bail\", \"bail\", \"bail\", \"bail\", \"bail\", \"bail\", \"bajumi\", \"bajumi\", \"bala\", \"bala\", \"bala\", \"bala\", \"bala\", \"bank\", \"bank\", \"bank\", \"bank\", \"bank\", \"bank\", \"bank\", \"bank\", \"bank\", \"bank\", \"bedroom\", \"bedroom\", \"bedroom\", \"bedroom\", \"bgp\", \"bgp\", \"black\", \"black\", \"black\", \"black\", \"black\", \"black\", \"black\", \"black\", \"black\", \"black\", \"board\", \"board\", \"board\", \"board\", \"board\", \"board\", \"board\", \"board\", \"board\", \"board\", \"boksenang\", \"bonasih\", \"bond\", \"bond\", \"bond\", \"bond\", \"bond\", \"bond\", \"bond\", \"bond\", \"bond\", \"borrower\", \"borrower\", \"borrower\", \"borrower\", \"borrower\", \"boxsentry\", \"breach\", \"breach\", \"breach\", \"breach\", \"breach\", \"breach\", \"breach\", \"breach\", \"breach\", \"breach\", \"bspl\", \"bspl\", \"buildspeed\", \"bundle\", \"bundle\", \"bundle\", \"bundle\", \"bundle\", \"bundle\", \"bundle\", \"bundle\", \"bundle\", \"bundle\", \"burgundy\", \"business\", \"business\", \"business\", \"business\", \"business\", \"business\", \"business\", \"business\", \"business\", \"business\", \"cane\", \"cane\", \"cane\", \"caning\", \"caning\", \"car\", \"car\", \"car\", \"car\", \"car\", \"car\", \"car\", \"car\", \"car\", \"car\", \"care\", \"care\", \"care\", \"care\", \"care\", \"care\", \"care\", \"care\", \"care\", \"care\", \"caregiver\", \"caregiver\", \"caregiver\", \"caregiver\", \"caregiver\", \"cargo\", \"cargo\", \"cargo\", \"cargo\", \"cargo\", \"cargo\", \"cargo\", \"carnal\", \"case\", \"case\", \"case\", \"case\", \"case\", \"case\", \"case\", \"case\", \"case\", \"case\", \"caused\", \"caused\", \"caused\", \"caused\", \"caused\", \"caused\", \"caused\", \"caused\", \"caused\", \"caused\", \"cbi\", \"ccdc\", \"centillion\", \"cera\", \"cera\", \"changhe\", \"charge\", \"charge\", \"charge\", \"charge\", \"charge\", \"charge\", \"charge\", \"charge\", \"charge\", \"charge\", \"chc\", \"chc\", \"chenet\", \"cheque\", \"cheque\", \"cheque\", \"cheque\", \"cheque\", \"cheque\", \"cheque\", \"cheque\", \"cheque\", \"chg\", \"chia\", \"chia\", \"chia\", \"chia\", \"chia\", \"chia\", \"chia\", \"chia\", \"chia\", \"chia\", \"child\", \"child\", \"child\", \"child\", \"child\", \"child\", \"child\", \"child\", \"child\", \"chitra\", \"chkc\", \"civilbuild\", \"civilbuild\", \"civilbuild\", \"ckk\", \"claim\", \"claim\", \"claim\", \"claim\", \"claim\", \"claim\", \"claim\", \"claim\", \"claim\", \"claim\", \"clause\", \"clause\", \"clause\", \"clause\", \"clause\", \"clause\", \"clause\", \"clause\", \"clause\", \"clearlab\", \"clearlab\", \"club\", \"club\", \"club\", \"club\", \"club\", \"club\", \"club\", \"club\", \"club\", \"club\", \"cnb\", \"cnb\", \"code\", \"code\", \"code\", \"code\", \"code\", \"code\", \"code\", \"code\", \"code\", \"coil\", \"coil\", \"collective\", \"collective\", \"collective\", \"collective\", \"collective\", \"collective\", \"collective\", \"collective\", \"collective\", \"committed\", \"committed\", \"committed\", \"committed\", \"committed\", \"committed\", \"committed\", \"committed\", \"committed\", \"committed\", \"common\", \"common\", \"common\", \"common\", \"common\", \"common\", \"common\", \"common\", \"common\", \"common\", \"company\", \"company\", \"company\", \"company\", \"company\", \"company\", \"company\", \"company\", \"company\", \"company\", \"complainant`s\", \"concrete\", \"concrete\", \"concrete\", \"concrete\", \"concrete\", \"concrete\", \"concrete\", \"concrete\", \"concrete\", \"concrete\", \"condition\", \"condition\", \"condition\", \"condition\", \"condition\", \"condition\", \"condition\", \"condition\", \"condition\", \"condition\", \"confidential\", \"confidential\", \"confidential\", \"confidential\", \"confidential\", \"confidential\", \"confidential\", \"confidential\", \"confidential\", \"conleth\", \"consecutively\", \"consecutively\", \"consecutively\", \"contract\", \"contract\", \"contract\", \"contract\", \"contract\", \"contract\", \"contract\", \"contract\", \"contract\", \"contract\", \"contractual\", \"contractual\", \"contractual\", \"contractual\", \"contractual\", \"contractual\", \"contractual\", \"contractual\", \"contribution\", \"contribution\", \"contribution\", \"contribution\", \"contribution\", \"contribution\", \"contribution\", \"contribution\", \"contribution\", \"contribution\", \"contumacious\", \"contumelious\", \"contumelious\", \"conveniens\", \"conveniens\", \"convicted\", \"convicted\", \"convicted\", \"convicted\", \"convicted\", \"conviction\", \"conviction\", \"conviction\", \"conviction\", \"conviction\", \"conviction\", \"conviction\", \"conviction\", \"copyright\", \"copyright\", \"copyright\", \"copyright\", \"copyright\", \"coronary\", \"cost\", \"cost\", \"cost\", \"cost\", \"cost\", \"cost\", \"cost\", \"cost\", \"cost\", \"cost\", \"cotan\", \"court\", \"court\", \"court\", \"court\", \"court\", \"court\", \"court\", \"court\", \"court\", \"court\", \"cpc\", \"cpc\", \"cpc\", \"cpc\", \"cpc\", \"cpf\", \"cpf\", \"cpf\", \"cpf\", \"cpf\", \"cpf\", \"crane\", \"crane\", \"crane\", \"crane\", \"crane\", \"creditor\", \"creditor\", \"creditor\", \"creditor\", \"creditor\", \"creditor\", \"creditor\", \"creditor\", \"crim\", \"crime\", \"crime\", \"crime\", \"crime\", \"crime\", \"crime\", \"crime\", \"criminal\", \"criminal\", \"criminal\", \"criminal\", \"criminal\", \"criminal\", \"criminal\", \"criminal\", \"criminal\", \"cristian\", \"csc\", \"csc\", \"csc\", \"csc\", \"csc\", \"csfb\", \"csfb\", \"csj\", \"culpability\", \"culpability\", \"culpability\", \"culpability\", \"culpability\", \"culpability\", \"culpability\", \"custodial\", \"custodial\", \"customer\", \"customer\", \"customer\", \"customer\", \"customer\", \"customer\", \"customer\", \"customer\", \"customer\", \"customer\", \"cypa\", \"dac\", \"dac\", \"dac\", \"daewoo\", \"daewoo\", \"dalzavod\", \"damage\", \"damage\", \"damage\", \"damage\", \"damage\", \"damage\", \"damage\", \"damage\", \"damage\", \"damage\", \"dasan\", \"date\", \"date\", \"date\", \"date\", \"date\", \"date\", \"date\", \"date\", \"date\", \"date\", \"dated\", \"dated\", \"dated\", \"dated\", \"dated\", \"dated\", \"dated\", \"dated\", \"dated\", \"dated\", \"daughter\", \"daughter\", \"daughter\", \"daughter\", \"daughter\", \"daughter\", \"daughter\", \"daughter\", \"daughter\", \"daughter\", \"dawood\", \"dawood\", \"day\", \"day\", \"day\", \"day\", \"day\", \"day\", \"day\", \"day\", \"day\", \"day\", \"death\", \"death\", \"death\", \"death\", \"death\", \"death\", \"death\", \"death\", \"death\", \"death\", \"debt\", \"debt\", \"debt\", \"debt\", \"debt\", \"debt\", \"debt\", \"debt\", \"debt\", \"debt\", \"debtor\", \"debtor\", \"debtor\", \"debtor\", \"debtor\", \"debtor\", \"deceased\", \"deceased\", \"deceased\", \"deceased\", \"deceased\", \"deceased\", \"deceased\", \"deceased\", \"deceased\", \"decision\", \"decision\", \"decision\", \"decision\", \"decision\", \"decision\", \"decision\", \"decision\", \"decision\", \"decision\", \"decreenisi\", \"deed\", \"deed\", \"deed\", \"deed\", \"deed\", \"deed\", \"deed\", \"deed\", \"deed\", \"deed\", \"defamation\", \"defamation\", \"defamation\", \"defamation\", \"defamatory\", \"defamatory\", \"defence\", \"defence\", \"defence\", \"defence\", \"defence\", \"defence\", \"defence\", \"defence\", \"defence\", \"defence\", \"defendant\", \"defendant\", \"defendant\", \"defendant\", \"defendant\", \"defendant\", \"defendant\", \"defendant\", \"defendant\", \"defendant\", \"delifrance\", \"delivery\", \"delivery\", \"delivery\", \"delivery\", \"delivery\", \"delivery\", \"delivery\", \"delivery\", \"delivery\", \"demurrage\", \"demurrage\", \"denko\", \"dependency\", \"dependency\", \"dependency\", \"dependency\", \"dependency\", \"dependency\", \"deterrence\", \"deterrence\", \"deterrence\", \"deterrence\", \"deterrence\", \"deterrent\", \"deterrent\", \"deterrent\", \"deterrent\", \"deterrent\", \"deuteron\", \"developer\", \"developer\", \"developer\", \"developer\", \"developer\", \"developer\", \"developer\", \"developer\", \"diagnosis\", \"diagnosis\", \"diagnosis\", \"diagnosis\", \"diamorphine\", \"diamorphine\", \"director\", \"director\", \"director\", \"director\", \"director\", \"director\", \"director\", \"director\", \"director\", \"director\", \"discovery\", \"discovery\", \"discovery\", \"discovery\", \"discovery\", \"discovery\", \"discovery\", \"discovery\", \"discovery\", \"discovery\", \"discretion\", \"discretion\", \"discretion\", \"discretion\", \"discretion\", \"discretion\", \"discretion\", \"discretion\", \"discretion\", \"discretion\", \"disqualification\", \"disqualification\", \"disqualification\", \"district\", \"district\", \"district\", \"district\", \"district\", \"district\", \"district\", \"district\", \"district\", \"district\", \"division\", \"division\", \"division\", \"division\", \"division\", \"division\", \"division\", \"division\", \"division\", \"division\", \"divorce\", \"divorce\", \"divorce\", \"divorce\", \"divorce\", \"divorce\", \"doctor\", \"doctor\", \"doctor\", \"doctor\", \"doctor\", \"doctor\", \"doctor\", \"doctor\", \"doctrine\", \"doctrine\", \"doctrine\", \"doctrine\", \"doctrine\", \"doctrine\", \"doctrine\", \"doctrine\", \"doctrine\", \"doctrine\", \"document\", \"document\", \"document\", \"document\", \"document\", \"document\", \"document\", \"document\", \"document\", \"document\", \"dorsey\", \"dross\", \"drug\", \"drug\", \"drug\", \"drug\", \"duker\", \"duty\", \"duty\", \"duty\", \"duty\", \"duty\", \"duty\", \"duty\", \"duty\", \"duty\", \"duty\", \"dynasty\", \"dynasty\", \"dynasty\", \"dynasty\", \"dynasty\", \"e-discovery\", \"earnings\", \"earnings\", \"earnings\", \"earnings\", \"earnings\", \"earnings\", \"earnings\", \"earnings\", \"earnings\", \"easement\", \"eci\", \"efwa\", \"eimc\", \"eimc\", \"elda\", \"elis\", \"email\", \"email\", \"email\", \"email\", \"email\", \"email\", \"email\", \"email\", \"email\", \"email\", \"emg\", \"epic\", \"erc\", \"escrow\", \"escrow\", \"escrow\", \"escrow\", \"escrow\", \"estate\", \"estate\", \"estate\", \"estate\", \"estate\", \"estate\", \"estate\", \"estate\", \"estate\", \"estate\", \"evidence\", \"evidence\", \"evidence\", \"evidence\", \"evidence\", \"evidence\", \"evidence\", \"evidence\", \"evidence\", \"evidence\", \"expense\", \"expense\", \"expense\", \"expense\", \"expense\", \"expense\", \"expense\", \"expense\", \"expense\", \"expense\", \"expert\", \"expert\", \"expert\", \"expert\", \"expert\", \"expert\", \"expert\", \"expert\", \"expert\", \"expert\", \"explorer\", \"explorer\", \"extradition\", \"eye\", \"eye\", \"eye\", \"eye\", \"eye\", \"eye\", \"eye\", \"eye\", \"eye\", \"eye\", \"facility\", \"facility\", \"facility\", \"facility\", \"facility\", \"facility\", \"facility\", \"facility\", \"facility\", \"facility\", \"fact\", \"fact\", \"fact\", \"fact\", \"fact\", \"fact\", \"fact\", \"fact\", \"fact\", \"fact\", \"factor\", \"factor\", \"factor\", \"factor\", \"factor\", \"factor\", \"factor\", \"factor\", \"factor\", \"factor\", \"fairfield\", \"falmac\", \"family\", \"family\", \"family\", \"family\", \"family\", \"family\", \"family\", \"family\", \"family\", \"family\", \"father\", \"father\", \"father\", \"father\", \"father\", \"father\", \"father\", \"father\", \"father\", \"father\", \"fcc\", \"fellatio\", \"feoso\", \"feoso\", \"file\", \"file\", \"file\", \"file\", \"file\", \"file\", \"file\", \"file\", \"file\", \"file\", \"filed\", \"filed\", \"filed\", \"filed\", \"filed\", \"filed\", \"filed\", \"filed\", \"filed\", \"filed\", \"filing\", \"filing\", \"filing\", \"filing\", \"filing\", \"filing\", \"filing\", \"filing\", \"filing\", \"financial\", \"financial\", \"financial\", \"financial\", \"financial\", \"financial\", \"financial\", \"financial\", \"financial\", \"financial\", \"fine\", \"fine\", \"fine\", \"fine\", \"fine\", \"fine\", \"fine\", \"fine\", \"fine\", \"fine\", \"fire\", \"fire\", \"fire\", \"fire\", \"fire\", \"fire\", \"fire\", \"fire\", \"fire\", \"fire\", \"firna\", \"first\", \"first\", \"first\", \"first\", \"first\", \"first\", \"first\", \"first\", \"first\", \"first\", \"flat\", \"flat\", \"flat\", \"flat\", \"flat\", \"flat\", \"flat\", \"flat\", \"flat\", \"forex\", \"forex\", \"forex\", \"forex\", \"forum\", \"forum\", \"forum\", \"forum\", \"forum\", \"forum\", \"found\", \"found\", \"found\", \"found\", \"found\", \"found\", \"found\", \"found\", \"found\", \"found\", \"freight\", \"freight\", \"freight\", \"freight\", \"freight\", \"freight\", \"friis\", \"fugitive\", \"fund\", \"fund\", \"fund\", \"fund\", \"fund\", \"fund\", \"fund\", \"fund\", \"fund\", \"fund\", \"g-fuel\", \"gazipur\", \"gc/ms\", \"geocon\", \"geospecs\", \"gfa\", \"gfa\", \"gift\", \"gift\", \"gift\", \"gift\", \"gift\", \"gift\", \"gift\", \"gift\", \"goh\", \"goh\", \"goh\", \"goh\", \"goh\", \"goh\", \"goh\", \"goh\", \"goh\", \"goh\", \"goldrooster\", \"goldrooster\", \"good\", \"good\", \"good\", \"good\", \"good\", \"good\", \"good\", \"good\", \"good\", \"good\", \"grant-in-aid\", \"gratification\", \"gratification\", \"gript\", \"group\", \"group\", \"group\", \"group\", \"group\", \"group\", \"group\", \"group\", \"group\", \"group\", \"guarantee\", \"guarantee\", \"guarantee\", \"guarantee\", \"guarantee\", \"guarantee\", \"guarantee\", \"guarantee\", \"guarantee\", \"guilty\", \"guilty\", \"guilty\", \"guilty\", \"guilty\", \"guilty\", \"guilty\", \"guilty\", \"guilty\", \"guilty\", \"guobena\", \"guobena\", \"guobena\", \"guobena\", \"hady\", \"haleem\", \"haliffie\", \"hamidah\", \"hartanto\", \"hartanto\", \"hartanto\", \"harte\", \"harte\", \"harte\", \"harte\", \"hatch\", \"hatch\", \"haversack\", \"haversack\", \"hcaja\", \"hearing\", \"hearing\", \"hearing\", \"hearing\", \"hearing\", \"hearing\", \"hearing\", \"hearing\", \"hearing\", \"hearing\", \"heroin\", \"heroin\", \"hew\", \"hew\", \"hew\", \"high\", \"high\", \"high\", \"high\", \"high\", \"high\", \"high\", \"high\", \"high\", \"high\", \"hkj\", \"home\", \"home\", \"home\", \"home\", \"home\", \"home\", \"home\", \"home\", \"home\", \"home\", \"homemaker\", \"honeywell\", \"hongs\", \"hose\", \"hose\", \"hose\", \"hospital\", \"hospital\", \"hospital\", \"hospital\", \"hospital\", \"hospital\", \"hospital\", \"hospital\", \"hospital\", \"hospital\", \"household\", \"household\", \"household\", \"household\", \"household\", \"however\", \"however\", \"however\", \"however\", \"however\", \"however\", \"however\", \"however\", \"however\", \"however\", \"hpis\", \"hrh\", \"husband\", \"husband\", \"husband\", \"husband\", \"husband\", \"husband\", \"husband\", \"husband\", \"husband`s\", \"husband`s\", \"husband`s\", \"husband\\u0092s\", \"hvb\", \"hvb\", \"iaa\", \"ibt\", \"idealmold\", \"ifm\", \"ilechukwu\", \"immigrant\", \"immigrant\", \"immigrant\", \"imposed\", \"imposed\", \"imposed\", \"imposed\", \"imposed\", \"imposed\", \"imposed\", \"imposed\", \"imposed\", \"imposed\", \"imprisonment\", \"imprisonment\", \"imprisonment\", \"income\", \"income\", \"income\", \"income\", \"income\", \"income\", \"income\", \"income\", \"income\", \"income\", \"indirect\", \"indirect\", \"indirect\", \"indirect\", \"indirect\", \"indirect\", \"indirect\", \"indirect\", \"indirect\", \"indirect\", \"infection\", \"infection\", \"infection\", \"infection\", \"infection\", \"information\", \"information\", \"information\", \"information\", \"information\", \"information\", \"information\", \"information\", \"information\", \"information\", \"inheritance\", \"inheritance\", \"inheritance\", \"inheritance\", \"injunction\", \"injunction\", \"injunction\", \"injunction\", \"injunction\", \"injunction\", \"injunction\", \"injunction\", \"injury\", \"injury\", \"injury\", \"injury\", \"injury\", \"injury\", \"injury\", \"injury\", \"injury\", \"inlet\", \"innk\", \"insp\", \"inter-spousal\", \"interest\", \"interest\", \"interest\", \"interest\", \"interest\", \"interest\", \"interest\", \"interest\", \"interest\", \"interest\", \"interlocutory\", \"interlocutory\", \"interlocutory\", \"interlocutory\", \"interlocutory\", \"interlocutory\", \"interlocutory\", \"interlocutory\", \"invoice\", \"invoice\", \"invoice\", \"invoice\", \"invoice\", \"invoice\", \"invoice\", \"invoice\", \"invoice\", \"iprop\", \"isabelle\", \"isda\", \"iseli\", \"ismil\", \"ismil\", \"issue\", \"issue\", \"issue\", \"issue\", \"issue\", \"issue\", \"issue\", \"issue\", \"issue\", \"issue\", \"item\", \"item\", \"item\", \"item\", \"item\", \"item\", \"item\", \"item\", \"item\", \"item\", \"jade\", \"jade\", \"jade\", \"jade\", \"jake\", \"jamilah\", \"jiggling\", \"jli\", \"john\\u0092s\", \"joint\", \"joint\", \"joint\", \"joint\", \"joint\", \"joint\", \"joint\", \"joint\", \"joint\", \"joint\", \"jpw\", \"jro\", \"jsl\", \"jspl\", \"jtc\", \"jtc\", \"jtc\", \"jtc\", \"jtggh\", \"judge\", \"judge\", \"judge\", \"judge\", \"judge\", \"judge\", \"judge\", \"judge\", \"judge\", \"judge\", \"judgment\", \"judgment\", \"judgment\", \"judgment\", \"judgment\", \"judgment\", \"judgment\", \"judgment\", \"judgment\", \"judgment\", \"judicata\", \"judicata\", \"judicata\", \"judicata\", \"judicature\", \"judicature\", \"judicature\", \"judicature\", \"judicature\", \"judicature\", \"julaiha\", \"jurisdiction\", \"jurisdiction\", \"jurisdiction\", \"jurisdiction\", \"jurisdiction\", \"jurisdiction\", \"jurisdiction\", \"jurisdiction\", \"jurisdiction\", \"kalwant\", \"katheraven\", \"kea\", \"kea\", \"keyword\", \"keyword\", \"keywords\", \"kitchen\", \"kitchen\", \"kitchen\", \"kitchen\", \"kitchen\", \"kitchen\", \"kitchen\", \"knife\", \"knife\", \"knife\", \"knife\", \"koay\", \"komag\", \"kpm\", \"kpmg\", \"kpmg\", \"kpmg\", \"kpmg\", \"kpmg\", \"kpmg\", \"ksc\", \"kse\", \"kweh\", \"lakeview\", \"land\", \"land\", \"land\", \"land\", \"land\", \"land\", \"land\", \"land\", \"land\", \"land\", \"latham\", \"latham\", \"latham\", \"latham\", \"latham`s\", \"latisse\", \"lauren\", \"law\", \"law\", \"law\", \"law\", \"law\", \"law\", \"law\", \"law\", \"law\", \"law\", \"laycan\", \"lease\", \"lease\", \"lease\", \"lease\", \"lease\", \"lease\", \"lease\", \"lease\", \"leave\", \"leave\", \"leave\", \"leave\", \"leave\", \"leave\", \"leave\", \"leave\", \"leave\", \"leave\", \"left\", \"left\", \"left\", \"left\", \"left\", \"left\", \"left\", \"left\", \"left\", \"left\", \"lender\", \"lender\", \"lender\", \"lender\", \"lender\", \"lender\", \"lesion\", \"letter\", \"letter\", \"letter\", \"letter\", \"letter\", \"letter\", \"letter\", \"letter\", \"letter\", \"letter\", \"lfe\", \"lhc\", \"lhl\", \"lhl\", \"liability\", \"liability\", \"liability\", \"liability\", \"liability\", \"liability\", \"liability\", \"liability\", \"liability\", \"liability\", \"lifeguard\", \"lifeguard\", \"lifting\", \"lifting\", \"lifting\", \"lifting\", \"lifting\", \"lifting\", \"lifting\", \"lifting\", \"lim\", \"lim\", \"lim\", \"lim\", \"lim\", \"lim\", \"lim\", \"lim\", \"lim\", \"lim\", \"litigant\", \"litigant\", \"litigant\", \"litigant\", \"litigant\", \"litigant\", \"litigant\", \"litigant\", \"litigation\", \"litigation\", \"litigation\", \"litigation\", \"litigation\", \"litigation\", \"litigation\", \"litigation\", \"litigation\", \"lkt\", \"lky\", \"lky\", \"lmh\", \"loan\", \"loan\", \"loan\", \"loan\", \"loan\", \"loan\", \"loan\", \"loan\", \"loan\", \"loan\", \"lord\", \"lord\", \"lord\", \"lord\", \"lord\", \"lord\", \"lord\", \"lord\", \"lord\", \"lord\", \"loss\", \"loss\", \"loss\", \"loss\", \"loss\", \"loss\", \"loss\", \"loss\", \"loss\", \"loss\", \"lot\", \"lot\", \"lot\", \"lot\", \"lot\", \"lot\", \"lot\", \"lot\", \"lot\", \"lot\", \"lpp\", \"lta\", \"lta\", \"lta\", \"lta\", \"lta\", \"lta\", \"ltd\", \"ltd\", \"ltd\", \"ltd\", \"ltd\", \"ltd\", \"ltd\", \"ltd\", \"ltd\", \"ltd\", \"luggage\", \"luggage\", \"lump\", \"lump\", \"lump\", \"lump\", \"lump\", \"lump\", \"lump\", \"machine\", \"machine\", \"machine\", \"machine\", \"machine\", \"machine\", \"machine\", \"machine\", \"machine\", \"machine\", \"made\", \"made\", \"made\", \"made\", \"made\", \"made\", \"made\", \"made\", \"made\", \"made\", \"maintenance\", \"maintenance\", \"maintenance\", \"maintenance\", \"maintenance\", \"maintenance\", \"maintenance\", \"maintenance\", \"maintenance\", \"maintenance\", \"majibur\", \"malarkodi\", \"malay\", \"malay\", \"malay\", \"malay\", \"malay\", \"malay\", \"malay\", \"malay\", \"maldives\", \"malice\", \"malice\", \"malice\", \"malice\", \"malice\", \"manager\", \"manager\", \"manager\", \"manager\", \"manager\", \"manager\", \"manager\", \"manager\", \"manager\", \"manager\", \"manoj\", \"manoj\", \"manoj\", \"margin\", \"margin\", \"margin\", \"margin\", \"margin\", \"margin\", \"margin\", \"margin\", \"margin\", \"margin\", \"mark\", \"mark\", \"mark\", \"mark\", \"mark\", \"mark\", \"mark\", \"mark\", \"mark\", \"marriage\", \"marriage\", \"marriage\", \"marriage\", \"married\", \"married\", \"married\", \"married\", \"married\", \"married\", \"married\", \"married\", \"married\", \"masoud\", \"masum\", \"matrimonial\", \"matrimonial\", \"matter\", \"matter\", \"matter\", \"matter\", \"matter\", \"matter\", \"matter\", \"matter\", \"matter\", \"matter\", \"mda\", \"mda\", \"mdg\", \"mdm\", \"mdm\", \"mdm\", \"mdm\", \"mdm\", \"mdm\", \"mdm\", \"mdm\", \"mdm\", \"mdm\", \"meaning\", \"meaning\", \"meaning\", \"meaning\", \"meaning\", \"meaning\", \"meaning\", \"meaning\", \"meaning\", \"meaning\", \"medical\", \"medical\", \"medical\", \"medical\", \"medical\", \"medical\", \"medical\", \"medical\", \"medical\", \"medical\", \"meeting\", \"meeting\", \"meeting\", \"meeting\", \"meeting\", \"meeting\", \"meeting\", \"meeting\", \"meeting\", \"meeting\", \"megl\", \"megl\", \"member\", \"member\", \"member\", \"member\", \"member\", \"member\", \"member\", \"member\", \"member\", \"member\", \"mercurine\", \"metal-form\", \"metal-forms\", \"meted\", \"meted\", \"metro\", \"metro\", \"metro\", \"metro\", \"metro\", \"mfgs\", \"million\", \"million\", \"million\", \"million\", \"million\", \"million\", \"million\", \"million\", \"million\", \"million\", \"mitigating\", \"mitigating\", \"mitigating\", \"mitigating\", \"mitigating\", \"mitigating\", \"mlc\", \"mlc\", \"modesty\", \"modesty\", \"modesty\", \"mogan\", \"mogan\", \"month\", \"month\", \"month\", \"month\", \"month\", \"month\", \"month\", \"month\", \"month\", \"month\", \"monthly\", \"monthly\", \"monthly\", \"monthly\", \"monthly\", \"monthly\", \"monthly\", \"monthly\", \"monthly\", \"monthly\", \"morten\", \"mortgagee\", \"mortgagee\", \"mortgagee\", \"mortgagee\", \"mother\", \"mother\", \"mother\", \"mother\", \"mother\", \"mother\", \"mother\", \"mother\", \"mother\", \"motorcycle\", \"motorcycle\", \"motorcycle\", \"motorcycle\", \"motorcycle\", \"motorcycle\", \"motorcycle\", \"mra\", \"mra\", \"mra\", \"muhammad\", \"muhammad\", \"muhammad\", \"mujibur\", \"multiplier\", \"multiplier\", \"multiplier\", \"multiplier\", \"multistar\", \"must\", \"must\", \"must\", \"must\", \"must\", \"must\", \"must\", \"must\", \"must\", \"must\", \"nagender\", \"namly\", \"nantong\", \"natsteel\", \"natsteel\", \"natsteel\", \"naushad\", \"nawc\", \"nedec/kodec\", \"negligence\", \"negligence\", \"negligence\", \"negligence\", \"negligence\", \"negligence\", \"negligence\", \"negligence\", \"negligence\", \"negligent\", \"negligent\", \"negligent\", \"negligent\", \"negligent\", \"negligent\", \"negligent\", \"negligent\", \"negligent\", \"neo\", \"neo\", \"neo\", \"neo\", \"neo\", \"neo\", \"neo\", \"neo\", \"neo\", \"neo\", \"nesh\", \"newco\", \"newco\", \"nila\", \"niu\", \"nkf\", \"nlb\", \"non-financial\", \"non-financial\", \"non-parent\", \"non-user\", \"norasharee\", \"normandy\", \"note\", \"note\", \"note\", \"note\", \"note\", \"note\", \"note\", \"note\", \"note\", \"note\", \"nqf\", \"ntl\", \"ntl\", \"ntl\", \"ntl\", \"nutella\", \"nutello\", \"oafl\", \"oafl\", \"obc\", \"occupier\", \"occupier\", \"occupier\", \"occupier\", \"occupier\", \"occupier\", \"oceantek\", \"october\", \"october\", \"october\", \"october\", \"october\", \"october\", \"october\", \"october\", \"october\", \"october\", \"oderco\", \"offence\", \"offence\", \"offence\", \"offence\", \"offence\", \"offence\", \"offence\", \"offence\", \"offence\", \"offender\", \"offender\", \"offer\", \"offer\", \"offer\", \"offer\", \"offer\", \"offer\", \"offer\", \"offer\", \"offer\", \"offer\", \"officer\", \"officer\", \"officer\", \"officer\", \"officer\", \"officer\", \"officer\", \"officer\", \"officer\", \"officer\", \"offorum\", \"offorum\", \"oil\", \"oil\", \"oil\", \"oil\", \"oil\", \"oil\", \"oil\", \"oil\", \"oil\", \"oil\", \"one\", \"one\", \"one\", \"one\", \"one\", \"one\", \"one\", \"one\", \"one\", \"one\", \"one-transaction\", \"option\", \"option\", \"option\", \"option\", \"option\", \"option\", \"option\", \"option\", \"option\", \"option\", \"order\", \"order\", \"order\", \"order\", \"order\", \"order\", \"order\", \"order\", \"order\", \"order\", \"ordinary\", \"ordinary\", \"ordinary\", \"ordinary\", \"ordinary\", \"ordinary\", \"ordinary\", \"ordinary\", \"ordinary\", \"ordinary\", \"osim\", \"osim\", \"osk\", \"oui\", \"oui\\u0092s\", \"owner\", \"owner\", \"owner\", \"owner\", \"owner\", \"owner\", \"owner\", \"owner\", \"owner\", \"owner\", \"oxel\", \"packet\", \"packet\", \"pae\", \"pae\", \"pain\", \"pain\", \"pain\", \"pain\", \"pain\", \"pain\", \"pain\", \"pain\", \"pain\", \"pain\", \"paint\", \"paint\", \"paint\", \"paint\", \"paint\", \"paint\", \"paint\", \"paint\", \"paint\", \"paint\", \"painting\", \"painting\", \"painting\", \"painting\", \"painting\", \"painting\", \"painting\", \"painting\", \"panatron\", \"pancreatic\", \"parakou\", \"parent\", \"parent\", \"parent\", \"parent\", \"parent\", \"parent\", \"parent\", \"parent\", \"parent\", \"parent\", \"party\", \"party\", \"party\", \"party\", \"party\", \"party\", \"party\", \"party\", \"party\", \"party\", \"patent\", \"patent\", \"patent\", \"patent\", \"patent\", \"patent\", \"patent\", \"patent\", \"patent\", \"patient\", \"patient\", \"patient\", \"patient\", \"patient\", \"patient\", \"patient\", \"patient\", \"pausi\", \"payment\", \"payment\", \"payment\", \"payment\", \"payment\", \"payment\", \"payment\", \"payment\", \"payment\", \"payment\", \"pcrd\", \"pcsb\", \"pedestrian\", \"pedestrian\", \"pedestrian\", \"pedestrian\", \"pedestrian\", \"pelletier\", \"penal\", \"penal\", \"penal\", \"penal\", \"penal\", \"penal\", \"person\", \"person\", \"person\", \"person\", \"person\", \"person\", \"person\", \"person\", \"person\", \"person\", \"pevensey\", \"phone\", \"phone\", \"phone\", \"phone\", \"phone\", \"phone\", \"phone\", \"phone\", \"phone\", \"pilot\", \"pilot\", \"pilot\", \"pilot\", \"pilot\", \"pilot\", \"plaintiff\", \"plaintiff\", \"plaintiff\", \"plaintiff\", \"plaintiff\", \"plaintiff\", \"plaintiff\", \"plaintiff\", \"plaintiff\", \"plant\", \"plant\", \"plant\", \"plant\", \"plant\", \"plant\", \"plant\", \"plant\", \"plastic\", \"plastic\", \"plastic\", \"plastic\", \"plastic\", \"plastic\", \"plastic\", \"plastic\", \"pledged\", \"pledged\", \"pledged\", \"pledged\", \"pledged\", \"plymat\", \"pnets\", \"pngsdp\", \"police\", \"police\", \"police\", \"police\", \"police\", \"police\", \"police\", \"police\", \"police\", \"police\", \"possessor\", \"power\", \"power\", \"power\", \"power\", \"power\", \"power\", \"power\", \"power\", \"power\", \"power\", \"ppi\", \"ppi\", \"ppl\", \"ppl\", \"ppl\", \"ppl\", \"ppl\", \"pre-action\", \"pre-action\", \"pre-action\", \"pre-emption\", \"pre-emption\", \"pre-emption\", \"premier\", \"premier\", \"premier\", \"premier\", \"premier\", \"premier\", \"prenuptial\", \"prenuptial\", \"price\", \"price\", \"price\", \"price\", \"price\", \"price\", \"price\", \"price\", \"price\", \"price\", \"principle\", \"principle\", \"principle\", \"principle\", \"principle\", \"principle\", \"principle\", \"principle\", \"principle\", \"principle\", \"privilege\", \"privilege\", \"privilege\", \"privilege\", \"privilege\", \"privilege\", \"privilege\", \"privilege\", \"probation\", \"probation\", \"probation\", \"probation\", \"proceeding\", \"proceeding\", \"proceeding\", \"proceeding\", \"proceeding\", \"proceeding\", \"proceeding\", \"proceeding\", \"proceeding\", \"proceeding\", \"proceeds\", \"proceeds\", \"proceeds\", \"proceeds\", \"proceeds\", \"proceeds\", \"proceeds\", \"proceeds\", \"proceeds\", \"process\", \"process\", \"process\", \"process\", \"process\", \"process\", \"process\", \"process\", \"process\", \"process\", \"product\", \"product\", \"product\", \"product\", \"product\", \"product\", \"product\", \"product\", \"product\", \"product\", \"profit\", \"profit\", \"profit\", \"profit\", \"profit\", \"profit\", \"profit\", \"profit\", \"profit\", \"profit\", \"project\", \"project\", \"project\", \"project\", \"project\", \"project\", \"project\", \"project\", \"project\", \"project\", \"propeller\", \"property\", \"property\", \"property\", \"property\", \"property\", \"property\", \"property\", \"property\", \"property\", \"property\", \"proprietor\", \"proprietor\", \"proprietor\", \"proprietor\", \"proprietor\", \"proprietor\", \"proprietor\", \"proprietor\", \"proprietor\", \"proprietor\", \"propulsion\", \"propulsion\", \"prosecution\", \"prosecution\", \"prosecution\", \"prosecution\", \"prosecution\", \"prosecutor\", \"prosecutor\", \"prosecutor\", \"prosecutor\", \"prosecutor\", \"prosecutor\", \"prosecutor\", \"prosecutorial\", \"provocation\", \"provocation\", \"proximity\", \"proximity\", \"proximity\", \"proximity\", \"proximity\", \"proximity\", \"proximity\", \"proximity\", \"proximity\", \"proximity\", \"ptnm\", \"public\", \"public\", \"public\", \"public\", \"public\", \"public\", \"public\", \"public\", \"public\", \"public\", \"publication\", \"publication\", \"publication\", \"publication\", \"publication\", \"publication\", \"publication\", \"publication\", \"published\", \"published\", \"published\", \"published\", \"published\", \"published\", \"published\", \"published\", \"published\", \"published\", \"punishment\", \"punishment\", \"punishment\", \"punishment\", \"punishment\", \"punishment\", \"purchaser\", \"purchaser\", \"purchaser\", \"purchaser\", \"purchaser\", \"purchaser\", \"purchaser\", \"purchaser\", \"pwm\", \"quantity\", \"quantity\", \"quantity\", \"quantity\", \"quantity\", \"quantity\", \"quantity\", \"quantity\", \"quantity\", \"quantity\", \"question\", \"question\", \"question\", \"question\", \"question\", \"question\", \"question\", \"question\", \"question\", \"question\", \"quotation\", \"quotation\", \"quotation\", \"quotation\", \"quotation\", \"quotation\", \"quotation\", \"quotation\", \"quotation\", \"quotation\", \"r.c\", \"radar\", \"radar\", \"radar\", \"ramindo\", \"rape\", \"rape\", \"rashness\", \"rashness\", \"rdu\", \"reader\", \"reader\", \"reader\", \"reader\", \"reader\", \"reader\", \"reader\", \"reader\", \"reformative\", \"reformative\", \"regis\", \"regis\", \"regis\", \"registrar\", \"registrar\", \"registrar\", \"registrar\", \"registrar\", \"registrar\", \"registrar\", \"registrar\", \"registrar\", \"registrar\", \"remuneration\", \"remuneration\", \"remuneration\", \"remuneration\", \"remuneration\", \"remuneration\", \"remuneration\", \"remuneration\", \"remuneration\", \"remuneration\", \"report\", \"report\", \"report\", \"report\", \"report\", \"report\", \"report\", \"report\", \"report\", \"report\", \"republication\", \"reputation\", \"reputation\", \"reputation\", \"reputation\", \"reputation\", \"reputation\", \"reputation\", \"reputation\", \"reputation\", \"respondent\", \"respondent\", \"respondent\", \"respondent\", \"respondent\", \"respondent\", \"respondent\", \"respondent\", \"respondent\", \"respondent\", \"retina\", \"rhb\", \"rhb\", \"rhb\", \"rhb\", \"richvein\", \"ridzuan\", \"riggs\", \"right\", \"right\", \"right\", \"right\", \"right\", \"right\", \"right\", \"right\", \"right\", \"right\", \"ril\", \"risk\", \"risk\", \"risk\", \"risk\", \"risk\", \"risk\", \"risk\", \"risk\", \"risk\", \"risk\", \"riverwealth\", \"road\", \"road\", \"road\", \"road\", \"road\", \"road\", \"road\", \"road\", \"road\", \"road\", \"roc\", \"roc\", \"roc\", \"roc\", \"roc\", \"roc\", \"room\", \"room\", \"room\", \"room\", \"room\", \"room\", \"room\", \"room\", \"room\", \"room\", \"rosalind\", \"rosalind\", \"roshamima\", \"rqi\", \"rsc\", \"rsc\", \"rsc\", \"rsc\", \"rsc\", \"rtc\", \"rtc\", \"rtc\", \"rtc\", \"rule\", \"rule\", \"rule\", \"rule\", \"rule\", \"rule\", \"rule\", \"rule\", \"rule\", \"rule\", \"sachet\", \"safety\", \"safety\", \"safety\", \"safety\", \"safety\", \"safety\", \"safety\", \"safety\", \"safety\", \"safety\", \"said\", \"said\", \"said\", \"said\", \"said\", \"said\", \"said\", \"said\", \"said\", \"said\", \"sakae\", \"sale\", \"sale\", \"sale\", \"sale\", \"sale\", \"sale\", \"sale\", \"sale\", \"sale\", \"sale\", \"sandipala\", \"sandz\", \"saul\", \"saul\", \"saw\", \"saw\", \"saw\", \"saw\", \"saw\", \"saw\", \"saw\", \"saw\", \"saw\", \"saw\", \"scan\", \"scan\", \"scan\", \"scan\", \"scheme\", \"scheme\", \"scheme\", \"scheme\", \"scheme\", \"scheme\", \"scheme\", \"scheme\", \"scheme\", \"scheme\", \"schenker\", \"scja\", \"scja\", \"scorpio\", \"scrubber\", \"seaquest\", \"seaspan\", \"seb\", \"second\", \"second\", \"second\", \"second\", \"second\", \"second\", \"second\", \"second\", \"second\", \"second\", \"see\", \"see\", \"see\", \"see\", \"see\", \"see\", \"see\", \"see\", \"see\", \"see\", \"seeto\", \"sejin\", \"sentence\", \"sentence\", \"sentence\", \"sentence\", \"sentence\", \"sentence\", \"sentence\", \"sentence\", \"sentence\", \"sentence\", \"sentenced\", \"sentenced\", \"sentencing\", \"sentencing\", \"servient\", \"set\", \"set\", \"set\", \"set\", \"set\", \"set\", \"set\", \"set\", \"set\", \"set\", \"setiadi\", \"setting-aside\", \"setting-aside\", \"sexual\", \"sexual\", \"sexual\", \"sexual\", \"sgt\", \"sgt\", \"shahiran\", \"shahiran\", \"share\", \"share\", \"share\", \"share\", \"share\", \"share\", \"share\", \"share\", \"share\", \"share\", \"shareholder\", \"shareholder\", \"shareholder\", \"shareholder\", \"shareholder\", \"shareholder\", \"shareholder\", \"shareholder\", \"shareholding\", \"shareholding\", \"shareholding\", \"shareholding\", \"shareholding\", \"shareholding\", \"shareholding\", \"sharikat\", \"sharom\", \"siac\", \"siac\", \"signed\", \"signed\", \"signed\", \"signed\", \"signed\", \"signed\", \"signed\", \"signed\", \"signed\", \"signed\", \"sijori\", \"singapore\", \"singapore\", \"singapore\", \"singapore\", \"singapore\", \"singapore\", \"singapore\", \"singapore\", \"singapore\", \"singapore\", \"sinindo\", \"sintalow\", \"sinwa\", \"sinwa\", \"siraj\", \"site\", \"site\", \"site\", \"site\", \"site\", \"site\", \"site\", \"site\", \"site\", \"slr\", \"slr\", \"slr\", \"slr\", \"slr\", \"slr\", \"slr\", \"slr\", \"slr\", \"slr\", \"sof\", \"sof\", \"sof\", \"son\", \"son\", \"son\", \"son\", \"son\", \"son\", \"son\", \"son\", \"son\", \"son\", \"specification\", \"specification\", \"specification\", \"specification\", \"specification\", \"specification\", \"specification\", \"specification\", \"spectramed\", \"spouse\", \"spouse\", \"spouse\", \"spouse\", \"spouse\", \"spreader\", \"sps\", \"sps\", \"sps\", \"ssgt\", \"ssgt\", \"ssi\", \"ssi\", \"sssgt\", \"sssgt\", \"st-ap\", \"stab\", \"stab\", \"stabbed\", \"stabbed\", \"statement\", \"statement\", \"statement\", \"statement\", \"statement\", \"statement\", \"statement\", \"statement\", \"statement\", \"statement\", \"stay\", \"stay\", \"stay\", \"stay\", \"stay\", \"stay\", \"stay\", \"stay\", \"stay\", \"stay\", \"stiffener\", \"stratum\", \"stratum\", \"stratum\", \"stratum\", \"stratum\", \"stratum\", \"stratum\", \"stratum\", \"stratum\", \"sub-contract\", \"sub-contract\", \"sub-contract\", \"sub-contract\", \"sub-contract\", \"sub-contract\", \"sub-lease\", \"sub-lease\", \"sub-lease\", \"sub-lease\", \"sub-lease\", \"sub-system\", \"subdivision\", \"subdivision\", \"subdivision\", \"subdivision\", \"subsidiary\", \"subsidiary\", \"subsidiary\", \"subsidiary\", \"subsidiary\", \"subsidiary\", \"subsidiary\", \"subsidiary\", \"subsidiary\", \"sucofindo\", \"sucofindo\", \"suitcase\", \"sum\", \"sum\", \"sum\", \"sum\", \"sum\", \"sum\", \"sum\", \"sum\", \"sum\", \"sum\", \"summons\", \"summons\", \"summons\", \"summons\", \"summons\", \"summons\", \"summons\", \"summons\", \"summons\", \"summons\", \"supplied\", \"supplied\", \"supplied\", \"supplied\", \"supplied\", \"supplied\", \"supplied\", \"supplied\", \"supplied\", \"supplied\", \"supply\", \"supply\", \"supply\", \"supply\", \"supply\", \"supply\", \"supply\", \"supply\", \"supply\", \"supply\", \"surgery\", \"surgery\", \"surgery\", \"surgery\", \"surgery\", \"surgery\", \"syscon\", \"taisei\", \"tan\", \"tan\", \"tan\", \"tan\", \"tan\", \"tan\", \"tan\", \"tan\", \"tan\", \"tan\", \"tannos\", \"taragon\", \"taxation\", \"taxation\", \"taxation\", \"taxation\", \"taxation\", \"taxing\", \"taxing\", \"taxing\", \"tbc\", \"tc\", \"tca\", \"tcfr\", \"tct\", \"telemedia\", \"tembusu\", \"tenement\", \"tenement\", \"terapanth\", \"term\", \"term\", \"term\", \"term\", \"term\", \"term\", \"term\", \"term\", \"term\", \"term\", \"test\", \"test\", \"test\", \"test\", \"test\", \"test\", \"test\", \"test\", \"test\", \"test\", \"testis\", \"tfi\", \"thespiliadatest\", \"third\", \"third\", \"third\", \"third\", \"third\", \"third\", \"third\", \"third\", \"third\", \"third\", \"tik\", \"tile\", \"tile\", \"tile\", \"tile\", \"tile\", \"tile\", \"time\", \"time\", \"time\", \"time\", \"time\", \"time\", \"time\", \"time\", \"time\", \"time\", \"title\", \"title\", \"title\", \"title\", \"title\", \"title\", \"title\", \"title\", \"title\", \"title\", \"tjong\", \"tjong\", \"tjong\", \"tjong\", \"tkt\", \"tma\", \"tma\", \"tma\", \"told\", \"told\", \"told\", \"told\", \"told\", \"told\", \"told\", \"told\", \"told\", \"told\", \"trafficking\", \"trafficking\", \"trafficking\", \"transaction\", \"transaction\", \"transaction\", \"transaction\", \"transaction\", \"transaction\", \"transaction\", \"transaction\", \"transaction\", \"transaction\", \"transfer\", \"transfer\", \"transfer\", \"transfer\", \"transfer\", \"transfer\", \"transfer\", \"transfer\", \"transfer\", \"transfer\", \"transocean\", \"transocean\", \"treatment\", \"treatment\", \"treatment\", \"treatment\", \"treatment\", \"treatment\", \"treatment\", \"treatment\", \"treatment\", \"treatment\", \"trevi\", \"trial\", \"trial\", \"trial\", \"trial\", \"trial\", \"trial\", \"trial\", \"trial\", \"trial\", \"trial\", \"tribunal\", \"tribunal\", \"tribunal\", \"tribunal\", \"tribunal\", \"tribunal\", \"tribunal\", \"tricom\", \"trust\", \"trust\", \"trust\", \"trust\", \"trust\", \"trust\", \"trust\", \"trust\", \"trust\", \"trust\", \"trustee\", \"trustee\", \"trustee\", \"trustee\", \"trustee\", \"trustee\", \"trustee\", \"trustee\", \"tumour\", \"tumour\", \"turegum\", \"turegum\", \"twg\", \"two\", \"two\", \"two\", \"two\", \"two\", \"two\", \"two\", \"two\", \"two\", \"two\", \"tyc\", \"tyk\", \"ucp\", \"udl\", \"udl\", \"uht\", \"ultrasound\", \"uob\", \"uob\", \"uob\", \"uob\", \"uob\", \"uob\", \"uob\", \"uob\", \"urine\", \"urine\", \"urine\", \"value\", \"value\", \"value\", \"value\", \"value\", \"value\", \"value\", \"value\", \"value\", \"value\", \"vendor\", \"vendor\", \"vendor\", \"vendor\", \"vendor\", \"vendor\", \"vendor\", \"vendor\", \"venkatesan\", \"vessel\", \"vessel\", \"vessel\", \"vessel\", \"vessel\", \"vessel\", \"vessel\", \"vessel\", \"vexatious\", \"vexatious\", \"vexatious\", \"vexatious\", \"vexatious\", \"vexatious\", \"vhls\", \"vibration\", \"vibration\", \"victim\", \"victim\", \"victim\", \"victim\", \"victim\", \"victim\", \"victim\", \"victim\", \"victim\", \"victim\", \"view\", \"view\", \"view\", \"view\", \"view\", \"view\", \"view\", \"view\", \"view\", \"view\", \"vinci\", \"virsagi\", \"vitria\", \"wager\", \"wagering\", \"wartsila\", \"wdu\", \"wdu\", \"website\", \"website\", \"website\", \"website\", \"website\", \"website\", \"website\", \"website\", \"website\", \"website\", \"welfare\", \"welfare\", \"welfare\", \"welfare\", \"welfare\", \"welfare\", \"wibowo\", \"wife\", \"wife\", \"wife\", \"wife\", \"wife\", \"wife\", \"wife\", \"wife\", \"wife\", \"wife\", \"wife`s\", \"wife`s\", \"wife`s\", \"witness\", \"witness\", \"witness\", \"witness\", \"witness\", \"witness\", \"witness\", \"witness\", \"witness\", \"witness\", \"wmw\", \"wolero\", \"woman\", \"woman\", \"woman\", \"woman\", \"woman\", \"woman\", \"woman\", \"woman\", \"word\", \"word\", \"word\", \"word\", \"word\", \"word\", \"word\", \"word\", \"word\", \"word\", \"work\", \"work\", \"work\", \"work\", \"work\", \"work\", \"work\", \"work\", \"work\", \"work\", \"worker\", \"worker\", \"worker\", \"worker\", \"worker\", \"worker\", \"worker\", \"worker\", \"worker\", \"wpu\", \"writ\", \"writ\", \"writ\", \"writ\", \"writ\", \"writ\", \"writ\", \"writ\", \"wsg\", \"wsg\", \"wsl\", \"wyc\", \"xtron\", \"year\", \"year\", \"year\", \"year\", \"year\", \"year\", \"year\", \"year\", \"year\", \"year\", \"yhpl\", \"yusuf\"], \"Freq\": [0.4652749343148016, 0.08863704500878725, 0.011517808108486478, 0.04390121061640498, 0.0349429154209155, 0.12797564564984976, 0.016859400274741077, 0.047184064135248956, 0.026763602416338145, 0.13693394084533925, 0.9981146662886057, 0.0015199950956148252, 0.9925567974364808, 0.004559985286844476, 0.9973286077956666, 0.032377745780609236, 0.9670153406475291, 0.01683404327137117, 0.9819858574966515, 0.017160511121888777, 0.9810092191346418, 0.002264846855777702, 0.02113857065392522, 0.008493175709166382, 0.07021025252910876, 0.0030197958077036024, 0.8829127992773408, 0.011890445992832935, 0.03505551023001127, 0.046190789950132496, 0.05296622470047081, 0.30792878019689734, 0.176721013335998, 0.04480624458810684, 0.22037837985774314, 0.017969631294375527, 0.017822339234585562, 0.08015633893769804, 0.0046946511269741675, 0.9952660389185234, 5.739560004071944e-05, 0.0006887472004886333, 0.00034437360024431663, 0.000516560400366475, 0.7241315879137369, 0.00031567580022395694, 0.0002869780002035972, 0.2736048253941096, 0.9882012343314751, 0.2830696553868259, 0.1616631029018873, 0.012781948904890423, 0.057079527841598296, 0.07317775558607369, 0.08879281687709961, 0.01730614387809906, 0.04183782244641968, 0.032020758596787345, 0.2322712914400706, 0.19042028335712743, 0.4901241869185703, 0.045708210690158804, 0.05843553040040382, 0.09594441012338555, 0.01777541526839509, 0.0023557779271366984, 0.05243900476769223, 0.025515828457558527, 0.02126319038129877, 0.9958098994392289, 0.9953410590374474, 0.03347085648931716, 0.45329736106393115, 0.13425286145935825, 0.053937583305080646, 0.14407984581494143, 0.0005910968033433495, 0.14245432960574722, 0.01743735569862881, 0.01965396871116637, 0.0008127581045971056, 0.0025870550822673405, 0.009313398296162425, 0.0010348220329069362, 0.9867028083767636, 0.08857496112481261, 0.06034777571141079, 0.2114875903291466, 0.182287053694593, 0.21273131688950722, 0.06840496081983392, 0.049694987346582904, 0.03449989328304667, 0.04385488001967218, 0.048126810379171686, 0.2067853675116804, 0.052419030720575084, 0.10892794496550876, 0.25023235008196093, 0.32093808514705036, 0.001605975205899972, 0.010064111290306491, 0.046059368905211194, 0.002162713277278629, 0.0008136941043226524, 0.9925856855520765, 0.004131056678900275, 0.9914536029360659, 0.02248572831909826, 0.003212246902728323, 0.006424493805456646, 0.008030617256820808, 0.004818370354092484, 0.894610762409838, 0.05942656770047397, 0.9988213403659111, 0.9871895262136461, 0.9913731719286302, 0.9921772269844005, 0.003647710393325002, 0.995332488634673, 0.0023040103903580393, 0.9985068888820725, 0.00524060551582948, 0.9904744424917717, 0.052321124052209345, 0.14465251943846114, 0.02031290698497539, 0.0018466279077250355, 0.01046422481044187, 0.013541937989983596, 0.7164916281973138, 0.02954604652360057, 0.004924341087266762, 0.006770968994991798, 0.9963544855088832, 0.9948938005907692, 0.0018690610325851598, 0.02149420187472934, 0.07382791078711382, 0.18223345067705307, 0.718653967028994, 0.0018690610325851598, 0.9960302642790797, 0.0028539549119744405, 0.03152778095567537, 0.01891666857340522, 0.9458334286702611, 0.9745866821641838, 0.02426356885056059, 0.99688380466576, 0.002469571770435409, 0.9962995901044265, 0.13675974383369438, 0.49982337470882243, 0.015829395178928465, 0.01621880219440026, 0.023734357593005902, 0.036214852438876934, 0.06285029229714771, 0.021845733567967696, 0.03393682139836693, 0.15280331287113233, 0.22626799368427264, 0.07728691872211524, 2.8104334080769177e-05, 0.019771399025821115, 0.006140796996648065, 0.1937372269857823, 0.00628131866705191, 0.01124173363230767, 0.02395894480385572, 0.4352939784099934, 0.04840201245596085, 0.7815464058505803, 0.0005081576110862031, 0.0038111820831465233, 0.004827497305318929, 0.00025407880554310155, 0.010163152221724063, 0.0005081576110862031, 0.1499064952704299, 0.10676953923536468, 0.7465763227050858, 0.014948335827723253, 0.030106788825715707, 0.0292663201446389, 0.005012795347850971, 0.02659483040835904, 0.012697080431981799, 0.0043224103598235915, 0.02371322350180998, 0.9962886374151764, 0.021964282294412357, 0.9613597404246639, 0.013516481411946064, 0.001689560176493258, 0.013512110016311377, 0.8971670856035787, 0.007959188091799853, 0.08107266009786826, 0.000370194794967435, 0.06136498652580856, 0.8717190551679928, 0.05716190525691756, 0.009246778791560193, 0.10526243401492982, 0.12800526647362998, 0.005532040327791932, 0.043026980327270585, 0.16734421991570594, 0.013676433032596722, 0.0007683389344155462, 0.4814411763047812, 0.024894181475063695, 0.030118886229089408, 0.9985201756183311, 0.07188103184244551, 0.6836066240141457, 0.017028763807777524, 0.02668931250642054, 0.054852268034667986, 0.020467264192040292, 0.029800336663610667, 0.012444096628760499, 0.012116620401687853, 0.07122607938830022, 0.02347544164218739, 0.03690174686210509, 0.1401936900877296, 0.1064220021112495, 0.10848125137810805, 0.3845853930785015, 0.036160417126036015, 0.04843354275651293, 0.03756070662749982, 0.07792199225792727, 0.006182198621017621, 0.9767873821207841, 0.01648586298938032, 0.026224347472551767, 0.049203107386619406, 0.0009736762675452389, 0.08211336522964847, 0.10314477260862565, 0.7342817292314495, 0.0040245285725203205, 0.00821357278440644, 0.003422321993502683, 0.7912408448978203, 0.03285429113762576, 0.0013689287974010733, 0.16153359809332665, 0.0013689287974010733, 0.0007151289872115588, 0.003575644936057794, 0.0014302579744231176, 0.7859267569455031, 0.1387350235190424, 0.026459772526827675, 0.036471578347789496, 0.006436160884904029, 0.07953655946840392, 0.31588453476077005, 0.15429841236524489, 0.0070364096844085615, 0.0023873532857814762, 0.09122202555143956, 0.023370932166071293, 0.3249313472121525, 0.0012565017293586717, 0.0004367920405262342, 0.010046216932103388, 0.9821269031232377, 0.0013103761215787026, 0.0010919801013155855, 0.004804712445788576, 0.007568090291234149, 0.0006880082082940136, 0.006880082082940136, 0.004128049249764082, 0.003440041041470068, 0.9769716557774993, 0.004469960012822216, 0.9923311228465319, 0.0014254806998949463, 0.004276442099684839, 0.0014254806998949463, 0.9764542794280381, 0.014254806998949461, 0.25438466344028027, 0.05740157881315086, 0.011528150411641132, 0.26983525507082, 0.3133169510217818, 0.0056444885832931686, 0.07361752482786599, 0.012006496901750723, 0.0005740157881315086, 0.0017220473643945258, 0.0407976800735247, 0.8843884196583419, 0.024347002624522805, 0.05001005944496576, 0.005804975446918212, 0.9926508014230142, 0.041560465329554944, 0.004533868945042358, 0.018891120604343156, 0.003022579296694905, 0.0015112896483474524, 0.8977060511183867, 0.0007556448241737262, 0.0037782241208686312, 0.013601606835127072, 0.015112896483474525, 0.2599731403954358, 0.010786012416561314, 0.031148390997359308, 0.18356381879026312, 0.15967330530685162, 0.008769935329353593, 0.015322185862778689, 0.24495336609573826, 0.0762077138964519, 0.009576366164236681, 0.9976216458961502, 0.9961474504406276, 0.025398443077209013, 0.012245677912225774, 0.08708037626471662, 0.6925611174803243, 0.05533232241820535, 0.05714649692372028, 0.0004535436263787324, 0.0031748053846511267, 0.06621736945129493, 0.02651449808059637, 0.11195010300696247, 0.8462543970723676, 0.0007365138355721214, 0.013993762875870308, 0.9953354550543503, 0.27270895666194817, 0.08378407704674311, 0.19599400554547095, 0.19016944403954764, 0.1030997169125401, 0.0002489128848685178, 0.0005476083467107392, 0.05949017948357576, 0.0725332146506861, 0.021456290675666238, 0.005892785037828535, 0.9899878863551939, 0.997454847756434, 0.002258936999886282, 0.03356134971259619, 0.05034202456889428, 0.0032270528569804027, 0.015812558999203974, 0.8635593445279558, 0.0009681158570941208, 0.015812558999203974, 0.013553621999317691, 0.00032270528569804027, 0.9975640583572828, 0.08048289581464332, 0.01710593561208921, 0.11958217721370436, 0.31029742208140704, 0.1714843483100123, 0.020080880935930807, 0.08276722883116455, 0.14763166169563946, 0.015618462950168407, 0.034955607555138817, 0.06299543443038197, 0.004108397897633607, 0.9326063227628287, 0.04786250117878918, 0.9515065234343288, 0.013722110514273588, 0.00025411315767173313, 0.1386187275099304, 0.004574036838091196, 0.006606942099465061, 0.6284218389221959, 0.08373028545283606, 0.0029223013132249308, 0.051966140743869425, 0.06924583546554727, 0.030199140120709678, 0.006425348961853123, 0.016834414280055183, 0.04561997762915718, 0.038423586791881674, 0.02197469344953768, 0.20625370167548526, 0.035724940227903366, 0.55951938759817, 0.03906612168806699, 0.002315790764895117, 0.002315790764895117, 0.9448426320772079, 0.006947372294685352, 0.03936844300321699, 0.16719511998533018, 0.002802152848916148, 0.7701250079771214, 0.000233512737409679, 0.008639971284158124, 0.048337136643803555, 0.002568640111506469, 0.9974084963783664, 0.17937878685202144, 0.21348375087911597, 0.06332090517065786, 0.05194183872305449, 0.062020747436795726, 0.05779792107805339, 0.04732144347048655, 0.045333599001358485, 0.06742553537177637, 0.2119901812509603, 0.0543382337905242, 0.07076319991356902, 0.14041493595415006, 0.06113051301433973, 0.04272961111709403, 0.15930982179494596, 0.010250166828667065, 0.045817010764282906, 0.25205530719649977, 0.16313819735746016, 0.9941090188730957, 0.9945760195446688, 0.9929235710814253, 0.9908123542458213, 0.004443104727559736, 0.992452297677517, 0.02696365118785775, 0.0028429549852107016, 0.051439716763656135, 0.04819697123365018, 0.022832482224973447, 0.13726142037970418, 0.009994763619881374, 0.017946153344142554, 0.004575380679323473, 0.6779115004578206, 0.9972244765761807, 0.0019649743380811442, 0.9953873739495949, 0.08178466403262098, 0.0016652985888995224, 0.05476982025713985, 0.34582700696146745, 0.43630823029167487, 0.00018503317654439136, 0.041262398369399274, 0.002590464471621479, 0.035711403073067534, 0.9941613672710412, 0.14475395740668506, 0.013430779553197582, 0.05820004473052286, 0.5562581198282666, 0.05446927263241242, 0.01678847444149698, 0.012684625133575494, 0.022384632588662638, 0.02910002236526143, 0.09215007082332785, 7.742922066393616e-05, 0.00023228766199180848, 0.00015485844132787232, 0.003948890253860744, 0.02903595774897606, 0.8851708506301181, 0.0017034428546065955, 0.012466104526893722, 0.06720856353629659, 0.9983241544136806, 0.9992995350866379, 0.011373708012981404, 0.002843427003245351, 0.9852474566245141, 0.9933505233363481, 0.22233315677328863, 0.21240352354212005, 0.2104333582184755, 0.09019416851644797, 0.11828872603161941, 0.011052627465645984, 0.03203488816246055, 0.04257527264395895, 0.058986749789918136, 0.0017140438315707675, 0.44852838665653144, 0.06445764375126524, 0.10604938423503618, 0.24763964318667908, 0.09394765270070773, 0.000318466619324433, 0.0228022099436294, 0.015668557670762102, 0.0005095465909190928, 0.002852723400309982, 0.9956004667081837, 0.06567653014574476, 0.01656443459428076, 0.0034872493882696334, 0.015983226362902486, 0.0950275458303475, 0.044171825584748685, 0.058120823137827224, 0.6320639516238711, 0.006393290545160994, 0.06306109310454254, 0.9883238480026822, 0.011175736727660614, 0.013556444014471307, 0.017291382671519525, 0.019089686469357554, 0.004564925025281154, 0.004703256086653311, 0.15133418114113886, 0.007469877314096434, 0.03970101461380882, 0.742146144261618, 0.9976237174602217, 0.002035966770326983, 0.87177551130049, 0.002990653555061715, 0.0039875380734156205, 0.007975076146831241, 0.0024922112958847627, 0.01943924810790115, 0.07127724306230421, 0.00598130711012343, 0.01395638325695467, 0.04339127044620001, 0.027421992475293686, 0.02145367646596506, 0.03919731865586098, 0.02645415744675391, 0.10742968816791526, 0.006290927685508552, 0.03613250773215168, 0.004839175142698886, 0.6876467877775116, 0.4514827660592298, 0.049498886263346004, 0.03338839969650226, 0.030430919070704856, 0.05588081814006672, 0.0921488700248454, 0.016810942504532606, 0.09238235533740835, 0.05191156782649652, 0.12623772565903651, 0.06112608197378517, 0.03273786695132512, 0.024558211775362052, 0.464354212777555, 0.2939094451579576, 0.003156384585548101, 0.024019316846122133, 0.08818630592061828, 0.005177240570197799, 0.002752213388618161, 0.9936846187530006, 0.08804750065488287, 0.015848550117878918, 0.685596538432688, 0.03580598359965237, 0.0035219000261953147, 0.02054441681947267, 0.01350061676708204, 0.0029349166884960957, 0.1262014176053321, 0.008217766727789068, 0.3023295022464439, 0.05437902964166237, 0.18626123047356782, 0.09398844629423125, 0.054528217651653214, 0.026853841798351787, 0.013501514904171315, 0.007459400499542163, 0.16641922514478566, 0.09428682231421294, 0.007094753285908431, 0.09714354499166929, 0.022375760363249668, 0.028379013143633725, 0.02183001011048748, 0.0021830010110487482, 0.744403344767623, 0.05675802628726745, 0.01964700909943873, 0.994152059941106, 0.000991459085357614, 0.003965836341430456, 0.9934420035283292, 0.3992189270219544, 0.011026313948819404, 0.330202369342307, 0.17233720320006624, 0.041093438559257504, 2.55238748815264e-05, 0.0007146684966827392, 0.028841978616124832, 0.01651394704834758, 5.10477497630528e-05, 0.5064824578073761, 0.02136567595067087, 0.19311921053087003, 0.16148476009227983, 0.05813451363322074, 0.00016562539496644085, 0.02368443148020104, 0.035443834522818345, 0.033896201547631184, 0.001848883720779883, 0.004930356588746354, 0.012634038758662534, 0.08196717828790814, 0.00015407364339832356, 0.8296865696999725, 0.015407364339832358, 0.016948100773815592, 0.0026192519377715006, 0.9921447404691923, 0.9911773281766598, 0.0040957740833746275, 0.008373949620576426, 0.9881260552280182, 0.0007875342211763039, 0.15776935564231956, 0.000525022814117536, 0.000262511407058768, 0.8408240368092339, 0.00035692680453653064, 0.010886267538364185, 0.0008923170113413266, 0.00035692680453653064, 0.0007138536090730613, 0.0926225057772297, 0.00017846340226826532, 0.893923181961741, 0.00044453579445571484, 0.08046097879648438, 0.011557930655848586, 0.9055194133062912, 0.0013336073833671446, 0.9970328409469029, 0.09232270606835578, 0.44289746893529336, 0.23317401404443705, 0.053485029236715734, 0.051635616054256685, 0.0008137418002819821, 0.05773867955637155, 0.014166504977636324, 0.05281924049103048, 0.0009247065912295252, 0.9966929045402807, 0.13760346078306993, 0.4886256827354569, 0.023356743016229427, 0.02344676550157579, 0.0376457665993887, 0.03755574411404234, 0.06863805314545066, 0.0185200803944384, 0.02933096249830633, 0.13527106002636866, 0.0006035176136045443, 0.015993216760520422, 0.0009052764204068163, 0.11074548209643387, 0.8717811928517641, 0.0003937540380201671, 0.00669381864634284, 0.0070875726843630076, 0.0023625242281210025, 0.9268970054994733, 0.05591307339886373, 0.36042418839156315, 0.0005813293361154245, 0.0017439880083462735, 0.0017439880083462735, 0.6348116350380435, 0.48752177185565937, 0.010534524063620649, 0.0001333484058686158, 0.41911403964505944, 0.07840886265074609, 0.000666742029343079, 0.003067013334978163, 0.0005333936234744632, 0.9906552652586411, 0.0018138423371747555, 0.003627684674349511, 0.0027207635057621333, 0.0004534605842936889, 0.1188066730849465, 0.014510738697398044, 0.8579474254836594, 0.0063733474865466915, 0.06298991765870314, 0.0011684470392002268, 0.002549338994618677, 0.002230671620291342, 0.06883215285470427, 0.005842235196001134, 0.003930230950037127, 0.8460618788390734, 0.9971273770306001, 0.03688609425865152, 0.05141697987569605, 0.008942083456642791, 0.013413125184964188, 0.8886195435038774, 0.9783082269142498, 0.01983057216718074, 0.9966666321186783, 0.013201229606557853, 0.00577553795286906, 0.012376152756147988, 0.0016501537008197316, 0.0016501537008197316, 0.020626921260246647, 0.9447129937192964, 0.017840483787807143, 0.98191278078277, 0.05142615534875983, 0.0102434211873546, 0.22221952494199876, 0.5038090828882569, 0.0131701129551702, 0.08069307302691582, 0.002717642355828771, 0.08508311067863922, 0.015469656487025314, 0.015469656487025314, 0.9922549054893931, 0.007305639197141828, 0.024352130657139426, 0.9679971936212922, 0.0115328790887047, 0.9860611620842519, 0.9988421063970323, 0.25865960956933387, 0.06537719813169528, 0.3251533794005693, 0.013437362866879654, 0.017480122468662932, 0.0018481186751009267, 0.0008855568651525274, 0.08836317415326306, 0.22439240913517086, 0.004389281853364701, 0.9953342233577229, 0.2179206435248055, 0.09143167633098352, 0.2540522707205374, 0.1315213847531649, 0.1094126739025684, 0.017754821501502056, 0.11461472351447347, 0.011930787696869217, 0.012948580012241945, 0.03839338789656018, 0.07428541539063423, 0.0895818645619806, 0.29990804066799315, 0.16207726994320196, 0.19380926556461198, 0.030755626525366637, 0.036613841101626944, 0.061267160776722424, 0.024083771035736837, 0.027501062871888686, 0.00040205373021155895, 0.0008041074604231179, 0.0024123223812693535, 0.010453396985500532, 0.04824644762538707, 0.156800954782508, 0.6585640100865335, 0.0032164298416924716, 0.008845182064654296, 0.11056477580817871, 0.03446970091226049, 0.9632366421592793, 0.08389584351630015, 0.1268313867284835, 0.2022544777707087, 0.11664329172898236, 0.0614404504561752, 0.18738817588368156, 0.03446279073810842, 0.036697934028815306, 0.0657028167314767, 0.08472752474074922, 0.006623614734129878, 0.01788375978215067, 0.0028150362620051983, 0.0003311807367064939, 0.06855441249824423, 0.567974963451637, 0.10200366690560013, 0.003146216998711692, 0.0486835682958546, 0.1823149955569249, 0.2808000366671873, 0.038172072023658604, 0.0024837992070188817, 0.366033567350151, 0.2550469606786231, 0.013987711323737913, 0.037910619475551355, 0.001045810192429003, 0.00013072627405362537, 0.004313967043769637, 0.7237447270983437, 0.036393591772182134, 0.09154676693208702, 0.12043652534918005, 0.001125575003263365, 0.027013800078320757, 0.003809996121198942, 0.00924276836809373, 0.004938883860813443, 7.055548372590633e-05, 0.051223281185008, 0.7222764869021031, 0.15021262485245457, 0.047977728933616307, 0.010301100623982325, 0.22099271178133817, 0.3711057450990169, 0.020947476403099352, 0.04382515833578943, 0.04566043572458061, 0.0271810909822694, 0.06809511966687282, 0.03993310456300813, 0.04217973722859734, 0.12008409811142302, 0.9850138935943529, 0.2239322321007225, 0.0006123944360092684, 0.0020413147866975615, 0.023679251525691714, 0.6415852374590436, 0.001428920350688293, 0.10267813377088734, 0.0022454462653673174, 0.0004082629573395123, 0.0016330518293580492, 0.0006549707727131096, 0.07663158040743383, 0.0006549707727131096, 0.9221988479800584, 0.03151734647643245, 0.9683958877032876, 0.04419513423193739, 0.22906200757266515, 0.07053929940126255, 0.04053339698832462, 0.09057713931769908, 0.27859717528487116, 0.0004577171554515955, 0.09840918842209304, 0.015918385517372156, 0.13177168330834266, 0.02382088471022759, 0.12841314180269037, 0.5451238474436426, 0.01726866735026709, 0.20436432278625946, 0.0007444026471946122, 0.0010023639605788836, 0.058630921370625144, 0.02056320183834622, 6.633290915595554e-05, 0.9952024095456998, 0.09533981067246391, 0.028442664281761308, 0.5590690091223003, 0.08623815810230029, 0.007053780741876805, 0.20137406311487008, 0.0011377065712704524, 0.011149524398450433, 0.01001181782717998, 0.004883462730563165, 0.9913429343043226, 0.98882533301392, 0.030911415245274423, 0.03297217626162605, 0.010303805081758141, 0.9108563692274197, 0.008243044065406513, 0.0061822830490548845, 0.002931000158549376, 0.001465500079274688, 0.0036637501981867195, 0.004396500237824064, 0.9877470534311396, 0.020172392566303578, 0.0028817703666147968, 0.0028817703666147968, 0.0057635407332295935, 0.9682748431825717, 0.9959764337432213, 0.7592988651705762, 0.0006940574635928484, 0.06801763143209916, 0.001388114927185697, 0.05691271201461358, 0.02776229854371394, 0.020821723907785455, 0.0645473441141349, 0.12172413393906384, 0.003350205521258638, 0.8096330009708375, 0.06365390490391412, 0.915668308219948, 0.08421788189252012, 0.008456367938456128, 0.020937151944008848, 0.04029510264649878, 0.45959850325753726, 0.33234544837643243, 0.0009678975351244966, 0.005603617308615506, 0.12434936227573137, 0.005043255577753956, 0.0023433308745119392, 0.0027983943235999663, 0.8896895095959606, 0.03278119064788532, 0.014391742235656969, 0.01659048063277123, 0.008595068279628467, 0.021187842735828313, 0.008395182970799898, 0.00199885308828569, 0.003597935558914242, 0.06587541466073098, 0.5796736374359994, 0.004351678872804552, 0.07247796191602064, 0.029561404756637818, 0.013055036618413656, 0.04066568877689771, 0.005252026225798598, 0.004801852549301574, 0.18412103368728225, 0.003764742424884367, 0.0025098282832562444, 0.9926370860278447, 0.01395671076865972, 0.1678230251936997, 0.0013699838791322424, 0.0005993679471203561, 0.0011987358942407121, 0.0005137439546745909, 0.1386252437696938, 0.001113111901794947, 0.014213582745997017, 0.6605034777266324, 0.019399992231410475, 0.026004244905933192, 0.017129780374543293, 0.04808721478636852, 0.01320850534904543, 0.013827654037281936, 0.7937486183191989, 0.023321267256908338, 0.00722340136275922, 0.037974452878505614, 0.0003060089129556044, 0.005508160433200879, 0.006120178259112087, 0.0006120178259112087, 0.9829006284134013, 0.004284124781378461, 0.01622514785971041, 0.0026311050583314177, 0.008770350194438059, 0.1504115058346127, 0.033327330738864624, 0.0026311050583314177, 0.7345168287841874, 0.051306548637462646, 0.6369176194831307, 0.1301685248943661, 0.018163049985260384, 0.04056414496708152, 0.060846217450622284, 0.01997935498378642, 0.0006054349995086795, 0.033298924972977366, 0.04026142746732718, 0.019373919984277743, 0.12099748801064478, 0.3628758961244096, 0.13420851753011145, 0.13704500327987928, 0.1528205267648895, 0.005517547622836082, 0.015814379454185106, 0.049541360698000025, 0.014182428748839224, 0.007032930420657259, 0.9911946382115479, 0.9960568973961609, 8.410195366492226e-05, 0.8584286410578615, 0.0015138351659686007, 0.13994565089843064, 0.9934198059815788, 0.15635348933996554, 0.04333577027375423, 0.051215001232618636, 0.16270611930054998, 0.11582469509530675, 0.009849038698580507, 0.022505053426256458, 0.09957378124264893, 0.26863253050378333, 0.0699774199534145, 0.9004204424168268, 0.0024804970865477324, 0.08681739802917063, 0.0012402485432738662, 0.007441491259643196, 0.9957869685765554, 0.0005234538401516045, 0.0690959069000118, 0.015703615204548136, 0.006281446081819255, 0.002617269200758023, 0.13923872148032682, 0.002093815360606418, 0.7459217222160365, 0.018844338245457764, 0.9995363568629143, 0.9967914956793188, 0.991255545742446, 0.002099236512201605, 0.9950381067835607, 0.997419745444579, 0.9964615255560768, 0.008646329204678697, 0.028100569915205764, 0.15069316613868586, 0.23993563542983384, 0.1777129449033068, 0.00030879747159566777, 0.004014367130743681, 0.37271854821597095, 0.01636626599457039, 0.0015439873579783387, 0.9940491873710099, 0.9940169793818814, 0.9972471312278496, 0.884401483571067, 0.0602145690942003, 0.03136175473656266, 0.020071523031400102, 0.0025089403789250128, 0.1901525768186313, 0.05378052677698663, 0.01856708662538824, 0.004001527289954362, 0.5285217244571722, 0.016966475709406497, 0.16102145814776353, 0.01808690335059372, 0.008163115671506899, 0.000960366549589047, 0.06312986421959893, 0.053495530430715976, 0.15043833797752038, 0.09110511492509607, 0.1050071017552768, 0.24672458351797127, 0.038822796897424613, 0.04765783780900764, 0.08214161622966128, 0.12147824426249298, 0.07376550560786159, 0.035343596195420546, 0.19974832430444128, 0.10272445216798036, 0.09120928050431108, 0.005586568430889054, 0.42389513114378574, 0.009804997654213441, 0.055409637906368985, 0.002508255213868555, 0.057609531077707846, 0.153774278044631, 0.2349039794331343, 0.06996506358274596, 0.037215459352524446, 0.07204912930648733, 0.0017863420489211733, 0.015779354765470367, 0.3407447458317138, 0.01622594027770066, 0.0035428185488749183, 0.9919891936849772, 0.999107286597564, 0.02486064072096162, 0.009944256288384648, 0.0045201164947202945, 0.005876151443136382, 0.029832768865153944, 0.2630707799927211, 0.006328163092608412, 0.018080465978881178, 0.5613984686442606, 0.07638996876077297, 0.1366045256510485, 0.003745290025064822, 0.03173640494923349, 0.295089429869581, 0.4514060082841285, 0.0009856026381749531, 0.009264664798844559, 0.038044261833553195, 0.02838535597943865, 0.0045337721356047845, 0.16862550427169104, 0.12884132977803714, 0.06937331474064093, 0.07236120221968186, 0.08740929006866974, 0.0969524215926368, 0.04606779240412178, 0.0666389449870944, 0.06184021661166505, 0.20187254312938271, 0.07801297992774989, 0.1737205240178833, 0.026236767551120355, 0.02815440504655108, 0.020745351086932373, 0.030420703904787388, 0.09657919749714736, 0.043582670350698266, 0.06833762710989488, 0.4341705620336561, 0.9942999629123344, 0.9987424893829421, 0.0006058618622533439, 0.0015752408418586942, 0.004241033035773408, 0.015025374183882929, 0.19084648660980333, 0.10190596523101245, 0.5473356063596708, 0.01090551352056019, 0.017327649260445634, 0.11026685893010858, 0.0002221256158772327, 0.0013327536952633962, 0.005553140396930817, 0.014438165032020125, 0.10839730054808956, 0.08307498033808502, 0.7181321161310933, 0.007996522171580377, 0.0037761354699129557, 0.05730840889632604, 0.9981539221103662, 0.9968529601163428, 0.004931205400267418, 0.9911722854537511, 0.02008792062921293, 0.7574485271921889, 0.057853211412133246, 0.02598037734711539, 0.05517482199490485, 0.008570846135130851, 0.02383766581333268, 0.031069317239849334, 0.00589245671790246, 0.014195463911310472, 0.0622271258297642, 0.5970309264478157, 0.06678980120261743, 0.03388029159842076, 0.09125350745706451, 0.0014561729913361357, 0.11202824213346005, 0.016988684898921583, 0.006407161161878998, 0.011843540329533905, 0.030924157896217913, 0.8152247831606412, 0.01759477949267571, 0.02665875680708441, 0.028258282215509474, 0.042654010891335054, 0.030924157896217913, 0.006931276769841946, 0.0010663502722833764, 0.06334067434288536, 0.015637228978399823, 0.044338472040019755, 0.28879388708209297, 0.15617435017667672, 0.008214493703842946, 0.2763236918208374, 0.10520490129138615, 0.003562912931787302, 0.038400283820374255, 0.007758296831184379, 0.0033549391702418934, 0.02662982966379503, 0.0062905109442035504, 0.013210072982827456, 0.014258491473528048, 0.00125810218884071, 0.008387347925604733, 0.0205490024177316, 0.8984946465304071, 0.02454567771385512, 0.0048286579109223186, 0.03983642776510913, 0.010864480299575218, 0.004023881592435266, 0.21568005335453025, 0.0024143289554611593, 0.008450151344114058, 0.6345661271270414, 0.05552956597560667, 0.998367757464586, 0.09148336851492876, 0.1215139896616758, 0.20400111606583335, 0.05384801033209814, 0.20050617308754815, 0.11814848901591966, 0.03211787875877849, 0.04582258571529505, 0.05075757464296631, 0.08180755415837987, 0.07693185443028382, 0.00013836664465878383, 0.009962398415432436, 0.008163632034868246, 0.4680943588806657, 0.3694389412389528, 0.0009685665126114868, 0.0006918332232939192, 0.06572415621292232, 0.007221624691640059, 0.9580688757575812, 0.004814416461093373, 0.02647929053601355, 0.05574358134673282, 0.8469611492376039, 0.012513865200286961, 0.0034128723273509896, 0.07508319120172177, 0.005688120545584982, 0.10203655209003577, 0.06636656284561655, 0.0764764569400348, 0.07354132639649402, 0.06999471032304891, 0.27386398599315237, 0.0439861924511181, 0.05185397293588714, 0.08670864814043391, 0.1551950274897188, 0.08466460268101857, 0.002853863011719727, 0.8666230678922238, 0.03234378079949024, 0.007610301364585939, 0.004756438352866212, 0.9972943737174861, 0.9972391368476795, 0.0991979875272201, 0.04317610248486919, 0.007136545865267634, 0.33839121644477366, 0.3042547387225768, 0.0007136545865267633, 0.1458234205136353, 0.058281791233019006, 0.00035682729326338167, 0.0028546183461070533, 0.9921715001407964, 0.9903668490826008, 0.9971363813011203, 0.9992030848990276, 0.9978705948377565, 0.9850865004174448, 0.01309085050388631, 0.012657917507220734, 0.0004083199195877656, 0.004083199195877656, 0.1318873340268483, 0.0130662374268085, 0.8088817607033637, 0.008983038230930844, 0.020007676059800517, 0.03723523927165429, 0.04725284171529733, 0.04082645524201689, 0.4549503600348827, 0.0814638991171726, 0.11076066098065694, 0.00831650014189233, 0.109815604146351, 0.043472614378073544, 0.06596496703455507, 0.9949116446456028, 0.0031188452810206983, 0.3087137158861143, 0.03987077511444281, 0.24680009795840097, 0.056217792911364355, 0.04887017864027418, 0.1124925440728922, 0.02118846906081818, 0.059521371420846764, 0.02859304158207184, 0.07780496972332696, 0.9933608378213462, 0.0012682753131296831, 0.9968643961199309, 0.9975567223657315, 0.052442680604064054, 0.047094049000166976, 0.050877227451703935, 0.23090433997311788, 0.1964643706211952, 0.10397218020258471, 0.017350439105324675, 0.23899251459364515, 0.015784985952964556, 0.04591995913589689, 0.12067006323839304, 0.05515741944872256, 0.039307586273802285, 0.13292726756033138, 0.6418125780297717, 0.001690648871991496, 0.000422662217997874, 0.0042266221799787404, 0.003592628852981929, 0.015273853575971184, 0.009017094279790217, 0.008096982618587134, 0.008649049615308983, 0.013433630253565018, 0.10728501969627952, 0.0025763126513686334, 0.02005843421422722, 0.012145473927880701, 0.803625524894773, 0.008380211581573586, 0.01173229621420302, 0.07542190423416227, 0.9033868084936325, 0.9973699489219441, 0.9956922057989529, 0.9965864720870945, 0.9949005767788566, 0.9896496012522364, 0.0028520161419372807, 0.005704032283874561, 0.0017977577892303747, 0.0017977577892303747, 0.005393273367691124, 0.9905645418659365, 0.006987396223011802, 0.9887165655561699, 0.9948262961838392, 0.004239316603056133, 0.9967813505943156, 0.05126378986193642, 0.595511339827265, 0.05389037980185896, 0.01612182790711075, 0.020106998850441496, 0.0326965161486909, 0.12462716404597972, 0.012046084896886121, 0.014672674836808659, 0.07897884233146389, 0.9840473959572283, 0.015581749266070607, 0.9938448161602315, 0.0008945497895231606, 0.004472748947615803, 0.11868495062599652, 0.47770348013285824, 0.03583982248868652, 0.018333447657674258, 0.013784547111033277, 0.023020193675425574, 0.05341512005525395, 0.030601694586493876, 0.06265076661964625, 0.1658970244812855, 0.9926494530706366, 0.034823605738310566, 0.017044465255881963, 0.014252699395004747, 0.008522232627940982, 0.0033795060421145276, 0.1929257144911467, 0.5332272794275487, 0.01895462084490322, 0.019248490935521872, 0.15795517370752682, 0.9956351054017769, 0.993525633322403, 0.9987371383276953, 0.03301981342429422, 0.010159942592090528, 0.9550346036565097, 0.00715749377433073, 0.003789261409939798, 0.007578522819879596, 0.034945410780555915, 0.018525278004150124, 0.17262190867503524, 0.03536643982610478, 0.00042102904554886645, 0.6201757840934803, 0.09978388379508135, 0.006316691267104391, 0.01353576700093798, 0.05053353013683513, 0.840119938524884, 0.08843367773946147, 0.14593520951851488, 0.12427957788519789, 0.1175227946471264, 0.10007955089026399, 0.09513211546489783, 0.09945758757964653, 0.07059283575508168, 0.060076001593731915, 0.07211947297205182, 0.11478050186849487, 0.9885160764874732, 0.9956926446292791, 0.00010432201757854347, 5.216100878927174e-05, 0.00015648302636781522, 0.0030253385097777606, 0.00808495636233712, 0.9857909051084466, 0.00020864403515708695, 0.002555889430674315, 0.007511607393119293, 0.01752708391727835, 0.9740050919744684, 0.9877446241535507, 0.9953063835314001, 0.0031200827069949844, 0.9985367019034216, 0.996796997911822, 0.9878026052545894, 0.996519989475057, 0.9929492165258623, 0.0023597522481033618, 0.0023597522481033618, 0.9934556964515153, 0.10085864950824136, 0.02767748986505228, 0.03487050982998112, 0.040030719804821376, 0.02408097988258786, 0.00625479996950334, 0.005003839975602672, 0.006411169968740924, 0.025644679874963695, 0.7291533064448519, 0.009072105446498759, 8.894221025979174e-05, 0.9907272800838203, 0.010076889645406305, 0.0040307558581625215, 0.02418453514897513, 0.16234988873154602, 0.06247671580151909, 0.007389719073297957, 0.5087709616525139, 0.012092267574487565, 0.20176172378913512, 0.006941857311279899, 0.06862462588787664, 0.023510288498624403, 0.024145701701289927, 0.03304148653860727, 0.023510288498624403, 0.00571871882398972, 0.7504229923479843, 0.04574975059191776, 0.016520743269303636, 0.0076249584319862925, 0.0019256536911904142, 0.005776961073571243, 0.009628268455952072, 0.9397190013009221, 0.042364381206189114, 0.013442880436413448, 0.14866244247327812, 0.05350793585474373, 0.11509917236406285, 0.057373862254758046, 0.0447217394910748, 0.021438319127352164, 0.3805301645105009, 0.07064101876389811, 0.09453947287307758, 0.002193828406804558, 0.04607039654289572, 0.947733871739569, 0.002193828406804558, 0.1573056557135049, 0.7012541667330353, 0.04514511803002373, 0.009831603482094057, 0.041132218649577175, 0.0006019349070669831, 0.0024077396282679324, 0.04213544349468881, 0.013125136730777278, 0.006388340886661507, 0.0031360946170883764, 0.00023230330496950936, 0.001858426439756075, 0.29514134896376165, 0.009292132198780374, 0.5189655833018839, 0.1519263614500591, 0.994432519028823, 0.9892604253192334, 0.9982506827760864, 0.9965508934514827, 0.25339267504977037, 0.09792403331252171, 0.03260206484131288, 0.12797292440120164, 0.24589027217664897, 0.003220926887936935, 0.08397977666352643, 0.08723998314765773, 0.009466382682839041, 0.05829092075241966, 0.02173813621354697, 0.860597285454172, 0.0760834767474144, 0.0062108960610134205, 0.0007763620076266776, 0.003881810038133388, 0.0015527240152533551, 0.02872539428218707, 0.011803312327175302, 0.013412854917244662, 0.6236977536518767, 0.30044795014628045, 0.029240023719593364, 0.011535055228830408, 0.004292113573518292, 0.003755599376828505, 0.0018777996884142526, 0.9976252177199358, 0.9958873670763583, 0.9952961963807992, 0.9961601164481226, 0.9987689381144509, 0.0010659220257358067, 0.19843976025351126, 0.28897269702930894, 0.09058844440104345, 0.08029177991795917, 0.09636123742660015, 0.03827250760693594, 0.04210253374889183, 0.07615646183715173, 0.043712254881018216, 0.04515545313740738, 0.02623924296081822, 0.09636958323791418, 0.3940657215570154, 0.05772633451380008, 0.023694831522193423, 0.1378752948304812, 0.10734235756698363, 0.06297418310596373, 0.0405515573030827, 0.053273614496206684, 0.9255044633557381, 0.06015779011812297, 0.0069412834751680355, 0.0069412834751680355, 0.9915886947786408, 0.9974565470293273, 0.9924167001220419, 0.9989086533000467, 0.9971442086190624, 0.07718985940328037, 0.026529604328732557, 0.07817766381977573, 0.054047013073960475, 0.2595103317049956, 0.026529604328732557, 0.37212003518546677, 0.02497734024566842, 0.07253306715408796, 0.008184665165247278, 0.9965738872636759, 0.9966629554223766, 0.9942891404672167, 0.9937971684533662, 0.007829542024657507, 0.7705574275933763, 0.024793549744748775, 0.1963910124518258, 0.9950837211499459, 0.1582746450207435, 0.21082304266133867, 0.0022356402135403977, 0.016061881145824217, 0.019339373109364025, 0.09943172639056856, 0.09541625610411252, 0.015020029395824808, 0.05003058924476327, 0.33339255999981077, 0.22730296554045254, 0.4522483425847726, 0.03897879646939029, 0.0304600433700316, 0.07402827877855978, 0.02857397257312562, 0.048880668153146685, 0.02080964779252933, 0.030428608856749837, 0.04825197788751136, 0.03378248538088205, 0.9478967956871022, 0.00596161506721448, 0.009936025112024132, 0.037140179974402554, 0.9165237961425146, 0.001198070321754921, 0.005990351608774605, 0.02156526579158858, 0.017971054826323815, 0.9964010702337529, 0.06437475871967488, 0.8974147911992773, 0.0005109107834894832, 0.0011921251614754609, 0.0046833488486535966, 0.0047685006459018435, 0.0036615272816746297, 0.0006812143779859777, 0.022735529865282003, 0.9958250568743624, 0.9978386248602913, 0.012665384625189362, 0.9836782058897071, 0.9905346884130675, 0.005442498287983887, 0.9975804857792594, 0.0033794309574047368, 0.02196630122313079, 0.8718931870104221, 0.004224288696755921, 0.021121443483779603, 0.04477746018561276, 0.032949451834696185, 0.9436401750372021, 0.0006143490722898452, 0.0036860944337390707, 0.05160532207234699, 0.9938169828829296, 0.9948155149034744, 0.9978854559038836, 0.0067325081461527365, 0.0016831270365381841, 0.922353616022925, 0.0016831270365381841, 0.02019752443845821, 0.04712755702306916, 0.9950356946131004, 0.999184167693585, 0.9965092999574503, 0.9973352294414853, 0.8634055305348072, 0.004063343249782227, 0.022073837654222366, 0.016143552911296957, 0.057985006375270695, 0.004722263776773939, 0.013507870803330106, 0.011421289134523015, 0.004063343249782227, 0.002525862020134898, 0.9417500258317284, 0.0442309209783982, 0.0018429550407665918, 0.01105773024459955, 0.99629066171492, 0.9979465033610436, 0.9928334670928488, 0.3673372990547772, 0.26907510870516627, 0.016568017517645764, 0.024637167259669204, 0.06460094438436519, 0.01828688965204129, 0.01843012899657425, 0.05459806349114677, 0.03919983395385352, 0.12729203084162422, 0.9966962146867339, 0.3953312908831636, 0.0010232906580237193, 0.01893087717343881, 0.5392741767785001, 0.024900072678577172, 0.0005116453290118597, 0.019783619388458577, 0.00017054844300395323, 0.03436187881334607, 0.6703462032547428, 0.02384096648004629, 0.048647154275074204, 0.025095754189522406, 0.0724881207551205, 0.035037533733833205, 0.019111382036636294, 0.025964453373005875, 0.04497931327814401, 0.02214193900981166, 0.027423502443344717, 0.06855875610836179, 0.056776806910480364, 0.05383131961101, 0.38392903420682606, 0.07912188297542791, 0.03727564961743523, 0.17754178618876507, 0.09344304536250793, 0.023222324736440196, 0.13352836723453113, 0.8348425742750251, 0.0011611162368220097, 0.003483348710466029, 0.003483348710466029, 0.9960190822260352, 0.09674047879451027, 0.07460306945938207, 0.2953130405306103, 0.1935252324076908, 0.21960310060447183, 0.002036641658831795, 0.013016796689055386, 0.08509620148423283, 0.008545040003359488, 0.011467178035596411, 0.9965540610709462, 0.992517705376684, 0.005464284957450267, 0.9917677197772236, 0.2955458000030887, 0.04467911702396563, 0.065822602454996, 0.16644707326544708, 0.11953014209002204, 0.0017748181201229871, 0.02206947749370323, 0.01566469906021593, 0.24345874647774018, 0.02492461968694456, 0.9894012061338036, 0.006800008289579406, 0.019691020670578253, 0.017618281652622646, 0.017618281652622646, 0.0010363695089778027, 0.02280012919751166, 0.013472803616711436, 0.9047505813376218, 0.0010363695089778027, 0.03833527858449537, 0.023227084077898665, 0.08055350435526559, 0.23022346862622356, 0.2653111913821981, 0.15023475658896157, 0.03727629298823859, 0.00981326652531281, 0.06050337706613725, 0.10462777691016967, 0.010146730645929254, 0.9528702506586291, 0.010146730645929254, 0.0018448601174416825, 0.0055345803523250475, 0.00737944046976673, 0.009224300587208413, 0.0018448601174416825, 0.11096059501245817, 0.6948907262655193, 0.014424877351619562, 0.016089286276806433, 0.07989162840896988, 0.00665763570074749, 0.05991872130672741, 0.016921490739399872, 0.00027740148753114543, 0.9892252499332507, 0.002125942109257757, 0.9970668492418879, 0.9954220721626169, 0.04116306009254418, 0.0010682455041317695, 0.0012106782380160055, 0.1601656092528233, 0.6383835132691454, 0.005910958456195791, 0.11950106372887395, 0.01082488777520193, 7.121636694211797e-05, 0.02172099191734598, 0.48356674913115444, 0.174822486397553, 0.012851594682667255, 0.025499195798942966, 0.04589855243809734, 0.030701031741927332, 0.006017810208550541, 0.06354399593096588, 0.13422776668563577, 0.02274528265265713, 0.18583283331108416, 0.007624720099068252, 0.26297396700303677, 0.16069754912243156, 0.04743101744385906, 0.0035757308050802837, 0.014092586114139941, 0.023137081679931247, 0.2787492499666262, 0.015933035793225383, 0.7752096794648169, 0.0007320204716381652, 0.03928509864458153, 0.013908388961125139, 0.025376709683456393, 0.0775941699936455, 0.012444348017848807, 0.016348457199919023, 0.015372429904401469, 0.02391266874018006, 0.9874370294921502, 0.82572479004529, 0.0503490725637372, 0.010789086977943684, 0.003596362325981228, 0.09997887266227815, 0.009350542047551194, 0.24374186446156848, 0.18308132185797626, 0.1382776579349722, 0.15243178454247705, 0.13458836177662506, 0.0023058100989669554, 0.008868500380642137, 0.08226420953083646, 0.05055045216966018, 0.00390214016748254, 0.001302290982916371, 0.9962526019310238, 0.010053665618923471, 0.22252113236550616, 0.007372688120543878, 0.00670244374594898, 0.7030863489500481, 0.01340488749189796, 0.036193196228124495, 0.0060286966798856, 0.00640549022237845, 0.6360274997279308, 0.0791266439234985, 0.0090430450198284, 0.04408484447166345, 0.0015071741699714, 0.0030143483399428, 0.1823680745665394, 0.03202745111189225, 0.10825981166497185, 0.2028178535026467, 0.09907839465617976, 0.10284242385135506, 0.12581355529480806, 0.08870093098723851, 0.09179658116644811, 0.06787564796346489, 0.035740688432692576, 0.07707465389372975, 0.026801159444154343, 0.005154069123875836, 0.04241062593360687, 0.003239700592150525, 0.0017671094139002864, 0.0004417773534750716, 0.888119739602719, 0.008099251480376313, 0.023855977087653867, 0.00014725911782502386, 0.9940006418086758, 0.9932864159657682, 0.010793042291996291, 0.0011992269213329213, 0.007195361527997528, 0.9150101409770188, 0.01918763074132674, 0.003597680763998764, 0.01918763074132674, 0.023984538426658424, 0.9862461460267827, 0.05153118562093148, 0.03235679097128256, 0.007190397993618346, 0.8820221538838504, 0.026364792643267267, 0.07281338409557883, 0.018823914638345665, 0.22940353114203674, 0.4428791345131656, 0.08212191331234317, 0.004137124096339707, 0.020685620481698534, 0.06991739722814104, 0.033096992770717655, 0.026270738011757135, 0.012221362634518671, 0.003055340658629668, 0.9838196920787531, 0.014931358768041083, 0.0031434439511665436, 0.11473570421757885, 0.7371376065485545, 0.0722992108768305, 0.016503080743624353, 0.0023575829633749076, 0.005501026914541451, 0.022004107658165805, 0.010216192841291266, 0.07297683455801446, 0.02072930018176158, 0.015031773231218924, 0.0027881514864357684, 0.002424479553422407, 0.822868360431565, 0.055884253706386486, 0.0032730473971202497, 0.004000391263146972, 0.0010128641804020596, 0.0024598130095478594, 0.9937644558573352, 0.0026045078924624393, 0.0013328347980634966, 0.0006664173990317483, 0.0013328347980634966, 0.03332086995158741, 0.08263575747993679, 0.7997008788380979, 0.0013328347980634966, 0.003332086995158741, 0.07663800088865105, 0.9958113786000091, 0.992778577939118, 0.0003423331600109764, 0.9996128272320511, 0.12510251273926212, 0.36032067857282235, 0.05577337952754521, 0.0825668633490459, 0.07771700425969415, 0.05187759107872167, 0.07143603920955006, 0.07537158060172895, 0.029178660422821228, 0.07068073328579856, 0.7588214495510669, 0.24079697052498727, 0.9989303972472361, 0.014867040406000051, 0.017344880473666724, 0.013318390363708379, 0.021371370583625073, 0.6047478415148979, 0.10298522781239618, 0.08285277726260444, 0.0003097300084583344, 0.09214467751635448, 0.05017626137025017, 0.27185889110826494, 0.13728063288568448, 0.015403535579692944, 0.03580646428612833, 0.03107730862569629, 0.05810105525673654, 0.006215461725139258, 0.34684978800940164, 0.009323192587708888, 0.08809741401719122, 0.0012660960833124986, 0.028170637853703093, 0.013927056916437483, 0.006647004437390617, 0.0033235022186953087, 0.13357313678946858, 0.06726135442597649, 0.007280052479046867, 0.5930077530214914, 0.1452845255601092, 0.042441476770869464, 0.0041425382483537415, 0.10207839532735824, 0.3117846240128882, 0.3062351859820747, 0.025402357183301246, 0.0014850608814853037, 0.18930618183986345, 0.007894271001579772, 0.009301170784039534, 0.009767365146856118, 0.9865038798324678, 0.0804329527409703, 0.037932053009942394, 0.00818142319822287, 0.09860208737598472, 0.1646909864577331, 0.07437657452929881, 0.021675458862824227, 0.39132703427343934, 0.04069461149245921, 0.08202673648088384, 0.993824947264517, 0.9970116281280367, 0.9991897178032898, 0.003793569919228118, 0.995812103797381, 0.9419623826983933, 0.04336843382589287, 0.00346947470607143, 0.00693894941214286, 0.005204212059107145, 0.998256403658548, 0.025216140940112406, 0.006904419543126016, 0.07264650127984765, 0.17381125719434623, 0.5415466459043188, 0.0003001921540489572, 0.060939007271938316, 0.1023655245306944, 0.005703650926930187, 0.011107109699811418, 0.018544034214188137, 0.0028975053459668965, 0.0028975053459668965, 0.0017385032075801377, 0.010431019245480826, 0.9637102780685897, 0.9831153961634658, 0.015066902623194878, 0.002801800329227125, 0.002801800329227125, 0.989035516217175, 0.9943795305768918, 0.002517416533106055, 0.04165960114580244, 0.03575359061751032, 0.1563505152758622, 0.12389921011503134, 0.03740473334585005, 0.021655371937071084, 0.2304614215824955, 0.021591866447519557, 0.04959778733974345, 0.2815833406714756, 0.022420249196787798, 0.00027012348429864816, 0.09076149072434578, 0.21231705865873746, 0.04538074536217289, 0.005402469685972963, 0.579684997304899, 0.0062128401388689075, 0.03133432417864319, 0.00594271665457026, 0.9961176868174402, 0.2295693541221034, 0.0111441434039856, 0.7496293796414315, 0.008915314723188482, 0.00018419407440618463, 0.00018419407440618463, 0.0016577466696556615, 0.013446167431651477, 0.21716481372489166, 0.6640196382342956, 0.002026134818468031, 0.0036838814881236925, 0.09762285943527785, 0.0005211474869665581, 0.007817212304498371, 0.005732622356632139, 0.897415972556413, 0.0005211474869665581, 0.06827032079261912, 0.019282457017762652, 0.9665930925342348, 0.009763566591254897, 0.02278165537959476, 0.006483373505998549, 0.9325252226127914, 0.06051148605598646, 0.9980349257592511, 0.029789658534645096, 0.010391741349294801, 0.24732344411321625, 0.7114878910483841, 0.9989521159802994, 0.19538383198693893, 0.1827948314228602, 0.06672806107071019, 0.07340404621832769, 0.07823618784898417, 0.0760744402773747, 0.03932473156001358, 0.07203705878333934, 0.056968406593002695, 0.15901560813515597, 0.9978615949259946, 0.9848849899421539, 0.9967556777556041, 0.0026188076322978242, 0.010475230529191297, 0.9846716697439819, 0.9980912871713354, 0.9967967023082605, 0.9941912588575893, 0.08061898710727668, 0.052947064505589815, 0.03943793693626237, 0.012637570951951478, 0.023096250360463047, 0.01547012995842336, 0.012201792643263496, 0.7589079245801207, 0.004575672241223811, 0.04013693107307361, 0.02293538918461349, 0.06724239101852592, 0.03544560146712994, 0.02710545994545231, 0.026584201100347454, 0.02971175417097657, 0.7250710535408492, 0.025541683410137753, 0.019931952102791105, 0.0015332270848300849, 0.10834804732799266, 0.6618430249516534, 0.019931952102791105, 0.12776892373584042, 0.004599681254490255, 0.0035775298646035314, 0.011754740983697318, 0.041397131290412295, 0.9940669553460686, 0.003852721949709723, 0.9940022630251086, 0.9980506668392338, 0.9962903932352489, 0.9947051905209972, 0.9975783415994757, 0.0348301091996885, 0.9636330211913818, 0.9932630140599439, 0.9938152050212015, 0.9974426715456844, 0.9979111230928469, 0.04921811063478485, 0.05248348588799736, 0.12206566401099839, 0.14715957807811025, 0.11705875528940587, 0.17163999740067915, 0.07801278332220422, 0.14306301639680727, 0.08242598745230355, 0.03686905513172665, 0.9985097909460915, 0.0044978506691588085, 0.008995701338317617, 0.013493552007476426, 0.9670378938691438, 0.9975016006468653, 0.9967854579447538, 0.002508035858713429, 0.9956902359092313, 0.9977400814040401, 0.20708385036282986, 0.010619684633991275, 0.00619481603649491, 0.004424868597496364, 0.7478027929768857, 0.023009316706981097, 0.988571098764191, 0.05046745988379766, 0.10208004851698456, 0.19393573320013655, 0.28219244181377945, 0.128009035199584, 0.06846234023134301, 0.04490540595819273, 0.06380003032311535, 0.022575395345102355, 0.043514892476791495, 0.996661770570669, 8.07282165666523e-05, 0.0008072821656665229, 8.07282165666523e-05, 0.00012109232484997845, 8.07282165666523e-05, 0.06623750169293821, 0.0008476462739498491, 4.036410828332615e-05, 0.9317247115040175, 0.006817840364899111, 0.9931320798203038, 0.14761441949746645, 0.022188388734483477, 0.3316958667761442, 0.1938402293609737, 0.18798496011159613, 0.022496560800240192, 0.007909749687755685, 0.054238283573181834, 0.010272402191890498, 0.02198294069064567, 0.058753782199938216, 0.06088675779135511, 0.023462731505585886, 0.050512740142191107, 0.03257635448709446, 0.421747446484705, 0.003878137438939816, 0.03538800413032582, 0.04886453173064168, 0.263810299283881, 0.014388126266245303, 0.9831886281934291, 0.19952119971221244, 0.016706320550065636, 0.5990409225809249, 0.059188107091661106, 0.011933086107189739, 0.006205204775738664, 0.0038185875543007165, 0.0009546468885751791, 0.0816223089731778, 0.02100223154865394, 0.14518747352434822, 0.11943974340147998, 0.08656218161432297, 0.07802646765003358, 0.09084008061289624, 0.14078907032863203, 0.05754075413573905, 0.05924789692859693, 0.058524871745739476, 0.1638254560157848, 0.9940660138425208, 0.45915854072231044, 0.02208924871583007, 0.19160561807439117, 0.0639099049924297, 0.1306740387515116, 0.0011168721260812957, 0.05447854037218765, 0.014022950027465158, 0.031396516433174204, 0.031520613336072124, 0.07221279351256164, 0.5374859678836569, 0.08170032542618011, 0.049300595996474926, 0.046496588588806315, 0.010332575241956958, 0.1233187093468506, 0.009506737443807981, 0.010716685845747179, 0.058922566621419974, 0.11555676231514544, 0.10209383855027412, 0.05340293093398954, 0.0601343928164252, 0.08302136321670643, 0.08750900447166354, 0.04128629954560536, 0.33253421699232144, 0.04375450223583177, 0.08100192465197574, 0.00239982549630123, 0.9959275809650104, 0.9952338112641713, 0.9988413610314589, 0.9950436767666082, 0.6460515499089617, 0.007311635578103192, 0.10716115894157492, 0.008911055860813265, 0.08248438886547664, 0.028675320782873458, 0.025247991605637586, 0.033702070242819404, 0.029589275230136356, 0.03073171828921498, 0.9982717153632789, 0.9870100704442849, 0.01240263971778388, 0.009432986784356917, 0.988105365661387, 0.011464010541021011, 0.012610411595123112, 0.01108187685632031, 0.0003821336847007004, 0.002292802108204202, 0.14635720124036825, 0.01069974317161961, 0.0026749357929049026, 0.7035081135339895, 0.0993547580221821, 0.0030153960831592296, 0.0007538490207898074, 0.7576182658937564, 0.0007538490207898074, 0.0007538490207898074, 0.13870821982532455, 0.004523094124738844, 0.021107772582114607, 0.0030153960831592296, 0.07010795893345209, 0.001960107284441453, 0.8448062395942662, 0.007840429137765812, 0.015680858275531624, 0.08820482779986538, 0.001960107284441453, 0.03528193111994615, 0.003920214568882906, 0.9970068796617653, 0.9949078085586772, 0.9981656670451544, 0.02311960780386877, 0.008435532577087254, 0.010310095371995532, 0.03499183883828787, 0.0499883411975541, 0.05436232105234008, 0.6985870682358185, 0.03905339156058914, 0.012809512431873237, 0.06842154201415217, 0.20104556174294644, 0.23617751985088292, 0.10707100019805002, 0.10181719631975003, 0.13720803751734187, 0.006106595232458834, 0.15849736453723576, 0.022538057217055044, 0.021395925939163743, 0.008147203115624628, 0.018419422125993765, 0.8523168965573478, 0.003907150147938071, 0.056374594991677886, 0.0005581643068482959, 0.0027908215342414794, 0.032931694104049454, 0.02176840796708354, 0.01060512183011762, 0.005028550597950849, 0.0003868115844577576, 0.0019340579222887882, 0.04100202795252231, 0.0015472463378310305, 0.0003868115844577576, 0.939952150232351, 0.010057101195901698, 0.9952389508893074, 0.15358880752942267, 0.029212521361367837, 0.1878834541209886, 0.3229671186366364, 0.2140311824046034, 0.006207175853677097, 0.06792978074867873, 0.006633919193617397, 0.002288896096043429, 0.009233174082344682, 0.9988219860269079, 0.9962715995503346, 0.003602118027987437, 0.0018010590139937185, 0.9032310955178499, 0.0837492441507079, 0.005403177041981156, 0.9948242126629079, 0.00667862050969767, 0.003816354576970097, 0.0007632709153940194, 0.1137273663937089, 0.0009540886442425242, 0.8739451981261522, 0.13323665932017653, 0.08429328628329964, 0.019957827733058636, 0.046280023408721754, 0.07059605962421607, 0.20248374965221014, 0.015149962819895462, 0.07623405948641461, 0.060426906498532815, 0.29134277815520426, 0.9953954748904889, 0.0026372452778290934, 0.02197704398190911, 0.058458936991878235, 0.03867959740816004, 0.7538126085794825, 0.017142094305889106, 0.02197704398190911, 0.0026372452778290934, 0.08263368537197825, 0.0014207218059903285, 0.012786496253912956, 0.004262165417970986, 0.03551804514975821, 0.005682887223961314, 0.9390971137596071, 0.01904856623015814, 0.1088778693025117, 0.5506844503335638, 0.01964934377324163, 0.17195951132627846, 5.877171617121126e-05, 0.001260326802338197, 0.0709897029441375, 0.057472208224758924, 0.05194173633440645, 0.7262730501495077, 0.059231804591867006, 0.048296702205676174, 0.043740409544763326, 0.0009112585321825694, 0.05558677046313673, 0.01366887798273854, 0.0008697352502646789, 0.003913808626191055, 0.00956708775291147, 0.0030440733759263764, 0.05348871789127776, 0.9097430717768542, 0.010871690628308487, 0.008697352502646789, 0.0026091647495466042, 0.014350406122506322, 0.05479245974047869, 0.9223397389647245, 0.0052183294990932085, 0.990458689388744, 0.9967016296863475, 0.9981223439455075, 0.00120730620910683, 0.002085347088457252, 0.015365715388632382, 0.0021951021983760547, 0.003951183957076898, 0.41004509065664696, 0.005926775935615347, 0.014707184729119565, 0.003182898187645279, 0.5412024470096163, 0.9957319895208606, 0.10226818948291395, 0.4919407157615878, 0.017205635312146896, 0.0587273980807463, 0.0794443875382293, 0.009305088485140669, 0.05451377310634298, 0.025545101407320137, 0.01211417180140955, 0.1489691996158841, 0.003453419264432694, 0.9945847481566159, 0.009480359476511355, 0.009480359476511355, 0.9741069362115418, 0.0011850449345639194, 0.004740179738255678, 0.9933046823628229, 0.0026523489515696205, 0.0026523489515696205, 0.025820100780223086, 0.011475600346765816, 0.9582126289549456, 0.004305277659294085, 0.01937374946682338, 0.00861055531858817, 0.012915832977882255, 0.9471610850446988, 0.004305277659294085, 0.005351905981790827, 0.990102606631303, 0.19454016216458483, 0.0012764117162477585, 0.3305155514660372, 0.11600330009428157, 0.21143384664433457, 0.006081726412709908, 0.05345912599814141, 0.07741061643831994, 0.0004504982527933265, 0.008784715929469866, 0.3281107216840529, 0.22997242206388485, 0.034135060737449756, 0.040786377719379305, 0.04317081210912763, 0.011106444394354056, 0.039029426063775276, 0.032252612535016864, 0.04028439153206387, 0.20123371284007605, 0.023838398798626103, 0.10055968228845724, 0.00411006875838381, 0.0035620595905993028, 0.0013700229194612702, 0.8584563613344319, 0.0005480091677845081, 0.0076721283489831135, 0.0027131150490567503, 0.0027131150490567503, 0.004521858415094584, 0.9893826212226949, 0.0949871855215227, 0.703181642837917, 0.01690416440881984, 0.029266322025550236, 0.047829306306263614, 0.011256277702134707, 0.0483427505523259, 0.017852061478473288, 0.0073462022898142295, 0.022986503939096136, 0.15666605346911935, 0.016315285367549445, 0.00864906694183344, 0.046193880257519505, 0.25200235953251066, 0.003145115251575796, 0.5042012887682449, 0.00216226673545836, 0.0108113336772918, 0.10610034347155647, 0.541501321000622, 0.04548794423132605, 0.05236269650810077, 0.03907150877300298, 0.03322796933774447, 0.009166336369032958, 0.04262346411600325, 0.05786249832952054, 0.07252863651997328, 0.06135853831721014, 0.04655848887386297, 0.4629640466497036, 0.1097670333714915, 0.002466674907224528, 0.12734209208546626, 0.002620842088926061, 0.175288085594643, 0.00154167181701533, 0.010020866810599645, 0.06546138562958777, 0.005363101473267432, 0.24291694908328954, 0.4243159695026291, 0.1591579231331423, 0.006625007702271533, 0.044639932851020095, 0.03217860883960459, 0.001577382786255127, 0.01766668720605742, 0.044479244658210626, 0.00628764191503501, 0.5010319103776971, 0.1704649585853936, 0.19771140688387864, 0.0003493134397241672, 0.0038424478369658392, 0.04040392119476201, 0.03481490615917533, 0.0004657512529655563, 0.9931382276205833, 0.32605511436953943, 0.005565014542960802, 0.030440325450840234, 0.01523536768318777, 0.2715909556458083, 0.0005473784796354887, 0.3273931506530929, 0.003831649357448421, 0.0032234510467423227, 0.016117255233711613, 0.9238555250564021, 0.007280000324542061, 0.012446452167765458, 0.0002348387201465181, 0.011976774727472422, 0.0011741936007325904, 0.00493161312307688, 0.030294194898900832, 0.003052903361904735, 0.004696774402930362, 0.9849058392132723, 0.006273285600084537, 0.00039016139941641767, 0.010144196384826859, 0.0007152958989300991, 0.32292358491698836, 0.665745401204214, 0.0014389121402322038, 0.0034945009119924948, 0.0012333532630561747, 0.0012333532630561747, 0.14944130370697317, 0.0016444710174082328, 0.8415580431586632, 0.9907474335571141, 0.9460590452687726, 0.0530882054179599, 0.016139970769037348, 0.0009494100452374911, 0.012342330588087383, 0.013291740633324875, 0.002848230135712473, 0.03512817167378717, 0.002848230135712473, 0.05696460271424946, 0.7889597475923551, 0.07120575339281182, 0.998444024458594, 0.11235854996312941, 0.11249278956882013, 0.0032217505365771874, 0.012954121949154107, 0.029197114237730762, 0.07718777327216178, 0.008389975355669758, 0.17437724779224026, 0.01422939820321591, 0.4556092217142906, 0.011272486197922815, 0.04938422524804281, 0.009125345969747041, 0.004294280456351549, 0.0005367850570439436, 0.8958942602063419, 0.01932426205358197, 0.009662131026790985, 0.027160352885191596, 0.15251582773992203, 0.022981837056700583, 0.011839128180724542, 0.01392838609497005, 0.00557135443798802, 0.00278567721899401, 0.6859730151772749, 0.038999481065916136, 0.037606642456419134, 0.000284422468066933, 0.006826139233606392, 0.000284422468066933, 0.031570893955429565, 0.000284422468066933, 0.9604946746620328, 0.8336841022767107, 0.04626156221952246, 0.014639734879595715, 0.09857421485594449, 0.001756768185551486, 0.002537554045796591, 0.0023423575807353146, 0.0001951964650612762, 0.9914903174537361, 0.013165467696375038, 0.002393721399340916, 0.5972334891355585, 0.04069326378879557, 0.0003989535665568193, 0.17833224425089825, 0.0019947678327840966, 0.0003989535665568193, 0.004787442798681832, 0.16077828732239818, 0.19875742301346092, 0.27196603114952, 0.04105998977122575, 0.05869472896784193, 0.0599355528345548, 0.09810028691678387, 0.0231620455119735, 0.07260699656431953, 0.06125157814773512, 0.11445660152345347, 0.06325724734096896, 0.012435185374720395, 0.7888232809442198, 0.04163083799362915, 0.0010813204673669908, 0.002703301168417477, 0.005947262570518449, 0.01892310817892234, 0.040008857292578665, 0.025411030983124284, 0.997007472286925, 0.0031764950316239184, 0.0031764950316239184, 0.9910664498666625, 0.9931497637602815, 0.02855159193667872, 0.9712639757030885, 0.004033891589235414, 0.9923373309519118, 0.99849839302738, 0.012639366636139878, 0.007222495220651359, 0.023473109467116917, 0.028889980882605436, 0.0036112476103256795, 0.901006278776257, 0.012639366636139878, 0.009028119025814199, 0.005523093466877559, 0.9927760506712412, 0.9822203908082854, 0.011487957787231409, 0.002871989446807852, 0.07116044913386665, 0.7201012613845014, 0.12244452548194112, 0.0012138242922621178, 0.014565891507145413, 0.0015172803653276472, 0.009710594338096942, 0.0024276485845242356, 0.05613937351712295, 0.0007586401826638236, 0.012180045276877867, 0.0028658930063242037, 0.01432946503162102, 0.758745173424333, 0.08024500417707771, 0.003582366257905255, 0.013612991780039968, 0.06663201239703774, 0.04370486834644411, 0.004298839509486306, 0.02601105517514408, 0.0674334862047301, 0.16917646073699608, 0.08396061777714069, 0.0313806295678682, 0.1005574840819243, 0.05251025347689944, 0.10550865008041017, 0.1710592985110682, 0.19232839188484552, 0.9964776116940216, 0.030168939406823903, 0.058017191166969045, 0.029395376857930984, 0.02862181430903806, 0.013924125880072571, 0.002320687646678762, 0.7611855481106339, 0.0007735625488929206, 0.07580912979150622, 0.4358514695040903, 0.17372355225922365, 2.804707010965832e-05, 0.025635022080227707, 0.005441131601273714, 0.005833790582808931, 0.05845009410852794, 0.0230827387002488, 0.043388817459641425, 0.228527527253496, 0.9939905201383511, 0.03812384228387442, 0.9516840629381986, 0.005647976634648063, 0.0028239883173240316, 0.9974757984739983, 0.9969778810038276, 0.9966662273701801, 0.37689802688603946, 0.1799684602744294, 0.03764114377698089, 0.04438387867331911, 0.09439828854873508, 0.08119086967961898, 0.015570851719378982, 0.07371825110893487, 0.05467176284505165, 0.041499100341380595, 0.9891326784907285, 0.08093900767477522, 0.07670976222870589, 0.044042487059066875, 0.14146096836852606, 0.06300117354144666, 0.025521308726280473, 0.016625309684548423, 0.0170628178341418, 0.40527838257333393, 0.1293565762297759, 0.99562114873485, 0.15822785597355143, 0.0032964136661156546, 0.046149791325619166, 0.009339838720661022, 0.06002219883718921, 0.49418734877850523, 0.07980068083388314, 0.007691631887603194, 0.03447499292479289, 0.10672139244049432, 0.05293684006410108, 0.9224895243957286, 0.007810353452080487, 0.0026034511506934956, 0.013017255753467478, 0.0017356341004623303, 0.02760181959756549, 0.012568685709605714, 0.07368700053278644, 0.01725113724847843, 0.012322240891770307, 0.6836379246754166, 0.025876705872717645, 0.0199620302446679, 0.04928896356708123, 0.07787656243598834, 0.002901555211766737, 0.9952334376359908, 0.9961851783810627, 0.992234725715629, 0.01746070215035884, 0.9690689693449157, 0.002910117025059807, 0.002910117025059807, 0.005820234050119614, 0.9726727780174969, 0.007431286079929942, 0.004128492266627745, 0.015688270613185434, 0.20861993479905067, 0.5538932067496231, 0.029275429534363292, 0.023399544032794817, 0.033799341380703625, 0.01045179633464835, 0.0054598936076521234, 0.04430313670209152, 0.0327073626591732, 0.05808286818807069, 0.9957799668190912, 0.011154466251500319, 0.005769551509396716, 0.028078484012397355, 0.0003846367672931144, 0.0019231838364655721, 0.023078206037586865, 0.0038463676729311442, 0.00692346181127606, 0.8185070407997475, 0.10077483303079598, 0.09817603584518864, 0.09061100490599641, 0.1048377795080594, 0.08716722216502085, 0.13010159551767522, 0.21467186676327188, 0.048297641555813044, 0.07669473530516893, 0.07037172437091871, 0.07906586440551276, 0.9987588083668495, 0.3777694381841165, 0.0024005683426230663, 0.1348319219106622, 0.078298537441889, 0.23381535657148664, 0.005601326132787154, 0.1125866552690218, 0.052772494065330404, 0.00036008525139345993, 0.0015203599503279418, 0.9978716846575658, 0.9966673517049209, 0.9921520229391116, 0.0033293692044936633, 0.009049487321647249, 0.029004767056561694, 0.0645066019337932, 0.02993291960237167, 0.049192084927928634, 0.6253427777394701, 0.020419356007819432, 0.020419356007819432, 0.07518035621060791, 0.07657258502932288, 0.011325546463088929, 0.002516788102908651, 0.04656057990381004, 0.940020356436381, 0.4854494141365416, 0.014693463058847592, 0.0031082325701408367, 0.3759548576883985, 0.012574213579206113, 0.001977966180998714, 0.008476997918565918, 0.043515255981971715, 0.007346731529423796, 0.04704733844804085, 0.9951654575798089, 0.9978650353056694, 0.0013208008409075704, 0.994744450199876, 0.995463792467426, 0.9948221433925072, 0.9959773743664694, 0.998940212607192, 0.0773749585077673, 0.1399531122013002, 0.2006816652930538, 0.05319002942692587, 0.1823538047845135, 0.11924319031168049, 0.028584736572952785, 0.03937407341666536, 0.06714610669489693, 0.09211571481891745, 0.24832171067546693, 0.1437388474483883, 0.058817428983757594, 0.06158805702328761, 0.06596097597724461, 0.10144504351965909, 0.058817428983757594, 0.06098719793037748, 0.08161669345362504, 0.11866967084974929, 0.9977578337256565, 0.994921319523617, 0.004634842637356124, 0.002317421318678062, 0.0046863408888823035, 0.00484083564346084, 0.0033988846007278243, 0.015706966715484643, 5.149825152617916e-05, 0.0053043199071964526, 0.0014419510427330163, 0.9576099871293013, 0.06894134021803203, 0.9307080929434323, 0.0009883133969260116, 0.9988554064932224, 0.9980344025728569, 0.13805053768861714, 0.2970686540055176, 0.09951212816983246, 0.09422829835550507, 0.08932188495648678, 0.05032218870787988, 0.04533190499434846, 0.05883502563096289, 0.03874808530506751, 0.08856705212586859, 0.9958637873713113, 0.9867815510583757, 0.006366332587473392, 0.12140330226482807, 0.024198631194678567, 0.0028710240400466095, 0.8514637010195374, 0.913130003088055, 0.08687074623972847, 0.9872899720615685, 0.005740057977102143, 0.008336389392175595, 0.0046576979877991755, 0.0018393457021882095, 0.1167984520889513, 0.7013840498569943, 0.00041533612630056347, 0.12139681634442183, 0.04120727710224876, 0.00047466985862921535, 0.0035303570735547895, 0.0015562669845388393, 0.008364935041896261, 0.00612780125162168, 0.3290532005434308, 0.49800543505242856, 0.0022371337902745815, 0.15455676490201348, 9.726668653367746e-05, 0.0004678437708692014, 0.002339218854346007, 0.0009356875417384028, 0.13006056830163798, 0.7766206596428743, 0.011228250500860834, 0.07812990973515663, 0.9965909267690429, 0.9989247774110344, 0.9926403435460851, 0.0043922139094959515, 0.07032234719065221, 0.014791941995275119, 0.1675611789956575, 0.26334506568637345, 0.37464836692950915, 0.04486080769058848, 0.009820879521453153, 0.04752820706678563, 0.004364835342868068, 0.0027886448023879324, 0.9922506141997002, 0.12479072021165057, 0.28349715040007567, 0.07668821990057234, 0.06067173137362016, 0.06316436369403987, 0.10959627000313468, 0.06266053375693376, 0.07888916120477273, 0.0359840644554207, 0.1040276233298566, 0.9889696700248582, 0.9961050035706491, 0.005796718951757612, 0.9912389407505517, 0.9933750255459404, 0.07889285594979603, 0.0016726400554727074, 0.5745518590548749, 0.026483467544984533, 0.008363200277363536, 0.00975706699025746, 0.024810827489511824, 0.26873750224594833, 0.006690560221890829, 0.11913411160646607, 0.21986253100188674, 0.043097481488704695, 0.04324834781830343, 0.05436216743207675, 0.09987351019436118, 0.07216439432472724, 0.0472211611644034, 0.03992928856713131, 0.26109932775887373, 0.005704565946930207, 0.015212175858480552, 0.9773822989073755, 0.02546262638144722, 0.029270121915121572, 0.017609666843243874, 0.014516076722133462, 0.15087201052184615, 0.09090395586647512, 0.5746938571139724, 0.02641450026486581, 0.03426745980306916, 0.03593323909905168, 0.05912481157401921, 0.004163719124930931, 0.7045012759383135, 0.012491157374792792, 0.0066619505998894895, 0.10908944107319038, 0.10076200282332852, 0.0024982314749585582, 0.9964293004098047, 0.0121708933872972, 0.00081139289248648, 0.9631233633814517, 0.02190760809713496, 0.00243417867745944, 0.9956047428673221, 0.01307377909651378, 0.9848913586040382, 0.0010894815913761484, 0.9945164017537065, 0.004002078075467632, 0.9806466190382945, 0.017859458293743774, 0.994530063143448, 0.003218543893668117, 0.9973362556684608, 0.9854885236833468, 0.012166524983745023, 0.9926601418793572, 0.004902025391996826, 0.02938689615916557, 0.07274819932167902, 0.06136859272387448, 0.08584725197134963, 0.06805880099840791, 0.39087698157239054, 0.018069814872337976, 0.14555892395433498, 0.011410869253293014, 0.11670349293847347, 0.013619218352463804, 0.8151203819907441, 0.014229034099589049, 0.005894885555544034, 0.013822490268172219, 0.04837871593860277, 0.04512636528726813, 0.0081308766283366, 0.004675254061293544, 0.03130387501909591, 0.9989113033079843, 0.9117514050606309, 0.01004521962801732, 0.002954476361181565, 0.001181790544472626, 0.001772685816708939, 0.001181790544472626, 0.06972564212388493, 0.000590895272236313, 0.001181790544472626, 0.005021966481690041, 0.023435843581220195, 0.9139978996675876, 0.022598849167605187, 0.004184972068075035, 0.03013179889014025, 0.021819580982737053, 0.0033568586127287773, 0.9164224012749562, 0.04867444988456727, 0.010070575838186333, 0.9970312063669732, 0.9909213399652967, 0.0016852403740906408, 0.0033704807481812816, 0.0033704807481812816, 0.5881444644594189, 0.015621116976042168, 0.018256004176820367, 0.06737782984847104, 0.12986229775263972, 0.0022584747435241688, 0.1765374424521392, 0.0005646186858810422, 0.0015056498290161127, 0.9386469697073563, 0.05645996810269812, 0.9961963940297459, 0.10883529133287381, 0.10537026287847084, 0.16494370389573626, 0.1842309707142202, 0.18556688529905027, 0.006888309578029988, 0.19829982118571177, 0.007180540893461563, 0.018285330879861422, 0.020414444749434327, 0.07559630602342535, 0.7946698226933632, 0.021806626737526542, 0.01108503525824266, 0.04688424748568207, 0.0016354970053144907, 0.039615371906506554, 0.003997881568546533, 0.002362384563232042, 0.0021806626737526542, 0.08618702810978615, 0.008003081181623, 0.6525589271169523, 0.07018086574654014, 0.012312432587112307, 0.03755291939069254, 0.0024624865174224615, 0.014159297475179152, 0.0646402710823396, 0.05109659523651607, 0.1297277489007486, 0.015121639442418545, 0.5894786463342808, 0.11460610945833004, 0.018039850562885283, 0.035814409205728134, 0.0010611676801697226, 0.015121639442418545, 0.041120247606576746, 0.039263204166279736, 0.0007724880536948992, 0.0007724880536948992, 0.02008468939606738, 0.006179904429559194, 0.9617476268501495, 0.010814832751728589, 0.991181455904622, 0.9978692451971615, 0.05653166036367152, 0.07361699949755512, 0.10551285924041431, 0.18953594347956992, 0.2341611068830846, 0.1295678551314629, 0.015004122185563502, 0.03431587945020814, 0.05488604696267423, 0.10681966988238274, 0.9978219453594683, 0.9967381150716111, 0.008503871809390266, 0.9317813825431907, 0.029156131917909483, 0.012148388299128952, 0.017007743618780533, 0.9786120441261865, 0.009547434576840845, 0.004773717288420422, 0.9942876988119983, 0.9982760466659298, 0.9975682072271531, 0.9907363923216636, 0.9961351572681134, 0.9982524069803167, 0.9976316420884953, 0.9959634911449833, 0.002829441736207339, 0.9950277040509724, 0.24863749749703867, 0.05570703314073227, 0.13753551543484993, 0.20822259110082114, 0.12664377618212413, 0.009081650780926102, 0.017820008920648812, 0.04107028325669673, 0.02396806804038229, 0.13126262262740612, 0.13140865411433933, 0.1375206845382621, 0.12147660467546485, 0.05096996799949873, 0.030451008719186608, 0.15301904739892339, 0.00305601521196138, 0.05533570401658642, 0.2509206775821147, 0.06570432705716966, 0.9944317705365963, 0.9871700474368592, 0.9935951297261436, 0.11113457704179192, 0.11975979115839383, 0.17454296930505325, 0.07469958165226748, 0.2531631028285034, 0.0713017700305758, 0.023732407326892534, 0.048405747102868914, 0.07590188422609682, 0.04736026660388686, 0.9976480298772104, 0.06369883735263206, 0.8478534902798612, 0.013179069797096288, 0.006589534898548144, 0.021965116328493815, 0.04612674428983701, 0.09977375060241032, 0.16956287375814033, 0.13073064223348366, 0.09831535432582081, 0.09508743723363602, 0.13300574042496327, 0.061660994574204465, 0.04025173723387047, 0.06765014195006538, 0.1039350413116124, 0.804533692664414, 0.01694330466888372, 0.014210513593257312, 0.014757071808382594, 0.08999991942396297, 0.0030971632190432605, 0.027874468971389343, 0.022955445035261812, 0.0030971632190432605, 0.002368418932209552, 0.009129833142087426, 0.03391080881346758, 0.9547196942868564, 0.0013042618774410607, 0.9977925273855941, 0.03397811622749805, 0.004247264528437256, 0.9609435995589293, 0.0056523503080113105, 0.002260940123204524, 0.12435170677624884, 0.07774155654403249, 0.09861177306592041, 0.530799173540016, 0.007130657311645038, 0.04174043304377583, 0.035740245793733055, 0.07600237183387516, 0.0004441715695926344, 0.7404340065109215, 0.25895202507250586, 0.14720762658628642, 0.013239975882316886, 0.01707260047982967, 0.4604375823284675, 0.23936482713557106, 0.02735100280952304, 0.011149453374582641, 0.02543469051076665, 0.00026131531346678066, 0.05836042000758101, 0.07900928154872652, 0.05914722604828277, 0.030945301939917888, 0.1267440558177488, 0.5918014658226141, 0.003072583171339365, 0.09184828980039458, 0.005377020549843888, 0.010095630420115055, 0.001975232038718163, 0.9955369745167183, 0.00339773711439153, 0.016435946570351467, 0.012959111718930966, 0.021493160899690382, 0.020861009108523017, 0.011378732241012554, 0.049623915606638085, 0.036032652096539754, 0.008217973285175734, 0.5445987680906842, 0.27814678811364024, 0.9980018317042142, 0.04555250687778141, 0.21153731036722237, 0.08028819774110636, 0.04456223498913399, 0.05206544891465484, 0.21885008739108025, 0.005141796344900075, 0.020224398956606965, 0.04124863290019838, 0.28055164352988116, 0.08034042022752427, 0.8731735145780928, 0.007047405283116165, 0.0014094810566232328, 0.024665918490906574, 0.00986636739636263, 0.0035237026415580824, 0.9979673127413424, 0.11766979585380526, 0.007796303885537174, 0.0027196408903036656, 0.11812306933552254, 0.5577076919049383, 0.009700052508749741, 0.12582871852471625, 0.01133183704293194, 0.0006345828744041887, 0.048409607847405244, 0.29345753040919453, 0.06374833612005418, 0.0005379606423633264, 0.0489544184550627, 0.5766938086134858, 0.016407799592081454, 0.0002689803211816632, 0.0002689803211816632, 0.0024238781422678385, 0.9962139164720817, 0.9949790006232018, 0.0034133070347279653, 0.998657160482713, 0.10293769905380142, 0.10903319566690586, 0.10519811238116097, 0.07652388039701546, 0.10217576197716335, 0.1581527392075059, 0.06468845780657098, 0.04884016661249941, 0.06151371998724575, 0.17095328209502525, 0.998164632834206, 0.9951537837292185, 0.9963156358493316, 0.9857953654913505, 0.011330981212544259, 0.9972547263438633, 0.993957274460436, 0.05790954156584702, 0.008182870003869688, 0.0018883546162776202, 0.685472725708776, 0.13218482313943342, 0.09945334312395465, 0.008812321542628895, 0.0056650638488328605, 0.8602132341233469, 0.08744316346873691, 0.051897162058681265, 0.1270217843120804, 0.033946850763454356, 0.18407799357647786, 0.14216239850235346, 0.14622645810079518, 0.00852655641241694, 0.25077638345678605, 0.024942169692397216, 0.01968279844735499, 0.06255464283875979, 0.8247884018178764, 0.05308463524195849, 0.06070849243096317, 0.04094293675576586, 0.0008470952432227418, 0.004517841297187956, 0.01468298421586086, 0.0005647301621484946, 0.9962832583653765, 0.252744943112331, 0.01675987781443521, 0.5246440322983021, 0.032621905031668536, 0.00029928353240062875, 0.00014964176620031438, 0.17238731466276216, 0.00029928353240062875, 0.021790611062755642, 0.9413543979110438, 0.0014527074041837096, 0.023243318466939354, 0.0014527074041837096, 0.008716244425102257, 0.9928548772630961, 0.9843604864033014, 0.013066732120397806, 0.011907768545663194, 9.923140454719328e-05, 0.003473099159151765, 0.00019846280909438657, 0.001091545450019126, 0.08027820627867936, 0.000694619831830353, 0.0016869338773022858, 0.017960884223041984, 0.8824648806381898, 0.18968041631726584, 0.17239207660759762, 0.06691170910722394, 0.08171273884090083, 0.05932694905697873, 0.0649464271508851, 0.0709651031421728, 0.06896911365526616, 0.07990099453740096, 0.1452159120550996, 0.9980750729363314, 0.9947111075597169, 0.9928815555729252, 0.9948062789802767, 0.9940328718714138, 0.997661871732819, 0.007792388038485499, 0.9896332808876585, 0.008997611357478045, 0.007872909937793288, 0.08435260647635666, 0.0011247014196847556, 0.002249402839369511, 0.01799522271495609, 0.026992834072434132, 0.772669875323427, 0.007872909937793288, 0.07085618944013959, 0.010551411699348732, 0.0023447581554108293, 0.8148034590052631, 0.06330847019609238, 0.032826614175751605, 0.07620464005085195, 0.9979277801607915, 0.0004354482686481577, 0.0007741302553745026, 0.004257716404559764, 0.0019353256384362567, 0.013740812032897422, 0.03198125617515914, 0.9337946205454938, 0.003967417558794326, 0.0004354482686481577, 0.008708965372963154, 0.028600525199559336, 0.9438173315854581, 0.026693823519588714, 0.010330142849370151, 0.09867814777789949, 0.17554018967810817, 0.04731638857578636, 0.0845915893469402, 0.2961066820948829, 0.0011558201789505064, 0.033374307667195874, 0.0564184724850216, 0.1966339079439549, 0.9948737613705091, 0.9962014506293583, 0.0013082105668977618, 0.0030524913227614444, 0.0004360701889659206, 0.0030524913227614444, 0.14041460084702642, 0.6222721596543687, 0.012209965291045777, 0.21716295410502845, 0.2686418744114441, 0.13244805267823487, 0.042081374226977844, 0.040618183189878476, 0.05805942035210295, 0.11325098627149113, 0.010944668957503277, 0.23574933989745028, 0.02118700621719886, 0.0769638485514268, 0.04093860386606493, 0.01812436996934378, 0.4107050628902242, 0.055789839636093255, 0.01025907734113799, 0.060968231055905764, 0.04973209872989749, 0.0854434584269064, 0.21192322621836476, 0.05618066163004137, 0.0009879030486096754, 0.0007409272864572566, 0.1375654995188973, 0.05556954648429424, 0.04272680685236846, 0.008397175913182241, 0.0029637091458290265, 0.5302569613412433, 0.22104330712641487, 0.9981378781335493, 0.13435924914051853, 0.7138565323900593, 0.0899622798593037, 0.008412057337493334, 0.028273859384352593, 0.011683412968740741, 0.0016356778156237039, 0.011683412968740741, 0.9868450298287474, 0.007256213454623143, 0.9978574561664811, 0.9991605217690718, 0.9978090507348781, 0.07681482166053036, 0.02283053180492725, 0.07693150240229318, 0.0950948045367072, 0.05032829328036774, 0.04577774435161733, 0.22585502247225306, 0.03764898600880678, 0.07910954291519937, 0.28964049463593394, 0.9883378365223708, 0.9922683255056806], \"Topic\": [1, 2, 3, 4, 5, 6, 7, 8, 9, 10, 6, 1, 5, 7, 6, 6, 10, 1, 3, 1, 4, 1, 2, 3, 6, 7, 9, 10, 1, 2, 3, 4, 5, 6, 7, 8, 9, 10, 2, 4, 2, 3, 4, 5, 6, 7, 8, 10, 2, 1, 2, 3, 4, 5, 6, 7, 8, 9, 10, 1, 2, 3, 4, 5, 6, 7, 8, 9, 10, 5, 10, 1, 2, 3, 4, 5, 6, 7, 8, 9, 10, 3, 8, 9, 10, 1, 2, 3, 4, 5, 6, 7, 8, 9, 10, 1, 2, 3, 4, 5, 6, 7, 8, 9, 10, 3, 2, 7, 1, 2, 4, 6, 7, 9, 10, 8, 7, 3, 5, 8, 1, 4, 6, 2, 7, 1, 2, 3, 4, 5, 6, 7, 8, 9, 10, 9, 10, 1, 3, 4, 5, 8, 10, 2, 5, 2, 5, 7, 2, 7, 1, 4, 3, 1, 2, 3, 4, 5, 6, 7, 8, 9, 10, 1, 2, 3, 4, 5, 6, 7, 8, 9, 10, 1, 2, 3, 4, 5, 6, 7, 8, 10, 1, 2, 3, 4, 5, 6, 7, 8, 9, 10, 9, 1, 2, 4, 5, 1, 2, 3, 4, 5, 1, 2, 3, 4, 1, 2, 3, 4, 5, 6, 7, 8, 9, 10, 4, 1, 2, 3, 4, 5, 6, 7, 8, 9, 10, 1, 2, 3, 4, 5, 6, 7, 8, 9, 10, 1, 6, 10, 1, 2, 3, 4, 5, 7, 8, 2, 3, 4, 5, 7, 8, 9, 1, 2, 3, 4, 5, 7, 8, 9, 1, 2, 3, 4, 5, 7, 8, 9, 10, 2, 3, 6, 7, 9, 10, 2, 3, 5, 6, 7, 10, 3, 5, 2, 3, 4, 6, 10, 1, 2, 3, 4, 5, 6, 7, 8, 9, 10, 3, 6, 7, 10, 2, 4, 1, 2, 3, 4, 5, 6, 7, 8, 9, 10, 1, 2, 3, 4, 5, 6, 7, 8, 9, 10, 6, 10, 1, 2, 3, 4, 5, 7, 8, 9, 10, 1, 4, 5, 9, 10, 2, 1, 2, 3, 4, 5, 6, 7, 8, 9, 10, 5, 7, 5, 1, 2, 3, 4, 5, 6, 7, 8, 9, 10, 1, 1, 2, 3, 4, 5, 6, 7, 8, 9, 10, 6, 9, 10, 6, 10, 1, 2, 3, 4, 5, 6, 7, 8, 9, 10, 1, 2, 3, 4, 5, 6, 7, 8, 9, 10, 3, 6, 7, 9, 10, 1, 2, 3, 4, 6, 9, 10, 10, 1, 2, 3, 4, 5, 6, 7, 8, 9, 10, 1, 2, 3, 4, 5, 6, 7, 8, 9, 10, 1, 10, 7, 1, 8, 2, 1, 2, 3, 4, 5, 6, 7, 8, 9, 10, 4, 10, 5, 1, 2, 3, 4, 5, 6, 7, 8, 10, 4, 1, 2, 3, 4, 5, 6, 7, 8, 9, 10, 1, 3, 4, 5, 6, 7, 8, 9, 10, 6, 4, 2, 3, 9, 3, 1, 2, 3, 4, 5, 6, 7, 8, 9, 10, 1, 2, 3, 4, 5, 7, 8, 9, 10, 8, 9, 1, 2, 3, 4, 5, 6, 7, 8, 9, 10, 6, 10, 1, 2, 3, 4, 5, 6, 8, 9, 10, 3, 6, 1, 3, 4, 5, 6, 7, 8, 9, 10, 1, 2, 3, 4, 5, 6, 7, 8, 9, 10, 1, 2, 3, 4, 5, 6, 7, 8, 9, 10, 1, 2, 3, 4, 5, 6, 7, 8, 9, 10, 10, 1, 2, 3, 4, 5, 6, 7, 8, 9, 10, 1, 2, 3, 4, 5, 6, 7, 8, 9, 10, 1, 2, 3, 4, 5, 7, 8, 9, 10, 10, 4, 6, 10, 1, 2, 3, 4, 5, 6, 7, 8, 9, 10, 1, 2, 3, 4, 5, 7, 8, 9, 1, 2, 3, 4, 5, 6, 7, 8, 9, 10, 2, 2, 8, 1, 2, 2, 6, 7, 8, 10, 1, 2, 3, 4, 5, 6, 9, 10, 1, 2, 6, 8, 10, 9, 1, 2, 3, 4, 5, 6, 7, 8, 9, 10, 9, 1, 2, 3, 4, 5, 6, 7, 8, 9, 10, 1, 2, 4, 6, 10, 1, 3, 4, 5, 7, 8, 3, 4, 6, 7, 9, 1, 2, 3, 4, 5, 6, 7, 8, 10, 1, 2, 4, 5, 6, 8, 10, 1, 2, 3, 4, 5, 6, 8, 9, 10, 5, 1, 3, 4, 5, 8, 1, 4, 8, 1, 5, 6, 7, 8, 9, 10, 7, 10, 1, 2, 3, 4, 5, 6, 7, 8, 9, 10, 10, 4, 6, 10, 1, 4, 1, 1, 2, 3, 4, 5, 6, 7, 8, 9, 10, 1, 1, 2, 3, 4, 5, 6, 7, 8, 9, 10, 1, 2, 3, 4, 5, 6, 7, 8, 9, 10, 1, 2, 3, 4, 5, 6, 7, 8, 9, 10, 5, 8, 1, 2, 3, 4, 5, 6, 7, 8, 9, 10, 1, 2, 3, 4, 5, 6, 7, 8, 9, 10, 1, 2, 3, 4, 5, 6, 7, 8, 9, 10, 1, 2, 4, 5, 6, 10, 1, 2, 3, 4, 5, 6, 7, 9, 10, 1, 2, 3, 4, 5, 6, 7, 8, 9, 10, 7, 1, 2, 3, 4, 5, 6, 7, 8, 9, 10, 1, 2, 5, 8, 2, 8, 1, 2, 3, 4, 5, 6, 7, 8, 9, 10, 1, 2, 3, 4, 5, 6, 7, 8, 9, 10, 8, 1, 2, 3, 4, 5, 6, 7, 9, 10, 1, 3, 2, 2, 3, 6, 7, 9, 10, 1, 2, 3, 9, 10, 1, 3, 8, 9, 10, 1, 1, 2, 3, 4, 5, 7, 8, 9, 6, 7, 9, 10, 6, 10, 1, 2, 3, 4, 5, 6, 7, 8, 9, 10, 1, 2, 3, 4, 5, 6, 7, 8, 9, 10, 1, 2, 3, 4, 5, 6, 7, 8, 9, 10, 5, 8, 10, 1, 2, 3, 4, 5, 6, 7, 8, 9, 10, 1, 2, 3, 4, 5, 6, 7, 8, 9, 10, 1, 2, 5, 6, 7, 10, 2, 3, 4, 6, 7, 8, 9, 10, 1, 2, 3, 4, 5, 6, 7, 8, 9, 10, 1, 2, 3, 4, 5, 6, 7, 8, 9, 10, 2, 8, 5, 6, 9, 10, 3, 1, 2, 3, 4, 5, 6, 7, 8, 9, 10, 1, 4, 5, 7, 8, 2, 1, 3, 4, 5, 6, 7, 8, 9, 10, 1, 1, 10, 1, 5, 5, 4, 1, 2, 3, 4, 5, 6, 7, 8, 9, 10, 8, 1, 8, 1, 4, 5, 7, 8, 1, 2, 3, 4, 5, 6, 7, 8, 9, 10, 1, 2, 3, 4, 5, 6, 7, 8, 9, 10, 1, 2, 3, 4, 5, 6, 7, 8, 9, 10, 1, 2, 3, 4, 5, 6, 7, 8, 9, 10, 3, 9, 10, 1, 2, 3, 4, 5, 6, 7, 8, 9, 10, 1, 2, 3, 4, 5, 6, 7, 8, 9, 10, 1, 2, 3, 4, 5, 6, 7, 8, 9, 10, 1, 2, 3, 4, 5, 6, 7, 8, 9, 10, 8, 8, 1, 2, 3, 4, 5, 6, 7, 8, 9, 10, 1, 2, 3, 4, 5, 6, 7, 8, 9, 10, 4, 10, 2, 3, 1, 2, 3, 4, 5, 6, 7, 8, 9, 10, 1, 2, 3, 4, 5, 6, 7, 8, 9, 10, 1, 2, 3, 4, 5, 7, 8, 9, 10, 1, 2, 3, 4, 5, 6, 7, 8, 9, 10, 1, 2, 3, 4, 5, 6, 7, 8, 9, 10, 1, 2, 3, 4, 5, 6, 7, 8, 9, 10, 4, 1, 2, 3, 4, 5, 6, 7, 8, 9, 10, 1, 2, 3, 5, 6, 7, 8, 9, 10, 2, 4, 5, 7, 1, 2, 5, 7, 8, 10, 1, 2, 3, 4, 5, 6, 7, 8, 9, 10, 1, 2, 3, 4, 6, 9, 7, 10, 1, 2, 3, 4, 5, 6, 7, 8, 9, 10, 9, 2, 6, 8, 9, 1, 9, 1, 3, 4, 5, 6, 7, 8, 10, 1, 2, 3, 4, 5, 6, 7, 8, 9, 10, 5, 8, 1, 2, 3, 4, 5, 6, 7, 8, 9, 10, 7, 4, 10, 1, 1, 2, 3, 4, 5, 6, 7, 8, 9, 10, 1, 2, 3, 4, 5, 6, 7, 8, 9, 1, 2, 3, 4, 5, 6, 7, 8, 9, 10, 2, 3, 4, 9, 8, 6, 10, 6, 4, 5, 8, 1, 3, 4, 9, 3, 9, 6, 10, 1, 1, 2, 3, 4, 5, 6, 7, 8, 9, 10, 6, 10, 4, 9, 10, 1, 2, 3, 4, 5, 6, 7, 8, 9, 10, 7, 1, 2, 3, 4, 5, 6, 7, 8, 9, 10, 7, 3, 4, 3, 6, 9, 1, 2, 3, 4, 5, 6, 7, 8, 9, 10, 1, 3, 6, 7, 10, 1, 2, 3, 4, 5, 6, 7, 8, 9, 10, 7, 4, 1, 2, 3, 5, 6, 7, 9, 10, 5, 6, 7, 7, 1, 4, 2, 5, 2, 4, 6, 5, 7, 10, 1, 2, 3, 4, 5, 6, 7, 8, 9, 10, 6, 8, 10, 1, 2, 3, 4, 5, 6, 7, 8, 9, 10, 1, 2, 3, 4, 5, 6, 7, 8, 9, 10, 1, 2, 6, 9, 10, 1, 2, 3, 4, 5, 6, 7, 8, 9, 10, 3, 5, 7, 8, 1, 2, 3, 4, 5, 6, 7, 8, 1, 2, 3, 4, 5, 6, 8, 9, 10, 9, 7, 6, 7, 1, 2, 3, 4, 5, 6, 7, 8, 9, 10, 1, 2, 3, 4, 5, 7, 8, 9, 1, 2, 3, 4, 5, 7, 8, 9, 10, 3, 5, 4, 8, 6, 10, 1, 2, 3, 4, 5, 6, 7, 8, 9, 10, 1, 2, 3, 4, 5, 6, 7, 8, 9, 10, 3, 5, 6, 10, 7, 5, 3, 3, 6, 1, 2, 3, 4, 5, 6, 7, 8, 9, 10, 9, 2, 9, 4, 3, 4, 8, 9, 2, 1, 2, 3, 4, 5, 6, 7, 8, 9, 10, 1, 2, 3, 4, 5, 6, 7, 8, 9, 10, 1, 2, 3, 5, 1, 2, 4, 5, 7, 10, 6, 1, 2, 3, 4, 5, 7, 8, 9, 10, 6, 6, 2, 3, 2, 5, 2, 1, 3, 6, 7, 8, 9, 10, 6, 7, 9, 10, 6, 9, 5, 2, 3, 4, 5, 7, 8, 5, 4, 5, 7, 1, 2, 3, 4, 5, 6, 7, 8, 9, 10, 1, 2, 5, 9, 1, 6, 1, 1, 2, 3, 4, 5, 6, 7, 8, 9, 10, 3, 1, 2, 3, 4, 5, 7, 8, 9, 1, 2, 3, 4, 5, 6, 7, 8, 9, 10, 1, 2, 3, 4, 5, 6, 7, 8, 9, 10, 1, 4, 5, 6, 7, 10, 9, 1, 2, 3, 4, 5, 6, 7, 8, 9, 10, 9, 5, 4, 8, 1, 2, 3, 4, 5, 6, 7, 8, 9, 10, 9, 10, 1, 2, 3, 4, 5, 6, 9, 10, 1, 2, 3, 4, 5, 6, 7, 8, 9, 10, 1, 2, 3, 4, 5, 7, 8, 9, 1, 2, 3, 4, 5, 7, 8, 9, 10, 7, 2, 8, 10, 1, 2, 3, 4, 5, 6, 7, 8, 9, 10, 1, 2, 3, 4, 5, 6, 7, 8, 9, 10, 1, 2, 3, 4, 5, 6, 7, 8, 9, 10, 1, 2, 3, 4, 5, 6, 7, 8, 9, 10, 2, 1, 3, 5, 7, 9, 10, 1, 2, 3, 4, 5, 6, 7, 8, 9, 10, 3, 6, 1, 3, 4, 5, 7, 8, 9, 1, 2, 3, 4, 5, 6, 7, 8, 9, 10, 1, 2, 3, 4, 5, 6, 7, 8, 9, 10, 1, 2, 3, 4, 5, 6, 7, 8, 9, 10, 10, 10, 1, 2, 5, 6, 7, 8, 9, 10, 2, 1, 2, 6, 8, 10, 1, 2, 3, 4, 5, 6, 7, 8, 9, 10, 2, 5, 8, 1, 2, 3, 4, 5, 6, 7, 8, 9, 10, 1, 2, 3, 4, 5, 6, 8, 9, 10, 5, 6, 7, 10, 1, 2, 3, 5, 6, 7, 8, 9, 10, 6, 9, 5, 7, 1, 2, 3, 4, 5, 6, 7, 8, 9, 10, 6, 10, 5, 1, 2, 3, 4, 5, 6, 7, 8, 9, 10, 1, 2, 3, 4, 5, 6, 7, 8, 9, 10, 1, 2, 3, 4, 5, 6, 7, 8, 9, 10, 1, 2, 3, 4, 5, 6, 7, 8, 9, 10, 5, 7, 1, 2, 3, 4, 5, 6, 7, 8, 9, 10, 2, 3, 3, 7, 10, 1, 3, 5, 9, 10, 4, 1, 2, 3, 4, 5, 6, 7, 8, 9, 10, 3, 4, 5, 8, 9, 10, 1, 3, 3, 7, 10, 6, 10, 1, 2, 3, 4, 5, 6, 7, 8, 9, 10, 1, 2, 3, 4, 5, 6, 7, 8, 9, 10, 4, 1, 3, 5, 7, 1, 2, 3, 5, 6, 7, 8, 9, 10, 1, 2, 3, 6, 7, 9, 10, 2, 3, 8, 3, 6, 10, 2, 3, 4, 7, 9, 8, 1, 2, 3, 4, 5, 6, 7, 8, 9, 10, 8, 7, 1, 3, 4, 8, 6, 1, 4, 1, 2, 3, 4, 5, 6, 8, 9, 10, 1, 2, 3, 4, 5, 6, 8, 9, 10, 1, 2, 3, 4, 5, 6, 7, 8, 9, 10, 3, 4, 5, 5, 8, 8, 8, 4, 7, 7, 1, 6, 8, 1, 2, 3, 4, 5, 6, 7, 8, 9, 10, 8, 1, 2, 4, 7, 6, 6, 5, 7, 5, 1, 5, 6, 7, 9, 10, 7, 1, 2, 3, 4, 5, 6, 7, 8, 9, 10, 4, 1, 2, 3, 4, 5, 6, 8, 9, 10, 6, 10, 1, 2, 3, 4, 5, 6, 7, 8, 9, 10, 1, 2, 3, 4, 5, 6, 7, 8, 9, 10, 1, 2, 1, 2, 3, 4, 5, 6, 7, 8, 9, 10, 1, 2, 3, 4, 5, 6, 7, 8, 9, 10, 10, 1, 2, 3, 4, 5, 6, 7, 8, 9, 10, 1, 2, 3, 4, 5, 6, 7, 8, 9, 10, 1, 2, 3, 4, 5, 6, 7, 8, 9, 10, 3, 8, 3, 4, 4, 1, 2, 3, 4, 5, 6, 7, 8, 9, 10, 9, 6, 10, 2, 4, 1, 2, 3, 4, 5, 6, 7, 8, 9, 10, 1, 2, 3, 4, 5, 6, 7, 8, 9, 10, 1, 3, 5, 6, 7, 8, 9, 10, 8, 9, 4, 1, 2, 3, 4, 5, 6, 7, 8, 9, 10, 1, 2, 3, 4, 5, 6, 7, 8, 9, 10, 1, 2, 3, 4, 5, 6, 8, 9, 10, 2, 3, 4, 6, 7, 8, 9, 10, 10, 1, 2, 3, 4, 5, 6, 7, 8, 9, 10, 5, 4, 1, 3, 6, 9, 10, 3, 1, 2, 4, 6, 7, 10, 1, 2, 3, 4, 5, 6, 7, 8, 9, 10, 2, 2, 3, 4, 5, 6, 7, 8, 9, 10, 1, 3, 5, 7, 8, 9, 1, 2, 3, 4, 5, 6, 7, 8, 9, 1, 3, 4, 5, 6, 8, 9, 10, 1, 2, 3, 4, 5, 6, 9, 10, 1, 2, 4, 5, 10, 7, 9, 8, 1, 2, 3, 4, 5, 6, 7, 8, 9, 10, 1, 1, 2, 3, 4, 5, 6, 7, 8, 9, 10, 2, 3, 1, 4, 5, 9, 10, 2, 5, 8, 1, 4, 5, 2, 3, 4, 5, 8, 10, 5, 7, 1, 2, 3, 4, 5, 6, 7, 8, 9, 10, 1, 2, 3, 4, 5, 6, 7, 8, 9, 10, 1, 2, 5, 6, 7, 8, 9, 10, 1, 3, 7, 10, 1, 2, 3, 4, 5, 6, 7, 8, 9, 10, 1, 2, 3, 4, 5, 6, 7, 8, 10, 1, 2, 3, 4, 5, 6, 7, 8, 9, 10, 1, 2, 3, 4, 5, 6, 7, 8, 9, 10, 1, 2, 3, 4, 5, 6, 7, 8, 9, 10, 1, 2, 3, 4, 5, 6, 7, 8, 9, 10, 3, 1, 2, 3, 4, 5, 6, 7, 8, 9, 10, 1, 2, 3, 4, 5, 6, 7, 8, 9, 10, 3, 9, 1, 2, 4, 6, 10, 1, 2, 4, 5, 6, 8, 10, 10, 6, 10, 1, 2, 3, 4, 5, 6, 7, 8, 9, 10, 4, 1, 2, 3, 4, 5, 6, 7, 8, 9, 10, 1, 2, 3, 5, 6, 8, 9, 10, 1, 2, 3, 4, 5, 6, 7, 8, 9, 10, 1, 2, 3, 6, 8, 10, 1, 3, 4, 5, 6, 7, 8, 9, 3, 1, 2, 3, 4, 5, 6, 7, 8, 9, 10, 1, 2, 3, 4, 5, 6, 7, 8, 9, 10, 1, 2, 3, 4, 5, 6, 7, 8, 9, 10, 9, 1, 3, 9, 2, 6, 10, 6, 10, 3, 1, 2, 3, 4, 5, 8, 9, 10, 6, 10, 1, 8, 9, 1, 2, 3, 4, 5, 6, 7, 8, 9, 10, 1, 2, 3, 4, 5, 6, 7, 8, 9, 10, 1, 2, 3, 4, 5, 6, 7, 8, 9, 10, 8, 1, 2, 3, 4, 6, 7, 8, 9, 10, 1, 2, 3, 4, 5, 6, 7, 8, 9, 10, 9, 1, 5, 7, 9, 8, 6, 4, 1, 2, 3, 4, 5, 6, 7, 8, 9, 10, 7, 1, 2, 3, 4, 5, 6, 7, 8, 9, 10, 5, 1, 2, 3, 4, 5, 6, 7, 8, 9, 10, 1, 2, 3, 4, 5, 7, 1, 2, 3, 4, 5, 6, 7, 8, 9, 10, 1, 6, 6, 1, 1, 2, 5, 8, 10, 5, 6, 8, 10, 1, 2, 3, 4, 5, 6, 7, 8, 9, 10, 6, 1, 2, 3, 4, 5, 6, 7, 8, 9, 10, 1, 2, 3, 4, 5, 6, 7, 8, 9, 10, 8, 1, 2, 3, 4, 5, 6, 7, 8, 9, 10, 9, 5, 8, 10, 1, 2, 3, 4, 5, 6, 7, 8, 9, 10, 1, 2, 6, 9, 1, 2, 3, 4, 5, 6, 7, 8, 9, 10, 4, 2, 10, 8, 9, 4, 4, 1, 1, 2, 3, 4, 5, 6, 7, 8, 9, 10, 1, 2, 3, 4, 5, 6, 7, 8, 9, 10, 5, 1, 1, 2, 3, 4, 5, 6, 7, 8, 9, 10, 6, 10, 6, 10, 1, 1, 2, 3, 4, 5, 6, 7, 8, 9, 10, 2, 2, 5, 6, 7, 9, 10, 6, 10, 3, 6, 1, 2, 3, 4, 5, 6, 7, 8, 9, 10, 1, 2, 3, 4, 5, 7, 8, 9, 1, 2, 3, 4, 5, 7, 8, 5, 6, 2, 4, 1, 2, 3, 4, 5, 6, 7, 8, 9, 10, 5, 1, 2, 3, 4, 5, 6, 7, 8, 9, 10, 3, 3, 2, 4, 2, 1, 2, 3, 4, 5, 6, 8, 9, 10, 1, 2, 3, 4, 5, 6, 7, 8, 9, 10, 4, 5, 10, 1, 2, 3, 4, 5, 6, 7, 8, 9, 10, 1, 2, 3, 4, 6, 8, 9, 10, 2, 5, 6, 7, 8, 10, 9, 1, 8, 10, 6, 10, 6, 10, 6, 10, 9, 6, 10, 6, 10, 1, 2, 3, 4, 5, 6, 7, 8, 9, 10, 1, 2, 3, 4, 5, 6, 7, 8, 9, 10, 9, 1, 2, 3, 4, 5, 7, 8, 9, 10, 1, 2, 3, 4, 8, 9, 1, 3, 4, 8, 9, 8, 1, 4, 5, 7, 1, 2, 3, 4, 5, 7, 8, 9, 10, 3, 7, 6, 1, 2, 3, 4, 5, 6, 7, 8, 9, 10, 1, 2, 3, 4, 5, 6, 7, 8, 9, 10, 1, 2, 3, 4, 5, 6, 7, 8, 9, 10, 1, 2, 3, 4, 5, 6, 7, 8, 9, 10, 2, 3, 6, 7, 9, 10, 3, 3, 1, 2, 3, 4, 5, 6, 7, 8, 9, 10, 9, 1, 1, 2, 3, 4, 5, 2, 3, 5, 9, 5, 7, 7, 1, 4, 5, 1, 8, 3, 1, 2, 3, 4, 5, 6, 7, 8, 9, 10, 1, 2, 3, 4, 5, 6, 7, 8, 9, 10, 9, 7, 2, 1, 2, 3, 4, 5, 6, 7, 8, 9, 10, 7, 1, 3, 7, 8, 9, 10, 1, 2, 3, 4, 5, 6, 7, 8, 9, 10, 1, 2, 3, 4, 5, 6, 7, 8, 9, 10, 2, 5, 7, 9, 5, 1, 2, 6, 1, 2, 3, 4, 5, 6, 7, 8, 9, 10, 5, 6, 10, 1, 2, 3, 4, 5, 6, 7, 8, 9, 10, 1, 2, 3, 4, 5, 6, 7, 8, 9, 10, 1, 8, 1, 2, 3, 4, 5, 6, 7, 8, 9, 10, 3, 1, 2, 3, 4, 5, 6, 7, 8, 9, 10, 1, 2, 4, 5, 6, 8, 10, 5, 1, 2, 3, 4, 5, 6, 7, 8, 9, 10, 1, 2, 3, 4, 5, 7, 8, 9, 3, 9, 4, 5, 8, 1, 2, 3, 4, 5, 6, 7, 8, 9, 10, 4, 5, 1, 4, 9, 3, 9, 1, 2, 3, 4, 5, 7, 8, 10, 6, 9, 10, 1, 2, 3, 4, 5, 6, 7, 8, 9, 10, 1, 3, 4, 5, 6, 7, 8, 10, 6, 1, 2, 3, 4, 5, 6, 9, 10, 1, 2, 3, 5, 7, 8, 3, 3, 6, 1, 2, 3, 4, 5, 6, 7, 8, 9, 10, 1, 2, 3, 4, 5, 6, 7, 8, 9, 10, 8, 2, 10, 1, 1, 9, 6, 9, 1, 2, 3, 4, 5, 6, 7, 8, 9, 10, 1, 6, 7, 8, 9, 10, 5, 1, 2, 3, 4, 5, 6, 7, 8, 9, 10, 5, 7, 10, 1, 2, 3, 4, 5, 6, 7, 8, 9, 10, 3, 9, 1, 2, 3, 5, 6, 7, 9, 10, 1, 2, 3, 4, 5, 6, 7, 8, 9, 10, 1, 2, 3, 4, 5, 6, 7, 8, 9, 10, 1, 2, 3, 4, 6, 7, 8, 9, 10, 4, 1, 2, 3, 4, 5, 7, 8, 9, 2, 6, 8, 3, 4, 1, 2, 3, 4, 5, 6, 7, 8, 9, 10, 7, 5]}, \"topic.order\": [1, 2, 3, 4, 5, 6, 7, 8, 9, 10], \"mdsDat\": {\"y\": [-0.03757761081820795, -0.07503764275397153, 0.09914650141081738, 0.03115818652721445, 0.01094731832551897, 0.03714078459827426, -0.12294265329731884, 0.05400633223486181, 0.07510669167523457, -0.0719479079024234], \"cluster\": [1, 1, 1, 1, 1, 1, 1, 1, 1, 1], \"x\": [-0.06126902362486304, -0.04658493380843228, -0.052036154564828276, -0.08105063623037806, -0.09416020292638326, 0.18544860613642586, -0.020811827450148052, -0.029561149851796118, 0.06432272664382797, 0.13570259567657503], \"Freq\": [14.062891746056652, 13.648411258000928, 10.56483634535991, 9.643122709020895, 10.220562216271155, 10.105064353413969, 6.225452930794076, 6.516951906108287, 6.953626439348394, 12.059080095625726], \"topics\": [1, 2, 3, 4, 5, 6, 7, 8, 9, 10]}, \"plot.opts\": {\"ylab\": \"PC2\", \"xlab\": \"PC1\"}, \"tinfo\": {\"Term\": [\"plaintiff\", \"defendant\", \"accused\", \"wife\", \"husband\", \"company\", \"offence\", \"share\", \"appellant\", \"court\", \"property\", \"sentence\", \"child\", \"asset\", \"application\", \"contract\", \"agreement\", \"order\", \"party\", \"matrimonial\", \"imprisonment\", \"prosecution\", \"drug\", \"account\", \"director\", \"damage\", \"charge\", \"appeal\", \"deceased\", \"marriage\", \"easement\", \"seb\", \"servient\", \"nawc\", \"eci\", \"dalzavod\", \"gript\", \"ucp\", \"apbs\", \"tct\", \"sejin\", \"tenement\", \"deuteron\", \"burgundy\", \"possessor\", \"wager\", \"taragon\", \"hcaja\", \"wagering\", \"epic\", \"hvb\", \"latham`s\", \"cbi\", \"allgreen\", \"lauren\", \"nantong\", \"rqi\", \"transocean\", \"dasan\", \"non-user\", \"subdivision\", \"cera\", \"mlc\", \"gfa\", \"regis\", \"proprietor\", \"csfb\", \"land\", \"stratum\", \"metro\", \"purchaser\", \"collective\", \"latham\", \"title\", \"vendor\", \"dynasty\", \"lot\", \"escrow\", \"lta\", \"owner\", \"debtor\", \"respondent\", \"developer\", \"subsidiary\", \"...\", \"contract\", \"law\", \"doctrine\", \"clause\", \"right\", \"lord\", \"common\", \"sale\", \"creditor\", \"property\", \"act\", \"scheme\", \"contractual\", \"option\", \"appellant\", \"case\", \"claim\", \"party\", \"term\", \"court\", \"agreement\", \"see\", \"damage\", \"principle\", \"ltd\", \"judgment\", \"fact\", \"interest\", \"decision\", \"issue\", \"judge\", \"one\", \"appeal\", \"action\", \"view\", \"iaa\", \"scja\", \"spectramed\", \"keywords\", \"mujibur\", \"anti-suit\", \"jro\", \"boxsentry\", \"mercurine\", \"pre-action\", \"e-discovery\", \"dorsey\", \"contumelious\", \"ramindo\", \"setiadi\", \"changhe\", \"virsagi\", \"keyword\", \"jtggh\", \"siraj\", \"siac\", \"thespiliadatest\", \"idealmold\", \"maldives\", \"lpp\", \"pevensey\", \"achar\", \"contumacious\", \"gazipur\", \"denko\", \"conveniens\", \"offorum\", \"setting-aside\", \"wsg\", \"litigant\", \"arbitral\", \"taxing\", \"rsc\", \"jurisdiction\", \"arbitration\", \"discovery\", \"apac\", \"mra\", \"vexatious\", \"roc\", \"taxation\", \"judicata\", \"judicature\", \"interlocutory\", \"application\", \"stay\", \"applicant\", \"summons\", \"tribunal\", \"proceeding\", \"patent\", \"forum\", \"arbitrator\", \"registrar\", \"filing\", \"file\", \"leave\", \"court\", \"order\", \"aside\", \"injunction\", \"appeal\", \"writ\", \"rule\", \"hearing\", \"action\", \"filed\", \"judgment\", \"cost\", \"litigation\", \"high\", \"process\", \"decision\", \"discretion\", \"power\", \"document\", \"affidavit\", \"matter\", \"case\", \"party\", \"singapore\", \"issue\", \"law\", \"defendant\", \"made\", \"claim\", \"plaintiff\", \"judge\", \"time\", \"set\", \"question\", \"act\", \"first\", \"fact\", \"wyc\", \"rdu\", \"metal-forms\", \"iprop\", \"jli\", \"coil\", \"sintalow\", \"apll\", \"osk\", \"trevi\", \"taisei\", \"ppi\", \"ckk\", \"uht\", \"pwm\", \"jiggling\", \"wmw\", \"propeller\", \"pelletier\", \"vhls\", \"metal-form\", \"syscon\", \"akn\", \"laycan\", \"terapanth\", \"honeywell\", \"sinindo\", \"nesh\", \"agrima\", \"duker\", \"kea\", \"demurrage\", \"feoso\", \"vibration\", \"shahiran\", \"propulsion\", \"sub-contract\", \"absg\", \"jade\", \"freight\", \"cargo\", \"plaintiff\", \"defendant\", \"sucofindo\", \"quotation\", \"paint\", \"painting\", \"invoice\", \"tile\", \"machine\", \"concrete\", \"supply\", \"project\", \"vessel\", \"delivery\", \"plant\", \"work\", \"site\", \"contract\", \"quantity\", \"product\", \"damage\", \"supplied\", \"specification\", \"oil\", \"letter\", \"first\", \"price\", \"claim\", \"cost\", \"loss\", \"second\", \"item\", \"offer\", \"evidence\", \"dated\", \"date\", \"good\", \"payment\", \"time\", \"party\", \"note\", \"agreed\", \"day\", \"made\", \"breach\", \"agreement\", \"case\", \"term\", \"however\", \"one\", \"order\", \"two\", \"sum\", \"chkc\", \"oui\", \"xtron\", \"kse\", \"tyc\", \"mfgs\", \"ptnm\", \"hongs\", \"parakou\", \"oderco\", \"telemedia\", \"fcc\", \"firna\", \"wpu\", \"chc\", \"pcsb\", \"hrh\", \"schenker\", \"articon\", \"isda\", \"seaquest\", \"ifm\", \"jspl\", \"chg\", \"riggs\", \"nedec/kodec\", \"elis\", \"morten\", \"oui\\u0092s\", \"seaspan\", \"accumulator\", \"hew\", \"turegum\", \"bgp\", \"sinwa\", \"pae\", \"hartanto\", \"udl\", \"daewoo\", \"ac\", \"forex\", \"kpmg\", \"sub-lease\", \"company\", \"audit\", \"auditor\", \"jtc\", \"director\", \"bond\", \"remuneration\", \"lease\", \"transaction\", \"margin\", \"neo\", \"account\", \"payment\", \"customer\", \"uob\", \"agreement\", \"creditor\", \"business\", \"goh\", \"profit\", \"chia\", \"bank\", \"meeting\", \"manager\", \"shareholder\", \"term\", \"debt\", \"scheme\", \"contract\", \"fund\", \"note\", \"october\", \"clause\", \"letter\", \"sum\", \"financial\", \"party\", \"tan\", \"evidence\", \"made\", \"breach\", \"ltd\", \"time\", \"lim\", \"claim\", \"share\", \"case\", \"fact\", \"one\", \"document\", \"however\", \"mdg\", \"tc\", \"tkt\", \"tembusu\", \"cristian\", \"seeto\", \"wibowo\", \"kpm\", \"tricom\", \"pcrd\", \"sharikat\", \"obc\", \"ksc\", \"chenet\", \"isabelle\", \"jamilah\", \"riverwealth\", \"nila\", \"sandz\", \"buildspeed\", \"eimc\", \"kweh\", \"goldrooster\", \"adaro\", \"lhc\", \"sijori\", \"tyk\", \"yusuf\", \"ibt\", \"elda\", \"aa\", \"allene\", \"newco\", \"rtc\", \"ppl\", \"bajumi\", \"rhb\", \"pledged\", \"share\", \"borrower\", \"pre-emption\", \"loan\", \"shareholding\", \"lender\", \"transfer\", \"deed\", \"guarantee\", \"trust\", \"mdm\", \"mortgagee\", \"shareholder\", \"estate\", \"trustee\", \"agreement\", \"company\", \"defendant\", \"director\", \"bank\", \"plaintiff\", \"property\", \"million\", \"first\", \"facility\", \"interest\", \"signed\", \"cheque\", \"meeting\", \"sale\", \"third\", \"payment\", \"second\", \"party\", \"tan\", \"letter\", \"account\", \"made\", \"evidence\", \"claim\", \"note\", \"sum\", \"case\", \"time\", \"fact\", \"said\", \"ismil\", \"katheraven\", \"sharom\", \"insp\", \"ridzuan\", \"amjad\", \"roshamima\", \"naushad\", \"`coffeemix`\", \"nutella\", \"chitra\", \"boksenang\", \"sachet\", \"kalwant\", \"venkatesan\", \"nutello\", \"luggage\", \"haleem\", \"julaiha\", \"norasharee\", \"suitcase\", \"abang\", \"koay\", \"latisse\", \"hamidah\", \"ilechukwu\", \"gc/ms\", \"john\\u0092s\", \"masoud\", \"sssgt\", \"bag\", \"packet\", \"cnb\", \"heroin\", \"haversack\", \"ssgt\", \"mogan\", \"stabbed\", \"rosalind\", \"asp\", \"ssi\", \"bala\", \"knife\", \"tma\", \"stab\", \"drug\", \"plastic\", \"diamorphine\", \"mark\", \"motorcycle\", \"bundle\", \"accused\", \"muhammad\", \"provocation\", \"black\", \"bedroom\", \"deceased\", \"sgt\", \"pedestrian\", \"urine\", \"malay\", \"kitchen\", \"car\", \"room\", \"mda\", \"phone\", \"told\", \"statement\", \"saw\", \"trafficking\", \"death\", \"evidence\", \"road\", \"officer\", \"flat\", \"asked\", \"appellant\", \"found\", \"police\", \"prosecution\", \"said\", \"defence\", \"note\", \"left\", \"trial\", \"person\", \"one\", \"two\", \"first\", \"time\", \"witness\", \"fact\", \"made\", \"case\", \"judge\", \"second\", \"court\", \"singapore\", \"matrimonial\", \"tca\", \"oafl\", \"inter-spousal\", \"tik\", \"homemaker\", \"lakeview\", \"friis\", \"marriage\", \"ancillaries\", \"plymat\", \"centillion\", \"prenuptial\", \"ahpetc\", \"innk\", \"oceantek\", \"akc\", \"grant-in-aid\", \"tcfr\", \"hpis\", \"non-parent\", \"yhpl\", \"tfi\", \"husband\\u0092s\", \"jake\", \"lkt\", \"ril\", \"namly\", \"decreenisi\", \"hkj\", \"husband\", \"divorce\", \"megl\", \"bspl\", \"spouse\", \"husband`s\", \"wife\", \"non-financial\", \"tjong\", \"cpf\", \"child\", \"maintenance\", \"inheritance\", \"ntl\", \"wife`s\", \"caregiver\", \"contribution\", \"antig\", \"asset\", \"division\", \"gift\", \"dependency\", \"household\", \"father\", \"married\", \"mother\", \"parent\", \"indirect\", \"welfare\", \"family\", \"daughter\", \"ancillary\", \"home\", \"son\", \"monthly\", \"property\", \"lump\", \"proceeds\", \"expense\", \"woman\", \"income\", \"account\", \"party\", \"year\", \"flat\", \"joint\", \"sum\", \"order\", \"court\", \"month\", \"made\", \"value\", \"share\", \"judge\", \"note\", \"case\", \"financial\", \"appeal\", \"time\", \"geocon\", \"multistar\", \"sakae\", \"twg\", \"falmac\", \"wsl\", \"airocean\", \"pngsdp\", \"nagender\", \"panatron\", \"hady\", \"erc\", \"normandy\", \"vinci\", \"csj\", \"nqf\", \"richvein\", \"nkf\", \"nlb\", \"delifrance\", \"osim\", \"niu\", \"dross\", \"republication\", \"scorpio\", \"lky\", \"sub-system\", \"iseli\", \"fairfield\", \"emg\", \"sps\", \"lhl\", \"saul\", \"defamatory\", \"natsteel\", \"copyright\", \"defamation\", \"dawood\", \"publication\", \"privilege\", \"csc\", \"manoj\", \"premier\", \"malice\", \"confidential\", \"reader\", \"club\", \"reputation\", \"article\", \"published\", \"information\", \"member\", \"website\", \"announcement\", \"email\", \"meaning\", \"word\", \"note\", \"plaintiff\", \"statement\", \"board\", \"ordinary\", \"defendant\", \"meeting\", \"public\", \"company\", \"business\", \"group\", \"made\", \"fact\", \"case\", \"director\", \"singapore\", \"evidence\", \"issue\", \"one\", \"said\", \"first\", \"ltd\", \"damage\", \"must\", \"law\", \"stiffener\", \"sandipala\", \"oxel\", \"jpw\", \"tannos\", \"geospecs\", \"r.c\", \"angiogram\", \"coronary\", \"wartsila\", \"lfe\", \"cotan\", \"testis\", \"lesion\", \"clearlab\", \"aquilus\", \"komag\", \"inlet\", \"scrubber\", \"tumour\", \"jsl\", \"retina\", \"tbc\", \"pancreatic\", \"spreader\", \"wolero\", \"st-ap\", \"g-fuel\", \"pnets\", \"masum\", \"harte\", \"civilbuild\", \"radar\", \"explorer\", \"ultrasound\", \"surgery\", \"lifeguard\", \"hatch\", \"wdu\", \"patient\", \"accident\", \"scan\", \"pilot\", \"lifting\", \"infection\", \"safety\", \"hose\", \"negligence\", \"guobena\", \"aircraft\", \"doctor\", \"earnings\", \"pain\", \"medical\", \"negligent\", \"care\", \"proximity\", \"injury\", \"diagnosis\", \"fire\", \"multiplier\", \"occupier\", \"hospital\", \"worker\", \"treatment\", \"risk\", \"crane\", \"loss\", \"duty\", \"damage\", \"award\", \"work\", \"expert\", \"liability\", \"eye\", \"plaintiff\", \"evidence\", \"case\", \"test\", \"note\", \"caused\", \"report\", \"time\", \"fact\", \"condition\", \"first\", \"claim\", \"court\", \"one\", \"view\", \"however\", \"defendant\", \"said\", \"see\", \"two\", \"sentencing\", \"extradition\", \"fellatio\", \"gratification\", \"carnal\", \"adf\", \"fugitive\", \"majibur\", \"malarkodi\", \"complainant`s\", \"haliffie\", \"meted\", \"cypa\", \"one-transaction\", \"aniza\", \"ccdc\", \"efwa\", \"bonasih\", \"consecutively\", \"vitria\", \"conleth\", \"prosecutorial\", \"reformative\", \"pausi\", \"immigrant\", \"offender\", \"disqualification\", \"lmh\", \"rashness\", \"crim\", \"imprisonment\", \"aggravating\", \"deterrence\", \"probation\", \"sentence\", \"custodial\", \"bail\", \"modesty\", \"rape\", \"offence\", \"punishment\", \"mitigating\", \"abetment\", \"sof\", \"sentenced\", \"dac\", \"deterrent\", \"caning\", \"victim\", \"conviction\", \"fine\", \"culpability\", \"cane\", \"criminal\", \"penal\", \"cpc\", \"prosecutor\", \"convicted\", \"guilty\", \"charge\", \"code\", \"prosecution\", \"sexual\", \"imposed\", \"district\", \"appellant\", \"crime\", \"committed\", \"judge\", \"police\", \"public\", \"case\", \"accused\", \"person\", \"act\", \"court\", \"fact\", \"year\", \"trial\", \"respondent\", \"one\", \"evidence\", \"appeal\", \"two\", \"factor\", \"slr\", \"law\", \"time\"], \"Freq\": [153134.0, 135679.0, 34845.0, 20668.0, 19171.0, 51958.0, 24774.0, 33707.0, 71163.0, 122191.0, 32884.0, 19418.0, 12915.0, 15405.0, 33314.0, 39179.0, 46700.0, 52068.0, 65666.0, 8763.0, 11243.0, 15378.0, 11890.0, 33946.0, 19630.0, 25972.0, 22511.0, 51360.0, 14173.0, 6911.0, 1507.7936784040044, 686.7360264385178, 490.084852589547, 415.4487038271825, 404.4200495690127, 382.5625201599234, 301.85853579370854, 293.2024779040344, 1210.8358110326449, 257.1085494209982, 250.39023571473749, 704.2753160398642, 237.07616183503708, 215.64700444668358, 213.00700081455028, 201.16602469145477, 190.745832693313, 187.71061578055796, 182.1905655224967, 175.14762660930455, 318.83188827735324, 164.7348931817692, 164.0931285570776, 431.71294742052277, 152.18538217037022, 150.5874206167956, 146.26166757810728, 292.5215894192061, 142.7911482799728, 138.9870676523684, 587.8627791528287, 223.46401103066242, 522.1175358130744, 301.24474335327386, 342.05046882582064, 3934.159857154959, 295.67590230038417, 7861.847996390486, 1543.3484459220088, 542.9390117157926, 4271.497038960075, 1749.415909119441, 511.31032512630287, 4416.296555439903, 2920.6875223710194, 726.4673749388169, 3176.5686067082365, 705.3181142102252, 1148.0917527410277, 5654.788042432408, 1928.7047600592193, 15540.350968496216, 1094.2972910108604, 3124.6380602694353, 8361.969413440313, 15640.563427405506, 15387.022300839513, 2103.9525915128434, 7041.753716283709, 10843.999358835112, 4741.220850875498, 5800.51173218208, 9442.414078118796, 3656.263030820635, 10722.38570945197, 12888.612329573303, 3435.701810864216, 3058.2502868535466, 3700.0271749939907, 16101.824639500166, 16693.601873660955, 11284.731673465636, 13202.399537376818, 7967.3535799137735, 16813.867195951447, 9657.166738226768, 7438.5319662461325, 6718.446295270996, 5228.9982927069705, 6871.06314696184, 7230.863065035611, 9312.38075939327, 6451.349356979662, 6984.007817095306, 7150.048047801846, 7291.63039737315, 7229.282388704217, 7024.269999648671, 6224.439474965637, 6176.545354342764, 489.82832040369607, 1510.6724519493694, 347.3643892498335, 230.6800711294125, 225.56808644751865, 349.0273363104772, 208.81967753967092, 204.07768105817004, 143.96509462129444, 749.1818785436361, 126.6589552947485, 122.204497876131, 242.32030440346315, 114.8998345801414, 111.58792183054513, 109.95938861201897, 108.7019247975797, 182.25869904491634, 105.64592116181429, 140.7379989982014, 225.73930788861128, 97.73830487527881, 95.29572603111473, 108.45952932107703, 87.22196076121905, 87.50218577906651, 83.11362545185715, 80.7632593478067, 79.90091814213832, 79.0157100508523, 235.80293753917937, 205.00993196731199, 154.8243607556301, 135.76191131477307, 1033.281450135821, 569.2830858836195, 205.1796893920137, 332.9304440999414, 10538.694111148441, 4846.576319823788, 4451.40104637432, 240.56541491964154, 296.56705586741106, 647.913738414946, 1063.1510050818197, 766.7289690921964, 476.92937600514966, 764.6398491322077, 2217.3103730276266, 24871.758573973842, 4009.628955722664, 6152.030378215008, 4372.844630297642, 1238.784780676069, 17803.694373278064, 1526.6840346719096, 1489.3233774882324, 1036.7141641388507, 4745.597721942003, 1529.1692062722466, 2827.598925605194, 6944.69137027053, 59706.0658784964, 27986.164631313248, 4174.765395495859, 3495.293640509573, 25671.226957600276, 3055.4963407223527, 10652.205102601443, 6575.200407939708, 16020.182280447307, 6150.212937878772, 14386.838385062645, 11974.372758519805, 2504.8179503929878, 6931.281824430263, 4725.699392594393, 11727.749417091885, 3863.3450844756208, 5604.4382949599285, 9338.719768601832, 6134.978054214117, 9063.502303963813, 19867.680592312983, 15508.5079519131, 10691.32598546888, 10412.02236545776, 11270.511474015184, 17423.346475258655, 11530.537187013404, 10780.994103377392, 16672.727930725287, 9712.805774083796, 8719.513065155315, 7083.967394733782, 7232.572742978936, 7361.239181089747, 7510.348673473854, 7114.911031554857, 701.7134435452836, 554.9309570252077, 518.5269670087705, 364.98899757858953, 359.5150095222249, 979.6554689527778, 337.30062493974947, 279.15358172409617, 358.46198324976797, 245.61398948370694, 202.5564802617671, 288.1458880650039, 177.30707184068677, 152.5420194585594, 160.44516780542926, 150.26789530973994, 147.88580937903163, 147.13874437781203, 140.85644436788346, 140.12969807102328, 139.53879878352748, 138.34720862909862, 147.33498807398732, 136.56767302795967, 127.75201549849426, 124.92058824774648, 122.48382393837012, 122.85433615356153, 122.03408050998773, 116.89049392294795, 466.16673036853354, 202.96617404070693, 200.62265131879897, 225.68562457380347, 172.16741593782646, 157.3398527432268, 1092.2223091073363, 174.9149214744435, 399.5610734122716, 910.7110406759066, 3297.903965412463, 84329.29937765679, 73962.25991002149, 266.275144445678, 1458.7457565219552, 1005.0642652876816, 430.6501535753354, 2325.3932001163666, 385.95370906098077, 1688.4514016138742, 1167.771755909889, 2222.4998146389335, 4303.4906192987455, 3505.783101633134, 2456.8522397181623, 797.4981369182593, 8406.502184983065, 2060.820344437107, 12937.381489916454, 1496.7014346477636, 3002.891051167947, 8444.739267358602, 1059.983600577469, 846.016125000967, 1254.6005326203156, 6670.265979274383, 12608.118814581918, 4401.659070865485, 10681.287553037708, 6304.317024355718, 5001.26821374872, 7160.530887317331, 2477.553139257529, 3228.7693363105955, 10540.147597785133, 3685.923611923862, 4492.708307322968, 4333.280884198373, 4842.98771192157, 6722.839742741746, 7030.9804622007405, 6168.013834551535, 3910.7731907320313, 3890.5459544448404, 5633.070905501067, 3936.5131276658944, 5086.510263060185, 5893.00581543775, 4407.365439041863, 4157.42617061654, 4310.083706831993, 4253.677133964606, 4141.781871367074, 3951.290119967756, 852.7170192450544, 789.988968474663, 761.4875363965217, 547.56619728443, 549.1142390425308, 436.88316673753565, 431.788356748872, 427.6527965878745, 410.8606914752639, 398.4530314878117, 402.8154430243874, 399.85503344243585, 430.7084471516751, 364.8011890461849, 1015.1597698069876, 297.2321905993596, 278.32041067981936, 273.4460939204606, 266.51382072932216, 317.40283533448996, 252.42697340593588, 216.873464230807, 210.42978762144364, 281.46569536774535, 208.8105811509566, 204.31127952189362, 202.84310489043858, 202.91193463917313, 196.08946198963926, 191.8968282498673, 1059.6516345765133, 1110.9382516793682, 582.695780825117, 342.2082555613752, 342.4122174423515, 418.9647285417849, 346.655554508627, 348.0925949749769, 341.9889944785711, 342.90186169384816, 398.1211335419023, 547.7349156646756, 545.5510205352743, 24127.264886664652, 1155.9078066213317, 1098.9328510500268, 1180.7026738170189, 9021.589873129413, 1527.1693230991532, 1059.1935402637362, 3162.3116556479154, 5286.354864714399, 938.4619306184779, 1294.6196559542348, 10452.794722903389, 8324.854897297768, 2409.8330129567166, 1088.8628602141355, 11686.454929071297, 3142.7975725889332, 5840.615116181954, 2406.6842595286384, 2690.4930752502155, 1491.3422797996864, 5640.709451799948, 3988.67671669307, 2140.979693906103, 3382.807837713339, 6671.823186551182, 2800.109163350728, 2661.2613686242703, 6751.732451216661, 2845.048097296469, 7436.024966672963, 3449.6406209117476, 3887.744793495862, 4371.212381008384, 4412.879822680283, 2917.7216014211194, 6685.686035874817, 3916.4806712472714, 6383.263157734923, 5847.35425056878, 3819.9656058335804, 4297.028149494981, 5055.654039295624, 3261.0019961232597, 4578.047190581087, 3936.8593635756056, 4833.514750909027, 3995.8877725893276, 3884.518541305217, 3526.8373475819444, 3540.41730164548, 782.9553085436393, 765.4312516443899, 586.4159089097452, 539.3676698538151, 449.40365559075457, 431.08734661752493, 395.9323286088799, 388.9424452190383, 379.8934617154021, 360.54380099187694, 321.1904694224656, 297.78743574187195, 267.44555329293775, 309.35252098764835, 241.110506846168, 233.70846749324966, 229.1153137012325, 223.55204703065002, 231.85145158402088, 233.66348504746236, 474.3749541174814, 198.812310574118, 319.1045726942887, 239.85118446845655, 181.4805740262381, 172.46354814125124, 170.9530904640222, 163.37634925920636, 157.62695256200723, 153.5176322733954, 652.9392641652646, 272.4962922047034, 257.5594244126406, 1177.5375487162485, 822.1171785013452, 221.6438840887143, 674.3845278500454, 706.6148207666887, 23641.634390630086, 1148.837743579946, 334.40113128367506, 8964.14028168535, 1660.4566847758604, 718.9607678918635, 5392.991282694419, 3142.7428761696942, 3037.1618870337097, 6151.893394201473, 3905.3629303692283, 1009.4815902030655, 5119.614318260834, 3301.940461149441, 2143.759381229362, 14987.995315127506, 15271.228081053325, 27727.853046837656, 6524.187062345423, 6550.463239017335, 26332.77615207153, 8930.604175328299, 1803.6091852722896, 12391.628021074093, 2290.4913936688486, 6259.76640725265, 3089.861601166779, 2358.165141912636, 3917.659783790401, 5843.923804593735, 4843.31351877956, 5517.4685794879415, 6506.786822682452, 9010.23104347309, 4838.10056788182, 4959.950601446392, 5999.424926298802, 7153.056025614915, 7356.675573173862, 6003.581674500396, 5915.324732210968, 4445.487997211386, 5771.776299221965, 4890.446823419103, 4827.085972574518, 4608.848908138665, 936.7145471743255, 426.0350019932477, 408.55903336270995, 413.83165250417096, 497.2713573815143, 347.63313045773396, 374.43740660937976, 327.74060010084486, 320.72299882898193, 314.8929714533402, 308.6384857760772, 307.8547084104117, 296.372500476508, 294.35272888458337, 376.2650733774918, 288.04176419350034, 765.4519854788383, 238.13046649418055, 232.92233606487767, 212.6669793645506, 214.92341057324208, 207.67847459862705, 207.3945115019277, 202.53732235788462, 209.15433874696936, 190.46970851827692, 189.6664860127169, 189.59887036329772, 172.848726451872, 309.1221252435772, 4497.410604167359, 2467.2358328121663, 2034.1273299496345, 2462.966487347696, 703.9591587809118, 496.924183293515, 395.1728576535198, 405.3273663304611, 342.58084972069844, 947.9467519572272, 604.4837374767006, 685.3624224886763, 1536.4653969421156, 905.3123725249935, 405.33995745015994, 10206.595294565714, 2092.1779516370775, 1706.9265849737376, 6787.518742799663, 1722.4716631572282, 2675.689479189152, 25233.352314158594, 863.2856374690155, 695.1809119368255, 1188.0588141026988, 1344.217488496887, 10236.971181830359, 924.5185006198054, 1003.3181639426377, 1210.3654459073823, 763.3150242230779, 1031.6449853590639, 4946.027920637583, 2773.986207127333, 1707.9879951739692, 1714.577204807996, 6104.415060576374, 12502.726083634234, 2695.487080520758, 1667.0674671760878, 3430.027379756853, 17285.591072746276, 3597.6352622574395, 4350.141594168227, 3382.5020275328843, 4668.565136519726, 13786.98061073838, 6718.088929447871, 3736.1173615672105, 4966.49678283836, 7605.496281860078, 5477.994707929703, 8673.001244107996, 3779.8298640658472, 5745.643863436404, 5854.277222377097, 7010.160531311814, 6226.902029192221, 7302.217992361622, 6840.429976926518, 4098.879889300552, 5354.135336856201, 5043.290011488636, 5379.216045588725, 4580.750081007402, 4255.336680900259, 4588.575259321969, 4132.961653669091, 8759.541212276154, 354.9835421625663, 397.3000952537364, 249.9715937712405, 224.64330934886388, 218.98906425930483, 192.6339125497457, 224.54074436913103, 6867.9316741942475, 189.45708965248787, 120.27482674383992, 114.93392734138257, 185.41667127052605, 240.05750496499013, 102.22584957752541, 99.26238725534093, 96.36331798040156, 84.68741740453974, 83.90469181179978, 82.0660208025943, 80.66840305360796, 84.06679657962815, 79.14434854926614, 76.06138118873845, 80.7501385636775, 75.94287524887264, 89.93901944735843, 74.25454450807308, 78.25370253769668, 73.6660183367245, 18899.11249285896, 3211.9145186356805, 302.9599857101574, 167.6553068958962, 1186.888624975198, 388.68191714059867, 19299.90951547128, 498.4745932814883, 731.7023667075679, 2354.2202973737762, 11431.674240244982, 6031.183373316067, 432.4227008427381, 215.48357827021343, 495.00785407467276, 408.3745197764599, 5385.3840000858145, 300.15518338304304, 11311.50923536241, 3846.359136241725, 1980.9597016996458, 442.15388334619985, 931.3823575814577, 3232.5306010158542, 1200.2968141113454, 3604.5626710187803, 2235.8840868673824, 1180.8904997769462, 694.7583712051976, 4517.236592693347, 1637.828179150672, 1163.8256362776801, 3628.557071291915, 2415.0693387507354, 2146.0780258916107, 10766.273268427709, 1049.203493385662, 2564.524099402648, 3717.8245818837336, 1426.7118147634603, 2272.11440889488, 7480.896520854887, 10408.496690760194, 5806.700438080843, 2669.615306304923, 2636.970471677463, 4749.640374325421, 6421.32729681893, 8387.413165920854, 3628.5671315521704, 5218.540000943417, 3147.233740299373, 4091.8778202722233, 4396.067414203442, 3942.329349224952, 4404.027987462945, 2792.144997004527, 3228.143653247331, 3171.150390490877, 1216.0875142341479, 958.1094371999518, 716.0078596067319, 790.7909845838308, 540.7853870517948, 422.02170570411045, 476.5376162487114, 431.86860088881576, 392.9655120419394, 366.2149419795453, 452.03699311238137, 340.06067192982283, 334.8236590342698, 285.66828223080574, 385.0713729023633, 272.5308336679715, 280.78036824742964, 248.43529618607653, 283.65752294556074, 234.2511824377171, 415.136812169233, 241.98156862403826, 226.01701227517816, 224.91807859725893, 299.3954806491943, 468.512240262304, 205.73548653692063, 200.89539604938878, 200.26864347016237, 266.42079080960565, 903.7373677074646, 363.2536945108993, 298.2506088121874, 1904.7593349777937, 376.0360771526244, 2037.3598734575412, 1407.912855111367, 503.05738923067577, 1669.2488761478837, 3133.1217991796475, 795.2624776685318, 321.6198801039785, 440.16648600585773, 735.9328613660964, 1363.905524272703, 499.3971896995817, 2174.622207500642, 983.9799913973328, 3133.323707959844, 985.2651005507885, 4330.6155730306855, 3682.822938482803, 686.9511534612647, 769.2347966755017, 2413.8559142442696, 2566.750049976691, 4027.536201397026, 7228.792996573811, 10871.349072540426, 4656.09873424398, 2430.225665422561, 1481.8834806025795, 7954.937869351255, 2421.9174719116822, 2598.3420259395475, 4582.054948389322, 2778.7093632871683, 1832.2900202870537, 3859.427905581373, 3680.173004575162, 4218.925255381496, 2441.4547152552914, 2974.6974992477935, 3339.1971547628605, 2743.7713952098306, 2950.016141837168, 2717.2108119989616, 2832.0789559150435, 2319.1189074069566, 2294.916167353077, 2266.012075020509, 2286.5544099203994, 865.0371082889179, 514.2069492813598, 431.86075378748546, 337.27362146935786, 302.77565385139764, 278.70360675331733, 268.9184254046072, 302.0962035243842, 284.8458325019524, 242.68279528396852, 244.95073334285905, 234.89349507326807, 229.39790631882093, 347.0468316173961, 698.3391787007853, 306.86822815533407, 263.2503898643215, 271.34749898756667, 239.02331826848555, 410.6841235984652, 194.21612354132853, 185.23279276793804, 185.1773635568218, 235.0658906337686, 178.90588084151844, 184.77483215586386, 172.5777003831354, 171.4651181223486, 173.67614100945625, 170.34903100766192, 551.0694185146006, 693.4313974854532, 312.12778518061464, 279.9359976849636, 192.1185460266785, 1245.1002360367713, 291.2470329762314, 283.042445117218, 254.0181323504531, 2429.6522153481797, 4678.049982285217, 746.9117504235754, 660.9791436282944, 873.253466538152, 487.75365316749105, 2127.943368332734, 376.19724537067856, 3482.7776239553655, 538.5963229491116, 556.836913851749, 1675.4085370703667, 1424.932474768525, 1841.242047005686, 3746.958345442636, 1390.9258389721901, 4353.536293079539, 830.8819069649551, 4467.988756401681, 725.0570631934413, 1576.5825498296995, 1027.0889654742757, 844.5767631827281, 1472.6034895954017, 2146.5802002081496, 1723.1035973814098, 2778.5460130311444, 1092.4888917914907, 5301.398046404163, 5454.945220702075, 5827.874802762289, 2585.596401603003, 4338.099101257849, 2288.7892071287283, 3155.062059630836, 1242.1111011137857, 8800.986141819512, 5754.763404994345, 6275.345745338862, 2299.485891008275, 4164.70689348714, 2041.4615154880387, 2453.3748952016426, 3479.384061652185, 3415.452005302382, 2230.6544633425547, 3136.737900314661, 2994.27472655326, 3584.1095659311663, 2913.96324505763, 2602.134012604421, 2550.9394386447525, 2790.333886489624, 2493.4616551219024, 2445.018508701851, 2422.4171617242605, 6063.9899437253025, 716.7520790060837, 376.29990558682863, 786.1593080120481, 266.81324578282596, 247.27451818782845, 228.70876041341438, 208.3735833663262, 200.46831939869423, 205.3927404339495, 192.78035518690461, 524.6890074157519, 171.45423983402438, 169.12793163443402, 168.9855316372709, 201.90419146628733, 147.41608117531888, 144.67981781484306, 1002.402837062944, 141.11170933584964, 135.9197031696916, 136.38676840495765, 719.4211579451965, 130.7396619513521, 420.85599081100713, 8739.628787401947, 791.3510327416725, 123.68977475521653, 246.14648853710034, 118.21041383090198, 11138.708246197826, 1907.1997345314494, 1347.826067032125, 1093.7436771848656, 18595.19650186965, 1430.667945241661, 1419.7281319614867, 353.283314348894, 1904.9084369140385, 23083.34311563478, 3376.6843302375623, 1662.5298362472486, 896.1769094541006, 513.6673553944058, 3159.210981598013, 794.788645464676, 671.8047278110748, 994.2780625328965, 8893.24284155288, 5008.891481564833, 4285.2817965793465, 1144.7331889078494, 1362.0639614917256, 7964.621900415869, 4580.1482561657, 2888.7425223738132, 4093.6552359899406, 3202.890393237376, 4366.502349334307, 15261.338138196523, 5365.155974538253, 10238.230136932825, 2076.469195820397, 4663.232047639861, 7714.489112811629, 30976.73160133418, 1891.9579710595215, 4262.5763614682555, 15360.279702044643, 4931.416964666279, 6787.975090709942, 19728.53671051431, 9534.450338007691, 8423.125166606595, 10575.802942800816, 16528.758735607033, 11147.87913564682, 7447.489125495218, 7365.890463341478, 8147.920991321084, 8157.16776433394, 8511.3709342925, 7847.966060246441, 6730.551192403721, 4981.151507850011, 5192.302633404279, 5331.57366013834, 5345.236853696084], \"Total\": [153134.0, 135679.0, 34845.0, 20668.0, 19171.0, 51958.0, 24774.0, 33707.0, 71163.0, 122191.0, 32884.0, 19418.0, 12915.0, 15405.0, 33314.0, 39179.0, 46700.0, 52068.0, 65666.0, 8763.0, 11243.0, 15378.0, 11890.0, 33946.0, 19630.0, 25972.0, 22511.0, 51360.0, 14173.0, 6911.0, 1508.6994981682503, 687.7288463610438, 490.9650396186917, 416.33364058989514, 405.3004081105967, 383.44398734003744, 302.7396770820202, 294.08351074428896, 1214.7855089350458, 257.997118287461, 251.27615128370522, 706.853219278816, 237.95743751613946, 216.5274482279297, 213.91298285243818, 202.04938815427911, 191.6250588914998, 188.60706000158197, 183.09253662543182, 176.0533307075115, 320.5043243751447, 165.6143195360124, 164.9718460314418, 434.02582044979476, 153.09717594943353, 151.4914872017653, 147.1426026686382, 294.3135287790153, 143.67033368710545, 139.86503657592425, 593.3871602972971, 225.0678436178174, 530.965135971897, 305.55692304426753, 348.19069447190213, 4258.241568409548, 302.56313077692727, 9105.802223817296, 1692.347268603761, 576.4561408965129, 5123.04359449378, 2006.2504364121119, 542.606834067988, 5488.893803036781, 3541.5143975860533, 806.2900016478266, 4098.246041243076, 797.1492733744934, 1390.2937320520964, 8753.171478029692, 2665.3043922458646, 35654.34806880733, 1440.8028909067752, 5313.3204320341265, 17972.169535232973, 39179.00415362784, 41887.93253392299, 3303.4099475964113, 15700.232603990205, 28771.70806542545, 9804.230767558693, 12848.773942434314, 24994.08116597875, 7499.152265721647, 32884.01109957153, 45532.962487224824, 7077.977436869584, 6037.721450883911, 8058.218832605105, 71163.40114133965, 93065.63107582903, 50757.161746717, 65666.70701678986, 32042.63266885112, 122191.6941937024, 46700.596450348545, 29957.106769943573, 25972.358077805093, 15936.693483107669, 28189.658822780406, 31812.167442721362, 55222.96309932106, 25458.510190686928, 31602.85216514442, 36031.08565977763, 46071.81396012172, 49790.79685402531, 51360.143000424745, 32685.593626216163, 32565.30178459827, 490.71806681312427, 1514.232833638815, 348.24347282570693, 231.56026335013408, 226.444981199502, 350.3909595082474, 209.6997775054534, 204.9560265979479, 144.89473261499128, 754.0485948564309, 127.5373187314776, 123.08379736610509, 244.1540914229505, 115.79321084927305, 112.46517989737929, 110.83656137168107, 109.5795544772845, 183.7391482892756, 106.52370021439353, 141.94035120070492, 227.67561430421304, 98.63172339322047, 96.17306078628468, 109.50613133961704, 88.1068841875872, 88.40707258557867, 83.99099000938818, 81.64131370760936, 80.77814809139241, 79.89277515697295, 238.83592457800444, 208.5052594400726, 157.07630511915656, 137.8129249164895, 1084.093032903467, 591.8700108542658, 209.48035662390274, 343.62879272164275, 11743.733336416271, 5402.561103475089, 5002.868924487326, 247.28431489011456, 307.2647655916089, 688.369865204831, 1152.316608360742, 823.1544591571054, 503.21934009096094, 834.6755460357372, 2576.1178166277846, 33314.74524919402, 4919.518746674567, 7871.573529027485, 5502.914386730647, 1418.9619580922244, 25319.204762152494, 1791.5871504692814, 1758.0499428342498, 1189.6034552097237, 6590.739739679267, 1875.5563270194502, 3733.5870339377475, 10360.318244930499, 122191.6941937024, 52068.33605385916, 6107.313553347908, 4983.927605424886, 51360.143000424745, 4279.571400392696, 19231.143964571198, 11040.931650280841, 32685.593626216163, 10300.973915356375, 31812.167442721362, 27035.60268426231, 3604.883336783565, 14509.000432804802, 8727.587203789244, 31602.85216514442, 6664.094674180358, 11391.616551446212, 25736.071477170215, 13534.16217910597, 25155.37003288621, 93065.63107582903, 65666.70701678986, 37711.13743087961, 36031.08565977763, 41887.93253392299, 135679.25957898315, 56853.96921849153, 50757.161746717, 153134.8850488147, 46071.81396012172, 51426.35181117513, 23846.339573304245, 26595.233123152357, 45532.962487224824, 61803.58344672616, 55222.96309932106, 702.5898088498014, 555.8346451788243, 519.4208774896294, 365.86885888290243, 360.39331405397803, 982.3343038544747, 338.3177464142696, 280.0362489065732, 359.71446704092506, 246.49253356571893, 203.43346683652, 289.5680841012143, 178.18483590818815, 153.42118313234656, 161.37323500132493, 151.1461868603721, 148.76259254854557, 148.01564969681098, 141.73358288352927, 141.00751600870817, 140.41962606079167, 139.227786373436, 148.27917898365587, 137.45411889926734, 128.63963433267676, 125.81456965734573, 123.36070932987609, 123.7341200595281, 122.91130305001684, 117.77498223361329, 473.7321587586838, 204.77273098481885, 202.7901737667975, 229.59068666578492, 174.2142682163026, 159.40610132376634, 1194.7511043484346, 178.2103058450582, 432.1967271229152, 1051.206728451977, 4282.42164043318, 153134.8850488147, 135679.25957898315, 283.3866283965433, 1849.5904409078546, 1326.5255673507413, 510.17615614083974, 3727.7671538604295, 455.26733619105386, 2653.973296315119, 1703.6258710846373, 3769.432555051283, 8588.27533910212, 6682.626284037398, 4394.806293872952, 1097.3834150061505, 20469.67704960354, 3587.14355809465, 39179.00415362784, 2506.5573636313866, 6486.4648167208225, 25972.358077805093, 1624.3743759404977, 1200.8494929597207, 2095.0154700498965, 22586.20204517731, 61803.58344672616, 13318.58661559027, 50757.161746717, 27035.60268426231, 19017.091528083653, 35683.37939364241, 6288.291176936257, 9734.821333119584, 70061.92797460289, 12290.434067022925, 17685.33690825535, 17556.719125493793, 25776.61786482445, 51426.35181117513, 65666.70701678986, 50530.180210581166, 18492.810825983473, 19238.14020281488, 56853.96921849153, 20087.34904439008, 46700.596450348545, 93065.63107582903, 32042.63266885112, 35371.861369377715, 49790.79685402531, 52068.33605385916, 39373.3300555092, 23953.62724786085, 853.5979153898496, 790.9163865463103, 762.6709734087196, 548.4474411408534, 550.0094693208673, 437.7632824577153, 432.67322896168554, 428.5411882416343, 411.75529630935245, 399.33306539099317, 403.70551293641535, 400.73979687851374, 431.7046466870585, 365.6809424791347, 1017.8249971208577, 298.11147897225055, 279.20262492599437, 274.32624185321095, 267.39569867445186, 318.49815276367855, 253.31161119980555, 217.75779943391845, 211.31072483011832, 282.65029124129114, 209.69908908368535, 205.19190667036585, 203.7208610605568, 203.79118118922034, 196.97627810359188, 192.77546352107564, 1065.041866747325, 1117.8807615985797, 585.9420144895921, 344.5320343364716, 345.02276488557095, 424.04384649762824, 350.6291515309352, 353.01444111227505, 346.8344694533041, 349.6399353948618, 415.4189850758761, 594.1322183599262, 595.7951259598055, 51958.18049260993, 1460.9963672303647, 1398.3491340481307, 1532.6566946327775, 19630.177069885925, 2204.859558901503, 1395.725517726289, 5863.436700954347, 11480.383450169946, 1272.4896839708515, 1956.6573208119823, 33946.16116530612, 25776.61786482445, 4783.558061684509, 1588.6846538992172, 46700.596450348545, 7499.152265721647, 18823.87536712311, 5290.687097852712, 6339.615271028191, 2680.4103110626343, 20905.348333817547, 12794.08826727487, 4834.276065756613, 10281.012293492302, 32042.63266885112, 7649.571650682777, 7077.977436869584, 39179.00415362784, 8407.42862622237, 50530.180210581166, 12225.699518474972, 15700.232603990205, 22586.20204517731, 23953.62724786085, 10104.09198575081, 65666.70701678986, 20660.988771357268, 70061.92797460289, 56853.96921849153, 20087.34904439008, 28189.658822780406, 51426.35181117513, 14164.498604155582, 50757.161746717, 33707.63849679841, 93065.63107582903, 55222.96309932106, 49790.79685402531, 25736.071477170215, 35371.861369377715, 783.8383957057689, 766.3211018184483, 587.2964408096253, 540.2795754068392, 450.2935235186317, 431.9685453038575, 396.82230304901856, 389.8243006735119, 380.77399444694043, 361.4257646009354, 322.09805585997555, 298.67498114403537, 268.33208240214697, 310.4319062978665, 241.99523758144193, 234.59668563699339, 230.00716717497772, 224.4375034680298, 232.77575973882935, 234.5970852979802, 476.3636656411027, 199.69708261478047, 320.6314869433767, 241.009855530811, 182.36450495490777, 173.34330413967706, 171.83273861372277, 164.27008280943747, 158.50770049567996, 154.39838714177222, 657.8968595918452, 274.14457075043964, 259.5567531353627, 1211.0958861221566, 843.8498582064203, 223.7156478204435, 708.2182272960569, 766.5288289470955, 33707.63849679841, 1357.7477458019555, 348.5656418077792, 14041.716011893208, 2137.4656718034566, 861.2402172042766, 9112.853400090245, 4898.803489381467, 4731.911003244818, 11030.86812194911, 6457.236771970853, 1345.9984725820548, 10281.012293492302, 6247.614520276114, 3717.744092232765, 46700.596450348545, 51958.18049260993, 135679.25957898315, 19630.177069885925, 20905.348333817547, 153134.8850488147, 32884.01109957153, 3331.199654994693, 61803.58344672616, 5073.0383689501205, 25458.510190686928, 8247.733802564231, 5404.436213416515, 12794.08826727487, 24994.08116597875, 19129.959879187936, 25776.61786482445, 35683.37939364241, 65666.70701678986, 20660.988771357268, 22586.20204517731, 33946.16116530612, 56853.96921849153, 70061.92797460289, 50757.161746717, 50530.180210581166, 23953.62724786085, 93065.63107582903, 51426.35181117513, 55222.96309932106, 35426.160468369, 938.1549267730904, 426.9227401972386, 409.4402393942282, 414.7254864366195, 498.5065461026933, 348.5203796536852, 375.4322068993249, 328.6272550575772, 321.6063352656744, 315.78896695075684, 309.5187055565903, 308.73427944050644, 297.2544235304705, 295.2325792271085, 377.40270835917823, 288.9287736940101, 767.8775428211783, 239.0296907155425, 233.84157942076362, 213.546107537113, 215.8208976548255, 208.55713791237721, 208.28784732529002, 203.41771759939454, 210.0712421704183, 191.34916150573474, 190.54565008657812, 190.5441543536913, 173.72767947602404, 310.6995066829174, 4578.838015432833, 2499.4679121050144, 2058.0298695721444, 2502.9282228871975, 707.661229604152, 499.7403754463999, 397.2326338725414, 407.99462264419356, 344.6427612146339, 970.5285073827619, 615.9201370543997, 701.5177406987672, 1627.7390902093, 941.7826399128865, 410.963689852296, 11890.330205457354, 2299.5503509733076, 1864.2121657769226, 8249.193098687057, 1918.8426021598943, 3098.8026670741106, 34845.87666269009, 925.4441371376611, 734.6264522026239, 1323.3730557123426, 1519.6942543856644, 14173.242775640178, 1012.9992409315241, 1110.4577831490064, 1406.627975484619, 833.8705396043947, 1183.6312238412572, 7870.509415272497, 4057.7035004561267, 2250.8588825612205, 2275.101239327664, 11499.641115284876, 31987.046025846474, 4309.636404120732, 2251.382277612085, 6038.998583943857, 70061.92797460289, 7280.639637767465, 10314.229608875074, 7227.175324414558, 12140.346679903583, 71163.40114133965, 24530.425114633275, 9111.193098342337, 15378.251177524162, 35426.160468369, 19662.798068209544, 50530.180210581166, 9845.56952773642, 26255.415606629507, 28910.962040435046, 49790.79685402531, 39373.3300555092, 61803.58344672616, 51426.35181117513, 13842.983788817497, 55222.96309932106, 56853.96921849153, 93065.63107582903, 46071.81396012172, 35683.37939364241, 122191.6941937024, 37711.13743087961, 8763.392947103954, 355.86539088566207, 398.7183821657875, 250.86526101456082, 225.53044085867919, 219.96010266394245, 193.5156748730127, 225.61041747512965, 6911.094434419951, 190.81764444575268, 121.15598690345917, 115.81958908957088, 186.8493212329162, 242.06881622021444, 103.10732885840925, 100.14454208074616, 97.24576431458595, 85.56810049651571, 84.78541885713594, 82.95262156117208, 81.54939714196547, 84.9911810475331, 80.02673926859896, 76.94296495425456, 81.6870950894435, 76.82780034691613, 90.98880459325923, 75.13567650609266, 79.18670031686057, 74.54796833977018, 19171.408360600493, 3267.8786717074463, 307.14526946559675, 169.69904613532205, 1232.4485576100394, 399.381895644337, 20668.35637661474, 516.7942453697785, 766.7171886998512, 2539.6564947704296, 12915.020859376482, 6790.7509889351595, 455.8241642319509, 222.32841273652616, 524.4658933826541, 431.8179410501666, 6490.402757691136, 317.18058476931543, 15405.531078432155, 4845.362765032702, 2449.060043432578, 485.25762670452696, 1108.1751037056529, 4501.957129306028, 1500.5610619604483, 5429.056299578893, 3200.7463373845403, 1573.7790713272143, 852.9664329708138, 8252.706287541874, 2487.229752784048, 1624.5828341757642, 6805.728326382604, 4202.23736534748, 3702.0105919202542, 32884.01109957153, 1491.9931265434482, 5087.253954202004, 8771.0372845468, 2293.208812029458, 4465.663670388005, 33946.16116530612, 65666.70701678986, 25711.183822416024, 7227.175324414558, 7086.423064229003, 23953.62724786085, 52068.33605385916, 122191.6941937024, 15746.670202244546, 56853.96921849153, 12549.028567286492, 33707.63849679841, 46071.81396012172, 50530.180210581166, 93065.63107582903, 10104.09198575081, 51360.143000424745, 51426.35181117513, 1216.9698216282832, 959.0049259367032, 716.8897976186953, 792.0636143215161, 541.6811698221117, 422.90609484566914, 477.5628840942209, 432.8126733365515, 393.8421941463199, 367.0987707970135, 453.19191789221867, 340.93855911260306, 335.701238564941, 286.55159091248476, 386.28763880815467, 273.40743423390126, 281.711095577348, 249.32010244171434, 284.689420526759, 235.12804807900204, 416.69696465066573, 242.90106744295164, 226.89466895997327, 225.79533886114893, 300.57971164344906, 470.3796945576924, 206.613392524224, 201.7747917038471, 201.1465427537521, 267.5923921868472, 917.8677344487095, 366.0131225903774, 300.3571963873204, 1967.1706831779568, 381.85317152240333, 2249.537635601178, 1526.7856851957883, 522.1977424700427, 1862.9430660886217, 3649.573980825178, 894.6460898949732, 327.2957459507981, 464.54611253294405, 834.44616074453, 1832.339966749872, 553.8252193733208, 3441.1074930188397, 1292.7202867190817, 6507.544751462269, 1435.9165422060341, 11381.48931129081, 9411.56546170666, 889.1248668293597, 1070.0560148288653, 6476.736968296015, 7400.898281449777, 17085.943917179826, 50530.180210581166, 153134.8850488147, 31987.046025846474, 9920.255592855385, 4456.684227578965, 135679.25957898315, 12794.08826727487, 14898.732678103492, 51958.18049260993, 18823.87536712311, 7665.512048002499, 56853.96921849153, 55222.96309932106, 93065.63107582903, 19630.177069885925, 37711.13743087961, 70061.92797460289, 36031.08565977763, 49790.79685402531, 35426.160468369, 61803.58344672616, 28189.658822780406, 25972.358077805093, 31456.031635262683, 41887.93253392299, 865.9427490063182, 515.0962873311578, 432.7479115671346, 338.1585693814549, 303.6613911020401, 279.59537182811016, 269.80740614006703, 303.10497357349175, 285.8481569466955, 243.56949672531653, 245.847174348686, 235.7797461279134, 230.28226449003273, 348.38689960083747, 701.0844443533069, 308.14363274933754, 264.3706255682176, 272.51723451749393, 240.0890939564943, 412.56199417037357, 195.11427018989602, 186.1184752287681, 186.06284702208725, 236.20278982476222, 179.79022426558907, 185.70541117273496, 173.46205857526698, 172.34923596952126, 174.5758156879468, 171.23657155546042, 556.2484590474799, 703.3765937079785, 314.8123922891107, 282.2611393173288, 193.16725671556264, 1294.5184009213929, 294.11728851343855, 286.2296535315029, 256.6607296918844, 2585.2379819539933, 5298.371485642656, 794.6636420001354, 703.8675663198819, 964.9068130017885, 519.3041742525432, 2599.855461134179, 393.70301197508564, 4589.489564135243, 596.6436469210399, 622.617146366084, 2280.410651410876, 1910.3881245963855, 2616.8852420933076, 6318.635769782597, 1918.432673883641, 7781.678520006732, 1053.285674631612, 8609.434120029016, 895.4674514633749, 2485.1625899727255, 1443.4539405677108, 1129.9770580371699, 2375.1330474038177, 4048.980318088295, 3163.797094217983, 6857.015127119809, 1720.1953142124714, 19017.091528083653, 20306.55032646232, 25972.358077805093, 7958.604247289081, 20469.67704960354, 6717.638431703025, 12959.074363296562, 2212.3323617168858, 153134.8850488147, 70061.92797460289, 93065.63107582903, 9162.2580576192, 50530.180210581166, 8097.429182115404, 14340.056467852764, 51426.35181117513, 55222.96309932106, 13405.903062335601, 61803.58344672616, 50757.161746717, 122191.6941937024, 49790.79685402531, 32565.30178459827, 35371.861369377715, 135679.25957898315, 35426.160468369, 29957.106769943573, 39373.3300555092, 6070.948768540451, 717.6406474240883, 377.18702260373186, 788.4723369189702, 267.69372926888894, 248.15614482824947, 229.63398801603387, 209.2553980865896, 201.35179217722498, 206.30288134806753, 193.6610674594158, 527.2078919285985, 172.3347489178303, 170.00883004413112, 169.8673766985457, 203.10161921305775, 148.29677435993324, 145.56078011931055, 1008.6144902684565, 142.01089667602736, 136.79999818946882, 137.2701007276038, 724.231813926077, 131.62668109296106, 423.7733011182613, 8800.440724441612, 796.8672651203075, 124.57027372379058, 247.89957238031292, 119.11308013811693, 11243.255559751608, 1932.6994752728313, 1364.7218640819517, 1105.7400610574878, 19418.134992246283, 1457.359582242348, 1453.4710312244702, 356.9133708667418, 1961.3617385747154, 24774.485118827364, 3515.8966406432787, 1725.6223554374503, 926.5623432613012, 525.8945251766942, 3394.189890419274, 821.2833727605066, 694.0178243103358, 1044.65915421399, 10077.454859811158, 5603.389755490623, 4769.087959006538, 1212.0083111085219, 1460.4232962576327, 9414.205035368337, 5240.603197797863, 3313.9049381755126, 4864.786253641851, 3809.3582721002736, 5434.123064435785, 22511.788027926417, 7229.034390979406, 15378.251177524162, 2438.154436312682, 6395.08860315739, 11678.96954388581, 71163.40114133965, 2205.2633340946313, 6199.403641189254, 46071.81396012172, 9111.193098342337, 14898.732678103492, 93065.63107582903, 34845.87666269009, 28910.962040435046, 45532.962487224824, 122191.6941937024, 55222.96309932106, 25711.183822416024, 26255.415606629507, 35654.34806880733, 49790.79685402531, 70061.92797460289, 51360.143000424745, 39373.3300555092, 11472.449851664245, 19885.152690989817, 41887.93253392299, 51426.35181117513], \"logprob\": [30.0, 29.0, 28.0, 27.0, 26.0, 25.0, 24.0, 23.0, 22.0, 21.0, 20.0, 19.0, 18.0, 17.0, 16.0, 15.0, 14.0, 13.0, 12.0, 11.0, 10.0, 9.0, 8.0, 7.0, 6.0, 5.0, 4.0, 3.0, 2.0, 1.0, -7.2418, -8.0283, -8.3656, -8.5309, -8.5578, -8.6133, -8.8503, -8.8794, -7.4612, -9.0107, -9.0372, -8.0031, -9.0918, -9.1866, -9.1989, -9.2561, -9.3093, -9.3253, -9.3552, -9.3946, -8.7956, -9.4559, -9.4598, -8.4925, -9.5351, -9.5457, -9.5748, -8.8817, -9.5988, -9.6258, -8.1837, -9.151, -8.3023, -8.8523, -8.7253, -6.2828, -8.871, -5.5905, -7.2185, -8.2632, -6.2005, -7.0932, -8.3233, -6.1672, -6.5807, -7.972, -6.4967, -8.0016, -7.5144, -5.92, -6.9956, -4.909, -7.5624, -6.5132, -5.5288, -4.9026, -4.9189, -6.9087, -5.7006, -5.2689, -6.0962, -5.8945, -5.4073, -6.356, -5.2801, -5.0961, -6.4183, -6.5346, -6.3441, -4.8735, -4.8374, -5.229, -5.0721, -5.5771, -4.8303, -5.3848, -5.6458, -5.7476, -5.9983, -5.7252, -5.6741, -5.4211, -5.7882, -5.7088, -5.6854, -5.6657, -5.6743, -5.7031, -5.824, -5.8317, -8.3363, -7.21, -8.6799, -9.0893, -9.1117, -8.6752, -9.1888, -9.2118, -9.5607, -7.9113, -9.6888, -9.7246, -9.0401, -9.7863, -9.8155, -9.8302, -9.8417, -9.3249, -9.8702, -9.5834, -9.1109, -9.948, -9.9733, -9.8439, -10.0619, -10.0586, -10.1101, -10.1388, -10.1495, -10.1607, -9.0673, -9.2073, -9.488, -9.6194, -7.5898, -8.1859, -9.2064, -8.7224, -5.2675, -6.0443, -6.1293, -9.0473, -8.838, -8.0566, -7.5613, -7.8882, -8.3629, -7.8909, -6.8263, -4.4088, -6.2339, -5.8058, -6.1471, -7.4084, -4.7432, -7.1995, -7.2242, -7.5865, -6.0653, -7.1978, -6.5831, -5.6846, -3.5331, -4.2908, -6.1935, -6.3711, -4.3772, -6.5056, -5.2568, -5.7393, -4.8487, -5.8061, -4.9562, -5.1398, -6.7043, -5.6865, -6.0695, -5.1606, -6.271, -5.899, -5.3884, -5.8086, -5.4183, -4.6335, -4.8812, -5.2531, -5.2796, -5.2004, -4.7647, -5.1776, -5.2448, -4.8088, -5.3491, -5.457, -5.6647, -5.644, -5.6263, -5.6063, -5.6604, -7.7207, -7.9554, -8.0232, -8.3744, -8.3895, -7.387, -8.4532, -8.6425, -8.3924, -8.7705, -8.9632, -8.6108, -9.0963, -9.2468, -9.1963, -9.2618, -9.2778, -9.2828, -9.3265, -9.3317, -9.3359, -9.3445, -9.2815, -9.3574, -9.4241, -9.4465, -9.4662, -9.4632, -9.4699, -9.513, -8.1297, -8.9612, -8.9728, -8.8551, -9.1258, -9.2158, -7.2783, -9.1099, -8.2839, -7.46, -6.1732, -2.9317, -3.0629, -8.6897, -6.9889, -7.3614, -8.2089, -6.5226, -8.3185, -6.8427, -7.2114, -6.5678, -5.907, -6.1121, -6.4676, -7.5927, -5.2375, -6.6434, -4.8063, -6.9632, -6.2669, -5.2329, -7.3082, -7.5337, -7.1396, -5.4688, -4.8321, -5.8845, -4.998, -5.5252, -5.7568, -5.3979, -6.4592, -6.1944, -5.0113, -6.0619, -5.864, -5.9001, -5.7889, -5.461, -5.4161, -5.5471, -6.0027, -6.0079, -5.6378, -5.9962, -5.7399, -5.5927, -5.8832, -5.9416, -5.9055, -5.9187, -5.9453, -5.9924, -7.4345, -7.5109, -7.5477, -7.8775, -7.8746, -8.1033, -8.115, -8.1246, -8.1647, -8.1953, -8.1845, -8.1918, -8.1175, -8.2836, -7.2601, -8.4884, -8.5542, -8.5718, -8.5975, -8.4228, -8.6518, -8.8036, -8.8338, -8.5429, -8.8415, -8.8633, -8.8705, -8.8702, -8.9044, -8.926, -7.2172, -7.17, -7.8153, -8.3475, -8.3469, -8.1451, -8.3346, -8.3305, -8.3482, -8.3455, -8.1962, -7.8771, -7.8811, -4.0918, -7.1303, -7.1808, -7.1091, -5.0756, -6.8518, -7.2177, -6.1239, -5.61, -7.3387, -7.017, -4.9283, -5.1559, -6.3956, -7.19, -4.8167, -6.1301, -5.5103, -6.3969, -6.2855, -6.8755, -5.5452, -5.8917, -6.5139, -6.0565, -5.3773, -6.2455, -6.2964, -5.3654, -6.2296, -5.2688, -6.0369, -5.9173, -5.8001, -5.7907, -6.2044, -5.3752, -5.91, -5.4215, -5.5092, -5.9349, -5.8173, -5.6547, -6.0931, -5.7539, -5.9048, -5.6996, -5.8899, -5.9182, -6.0148, -6.0109, -7.578, -7.6007, -7.8671, -7.9507, -8.1332, -8.1748, -8.2598, -8.2777, -8.3012, -8.3535, -8.4691, -8.5447, -8.6522, -8.5066, -8.7558, -8.787, -8.8069, -8.8314, -8.795, -8.7872, -8.0791, -8.9487, -8.4756, -8.7611, -9.0399, -9.0909, -9.0997, -9.145, -9.1809, -9.2073, -7.7596, -8.6335, -8.6898, -7.1699, -7.5292, -8.84, -7.7273, -7.6806, -4.1703, -7.1946, -8.4287, -5.1401, -6.8262, -7.6633, -5.6482, -6.1882, -6.2224, -5.5166, -5.971, -7.3239, -5.7003, -6.1388, -6.5708, -4.6261, -4.6074, -4.0109, -5.4578, -5.4538, -4.0625, -5.1439, -6.7435, -4.8163, -6.5046, -5.4992, -6.2052, -6.4755, -5.9678, -5.5679, -5.7557, -5.6254, -5.4605, -5.135, -5.7568, -5.7319, -5.5417, -5.3658, -5.3377, -5.541, -5.5558, -5.8414, -5.5804, -5.7461, -5.7591, -5.8054, -7.3873, -8.1752, -8.2171, -8.2043, -8.0206, -8.3786, -8.3043, -8.4375, -8.4591, -8.4775, -8.4976, -8.5001, -8.5381, -8.5449, -8.2994, -8.5666, -7.5893, -8.7569, -8.779, -8.87, -8.8594, -8.8937, -8.8951, -8.9188, -8.8867, -8.9802, -8.9845, -8.9848, -9.0773, -8.496, -5.8185, -6.4189, -6.6119, -6.4206, -7.673, -8.0213, -8.2504, -8.225, -8.3932, -7.3754, -7.8254, -7.6998, -6.8925, -7.4214, -8.225, -4.9989, -6.5838, -6.7873, -5.4069, -6.7782, -6.3378, -4.0938, -7.469, -7.6856, -7.1496, -7.0262, -4.996, -7.4005, -7.3187, -7.131, -7.5921, -7.2908, -5.7234, -6.3017, -6.7867, -6.7828, -5.513, -4.796, -6.3304, -6.8109, -6.0894, -4.4721, -6.0417, -5.8518, -6.1034, -5.7811, -4.6982, -5.4172, -6.0039, -5.7193, -5.2931, -5.6212, -5.1618, -5.9923, -5.5735, -5.5548, -5.3746, -5.4931, -5.3338, -5.3991, -5.9113, -5.6441, -5.7039, -5.6394, -5.8001, -5.8738, -5.7984, -5.903, -4.6674, -7.8733, -7.7606, -8.224, -8.3308, -8.3563, -8.4845, -8.3313, -4.9107, -8.5012, -8.9556, -9.001, -8.5227, -8.2645, -9.1182, -9.1476, -9.1772, -9.3064, -9.3157, -9.3378, -9.355, -9.3137, -9.3741, -9.4138, -9.354, -9.4154, -9.2462, -9.4378, -9.3854, -9.4458, -3.8985, -5.6707, -8.0317, -8.6234, -6.6662, -7.7826, -3.8775, -7.5338, -7.15, -5.9814, -4.4012, -5.0406, -7.6759, -8.3725, -7.5408, -7.7332, -5.1539, -8.041, -4.4118, -5.4905, -6.154, -7.6537, -6.9087, -5.6643, -6.655, -5.5554, -6.0329, -6.6713, -7.2018, -5.3297, -6.3442, -6.6859, -5.5487, -5.9559, -6.0739, -4.4612, -6.7895, -5.8958, -5.5244, -6.4822, -6.0169, -4.8252, -4.495, -5.0786, -5.8556, -5.8679, -5.2795, -4.978, -4.7108, -5.5487, -5.1854, -5.6911, -5.4286, -5.3569, -5.4658, -5.3551, -5.8108, -5.6657, -5.6835, -6.6877, -6.9261, -7.2174, -7.1181, -7.4981, -7.746, -7.6245, -7.723, -7.8174, -7.8879, -7.6773, -7.962, -7.9775, -8.1363, -7.8377, -8.1833, -8.1535, -8.2759, -8.1433, -8.3347, -7.7625, -8.3022, -8.3705, -8.3754, -8.0893, -7.6415, -8.4645, -8.4883, -8.4914, -8.206, -6.9846, -7.896, -8.0932, -6.239, -7.8614, -6.1717, -6.5412, -7.5704, -6.371, -5.7413, -7.1124, -8.0177, -7.7039, -7.19, -6.573, -7.5777, -6.1065, -6.8995, -5.7412, -6.8982, -5.4176, -5.5797, -7.2588, -7.1457, -6.0021, -5.9407, -5.4902, -4.9053, -4.4972, -5.3452, -5.9954, -6.49, -4.8095, -5.9988, -5.9285, -5.3612, -5.8614, -6.2778, -5.5328, -5.5804, -5.4438, -5.9907, -5.7932, -5.6776, -5.874, -5.8015, -5.8837, -5.8423, -6.0422, -6.0526, -6.0653, -6.0563, -7.0932, -7.6133, -7.7878, -8.0351, -8.143, -8.2258, -8.2615, -8.1452, -8.204, -8.3642, -8.3549, -8.3968, -8.4205, -8.0065, -7.3072, -8.1295, -8.2828, -8.2526, -8.3794, -7.8381, -8.587, -8.6343, -8.6346, -8.3961, -8.6691, -8.6368, -8.7051, -8.7116, -8.6988, -8.7181, -7.5441, -7.3143, -8.1125, -8.2214, -8.5978, -6.729, -8.1818, -8.2104, -8.3185, -6.0604, -5.4053, -7.24, -7.3622, -7.0837, -7.6661, -6.193, -7.9258, -5.7004, -7.567, -7.5337, -6.4321, -6.5941, -6.3378, -5.6273, -6.6182, -5.4772, -7.1335, -5.4513, -7.2697, -6.4929, -6.9215, -7.1171, -6.5612, -6.1843, -6.4041, -5.9263, -6.8597, -5.2802, -5.2517, -5.1855, -5.9982, -5.4808, -6.1202, -5.7992, -6.7314, -4.7733, -5.1982, -5.1116, -6.1155, -5.5216, -6.2345, -6.0507, -5.7013, -5.7199, -6.1459, -5.805, -5.8515, -5.6717, -5.8787, -5.9919, -6.0117, -5.922, -6.0345, -6.0541, -6.0634, -5.6964, -7.8318, -8.4761, -7.7393, -8.82, -8.896, -8.9741, -9.0672, -9.1059, -9.0816, -9.145, -8.1437, -9.2622, -9.2759, -9.2767, -9.0987, -9.4132, -9.432, -7.4964, -9.457, -9.4944, -9.491, -7.8281, -9.5333, -8.3642, -5.3309, -7.7328, -9.5887, -8.9006, -9.634, -5.0883, -6.8531, -7.2003, -7.4091, -4.5758, -7.1406, -7.1483, -8.5392, -6.8543, -4.3596, -6.2819, -6.9904, -7.6084, -8.1649, -6.3484, -7.7284, -7.8965, -7.5045, -5.3135, -5.8875, -6.0436, -7.3636, -7.1898, -5.4237, -5.977, -6.4379, -6.0893, -6.3347, -6.0248, -4.7734, -5.8188, -5.1726, -6.7681, -5.959, -5.4557, -4.0655, -6.8611, -6.0489, -4.767, -5.9031, -5.5836, -4.5167, -5.2438, -5.3678, -5.1402, -4.6936, -5.0875, -5.4909, -5.5019, -5.401, -5.3999, -5.3573, -5.4385, -5.5921, -5.8931, -5.8516, -5.8251, -5.8225], \"Category\": [\"Default\", \"Default\", \"Default\", \"Default\", \"Default\", \"Default\", \"Default\", \"Default\", \"Default\", \"Default\", \"Default\", \"Default\", \"Default\", \"Default\", \"Default\", \"Default\", \"Default\", \"Default\", \"Default\", \"Default\", \"Default\", \"Default\", \"Default\", \"Default\", \"Default\", \"Default\", \"Default\", \"Default\", \"Default\", \"Default\", \"Topic1\", \"Topic1\", \"Topic1\", \"Topic1\", \"Topic1\", \"Topic1\", \"Topic1\", \"Topic1\", \"Topic1\", \"Topic1\", \"Topic1\", \"Topic1\", \"Topic1\", \"Topic1\", \"Topic1\", \"Topic1\", \"Topic1\", \"Topic1\", \"Topic1\", \"Topic1\", \"Topic1\", \"Topic1\", \"Topic1\", \"Topic1\", \"Topic1\", \"Topic1\", \"Topic1\", \"Topic1\", \"Topic1\", \"Topic1\", \"Topic1\", \"Topic1\", \"Topic1\", \"Topic1\", \"Topic1\", \"Topic1\", \"Topic1\", \"Topic1\", \"Topic1\", \"Topic1\", \"Topic1\", \"Topic1\", \"Topic1\", \"Topic1\", \"Topic1\", \"Topic1\", \"Topic1\", \"Topic1\", \"Topic1\", \"Topic1\", \"Topic1\", \"Topic1\", \"Topic1\", \"Topic1\", \"Topic1\", \"Topic1\", \"Topic1\", \"Topic1\", \"Topic1\", \"Topic1\", \"Topic1\", \"Topic1\", \"Topic1\", \"Topic1\", \"Topic1\", \"Topic1\", \"Topic1\", \"Topic1\", \"Topic1\", \"Topic1\", \"Topic1\", \"Topic1\", \"Topic1\", \"Topic1\", \"Topic1\", \"Topic1\", \"Topic1\", \"Topic1\", \"Topic1\", \"Topic1\", \"Topic1\", \"Topic1\", \"Topic1\", \"Topic1\", \"Topic1\", \"Topic1\", \"Topic1\", \"Topic1\", \"Topic1\", \"Topic1\", \"Topic2\", \"Topic2\", \"Topic2\", \"Topic2\", \"Topic2\", \"Topic2\", \"Topic2\", \"Topic2\", \"Topic2\", \"Topic2\", \"Topic2\", \"Topic2\", \"Topic2\", \"Topic2\", \"Topic2\", \"Topic2\", \"Topic2\", \"Topic2\", \"Topic2\", \"Topic2\", \"Topic2\", \"Topic2\", \"Topic2\", \"Topic2\", \"Topic2\", \"Topic2\", \"Topic2\", \"Topic2\", \"Topic2\", \"Topic2\", \"Topic2\", \"Topic2\", \"Topic2\", \"Topic2\", \"Topic2\", \"Topic2\", \"Topic2\", \"Topic2\", \"Topic2\", \"Topic2\", \"Topic2\", \"Topic2\", \"Topic2\", \"Topic2\", \"Topic2\", \"Topic2\", \"Topic2\", \"Topic2\", \"Topic2\", \"Topic2\", \"Topic2\", \"Topic2\", \"Topic2\", \"Topic2\", \"Topic2\", \"Topic2\", \"Topic2\", \"Topic2\", \"Topic2\", \"Topic2\", \"Topic2\", \"Topic2\", \"Topic2\", \"Topic2\", \"Topic2\", \"Topic2\", \"Topic2\", \"Topic2\", \"Topic2\", \"Topic2\", \"Topic2\", \"Topic2\", \"Topic2\", \"Topic2\", \"Topic2\", \"Topic2\", \"Topic2\", \"Topic2\", \"Topic2\", \"Topic2\", \"Topic2\", \"Topic2\", \"Topic2\", \"Topic2\", \"Topic2\", \"Topic2\", \"Topic2\", \"Topic2\", \"Topic2\", \"Topic2\", \"Topic2\", \"Topic2\", \"Topic2\", \"Topic2\", \"Topic2\", \"Topic2\", \"Topic2\", \"Topic2\", \"Topic2\", \"Topic3\", \"Topic3\", \"Topic3\", \"Topic3\", \"Topic3\", \"Topic3\", \"Topic3\", \"Topic3\", \"Topic3\", \"Topic3\", \"Topic3\", \"Topic3\", \"Topic3\", \"Topic3\", \"Topic3\", \"Topic3\", \"Topic3\", \"Topic3\", \"Topic3\", \"Topic3\", \"Topic3\", \"Topic3\", \"Topic3\", \"Topic3\", \"Topic3\", \"Topic3\", \"Topic3\", \"Topic3\", \"Topic3\", \"Topic3\", \"Topic3\", \"Topic3\", \"Topic3\", \"Topic3\", \"Topic3\", \"Topic3\", \"Topic3\", \"Topic3\", \"Topic3\", \"Topic3\", \"Topic3\", \"Topic3\", \"Topic3\", \"Topic3\", \"Topic3\", \"Topic3\", \"Topic3\", \"Topic3\", \"Topic3\", \"Topic3\", \"Topic3\", \"Topic3\", \"Topic3\", \"Topic3\", \"Topic3\", \"Topic3\", \"Topic3\", \"Topic3\", \"Topic3\", \"Topic3\", \"Topic3\", \"Topic3\", \"Topic3\", \"Topic3\", \"Topic3\", \"Topic3\", \"Topic3\", \"Topic3\", \"Topic3\", \"Topic3\", \"Topic3\", \"Topic3\", \"Topic3\", \"Topic3\", \"Topic3\", \"Topic3\", \"Topic3\", \"Topic3\", \"Topic3\", \"Topic3\", \"Topic3\", \"Topic3\", \"Topic3\", \"Topic3\", \"Topic3\", \"Topic3\", \"Topic3\", \"Topic3\", \"Topic3\", \"Topic3\", \"Topic3\", \"Topic3\", \"Topic3\", \"Topic3\", \"Topic4\", \"Topic4\", \"Topic4\", \"Topic4\", \"Topic4\", \"Topic4\", \"Topic4\", \"Topic4\", \"Topic4\", \"Topic4\", \"Topic4\", \"Topic4\", \"Topic4\", \"Topic4\", \"Topic4\", \"Topic4\", \"Topic4\", \"Topic4\", \"Topic4\", \"Topic4\", \"Topic4\", \"Topic4\", \"Topic4\", \"Topic4\", \"Topic4\", \"Topic4\", \"Topic4\", \"Topic4\", \"Topic4\", \"Topic4\", \"Topic4\", \"Topic4\", \"Topic4\", \"Topic4\", \"Topic4\", \"Topic4\", \"Topic4\", \"Topic4\", \"Topic4\", \"Topic4\", \"Topic4\", \"Topic4\", \"Topic4\", \"Topic4\", \"Topic4\", \"Topic4\", \"Topic4\", \"Topic4\", \"Topic4\", \"Topic4\", \"Topic4\", \"Topic4\", \"Topic4\", \"Topic4\", \"Topic4\", \"Topic4\", \"Topic4\", \"Topic4\", \"Topic4\", \"Topic4\", \"Topic4\", \"Topic4\", \"Topic4\", \"Topic4\", \"Topic4\", \"Topic4\", \"Topic4\", \"Topic4\", \"Topic4\", \"Topic4\", \"Topic4\", \"Topic4\", \"Topic4\", \"Topic4\", \"Topic4\", \"Topic4\", \"Topic4\", \"Topic4\", \"Topic4\", \"Topic4\", \"Topic4\", \"Topic4\", \"Topic4\", \"Topic4\", \"Topic4\", \"Topic4\", \"Topic4\", \"Topic4\", \"Topic4\", \"Topic4\", \"Topic4\", \"Topic4\", \"Topic4\", \"Topic4\", \"Topic5\", \"Topic5\", \"Topic5\", \"Topic5\", \"Topic5\", \"Topic5\", \"Topic5\", \"Topic5\", \"Topic5\", \"Topic5\", \"Topic5\", \"Topic5\", \"Topic5\", \"Topic5\", \"Topic5\", \"Topic5\", \"Topic5\", \"Topic5\", \"Topic5\", \"Topic5\", \"Topic5\", \"Topic5\", \"Topic5\", \"Topic5\", \"Topic5\", \"Topic5\", \"Topic5\", \"Topic5\", \"Topic5\", \"Topic5\", \"Topic5\", \"Topic5\", \"Topic5\", \"Topic5\", \"Topic5\", \"Topic5\", \"Topic5\", \"Topic5\", \"Topic5\", \"Topic5\", \"Topic5\", \"Topic5\", \"Topic5\", \"Topic5\", \"Topic5\", \"Topic5\", \"Topic5\", \"Topic5\", \"Topic5\", \"Topic5\", \"Topic5\", \"Topic5\", \"Topic5\", \"Topic5\", \"Topic5\", \"Topic5\", \"Topic5\", \"Topic5\", \"Topic5\", \"Topic5\", \"Topic5\", \"Topic5\", \"Topic5\", \"Topic5\", \"Topic5\", \"Topic5\", \"Topic5\", \"Topic5\", \"Topic5\", \"Topic5\", \"Topic5\", \"Topic5\", \"Topic5\", \"Topic5\", \"Topic5\", \"Topic5\", \"Topic5\", \"Topic5\", \"Topic5\", \"Topic5\", \"Topic5\", \"Topic5\", \"Topic5\", \"Topic5\", \"Topic6\", \"Topic6\", \"Topic6\", \"Topic6\", \"Topic6\", \"Topic6\", \"Topic6\", \"Topic6\", \"Topic6\", \"Topic6\", \"Topic6\", \"Topic6\", \"Topic6\", \"Topic6\", \"Topic6\", \"Topic6\", \"Topic6\", \"Topic6\", \"Topic6\", \"Topic6\", \"Topic6\", \"Topic6\", \"Topic6\", \"Topic6\", \"Topic6\", \"Topic6\", \"Topic6\", \"Topic6\", \"Topic6\", \"Topic6\", \"Topic6\", \"Topic6\", \"Topic6\", \"Topic6\", \"Topic6\", \"Topic6\", \"Topic6\", \"Topic6\", \"Topic6\", \"Topic6\", \"Topic6\", \"Topic6\", \"Topic6\", \"Topic6\", \"Topic6\", \"Topic6\", \"Topic6\", \"Topic6\", \"Topic6\", \"Topic6\", \"Topic6\", \"Topic6\", \"Topic6\", \"Topic6\", \"Topic6\", \"Topic6\", \"Topic6\", \"Topic6\", \"Topic6\", \"Topic6\", \"Topic6\", \"Topic6\", \"Topic6\", \"Topic6\", \"Topic6\", \"Topic6\", \"Topic6\", \"Topic6\", \"Topic6\", \"Topic6\", \"Topic6\", \"Topic6\", \"Topic6\", \"Topic6\", \"Topic6\", \"Topic6\", \"Topic6\", \"Topic6\", \"Topic6\", \"Topic6\", \"Topic6\", \"Topic6\", \"Topic6\", \"Topic6\", \"Topic6\", \"Topic6\", \"Topic6\", \"Topic6\", \"Topic6\", \"Topic6\", \"Topic6\", \"Topic6\", \"Topic6\", \"Topic6\", \"Topic6\", \"Topic6\", \"Topic6\", \"Topic6\", \"Topic7\", \"Topic7\", \"Topic7\", \"Topic7\", \"Topic7\", \"Topic7\", \"Topic7\", \"Topic7\", \"Topic7\", \"Topic7\", \"Topic7\", \"Topic7\", \"Topic7\", \"Topic7\", \"Topic7\", \"Topic7\", \"Topic7\", \"Topic7\", \"Topic7\", \"Topic7\", \"Topic7\", \"Topic7\", \"Topic7\", \"Topic7\", \"Topic7\", \"Topic7\", \"Topic7\", \"Topic7\", \"Topic7\", \"Topic7\", \"Topic7\", \"Topic7\", \"Topic7\", \"Topic7\", \"Topic7\", \"Topic7\", \"Topic7\", \"Topic7\", \"Topic7\", \"Topic7\", \"Topic7\", \"Topic7\", \"Topic7\", \"Topic7\", \"Topic7\", \"Topic7\", \"Topic7\", \"Topic7\", \"Topic7\", \"Topic7\", \"Topic7\", \"Topic7\", \"Topic7\", \"Topic7\", \"Topic7\", \"Topic7\", \"Topic7\", \"Topic7\", \"Topic7\", \"Topic7\", \"Topic7\", \"Topic7\", \"Topic7\", \"Topic7\", \"Topic7\", \"Topic7\", \"Topic7\", \"Topic7\", \"Topic7\", \"Topic7\", \"Topic7\", \"Topic7\", \"Topic7\", \"Topic7\", \"Topic7\", \"Topic7\", \"Topic7\", \"Topic7\", \"Topic7\", \"Topic7\", \"Topic7\", \"Topic7\", \"Topic7\", \"Topic7\", \"Topic7\", \"Topic7\", \"Topic7\", \"Topic7\", \"Topic7\", \"Topic8\", \"Topic8\", \"Topic8\", \"Topic8\", \"Topic8\", \"Topic8\", \"Topic8\", \"Topic8\", \"Topic8\", \"Topic8\", \"Topic8\", \"Topic8\", \"Topic8\", \"Topic8\", \"Topic8\", \"Topic8\", \"Topic8\", \"Topic8\", \"Topic8\", \"Topic8\", \"Topic8\", \"Topic8\", \"Topic8\", \"Topic8\", \"Topic8\", \"Topic8\", \"Topic8\", \"Topic8\", \"Topic8\", \"Topic8\", \"Topic8\", \"Topic8\", \"Topic8\", \"Topic8\", \"Topic8\", \"Topic8\", \"Topic8\", \"Topic8\", \"Topic8\", \"Topic8\", \"Topic8\", \"Topic8\", \"Topic8\", \"Topic8\", \"Topic8\", \"Topic8\", \"Topic8\", \"Topic8\", \"Topic8\", \"Topic8\", \"Topic8\", \"Topic8\", \"Topic8\", \"Topic8\", \"Topic8\", \"Topic8\", \"Topic8\", \"Topic8\", \"Topic8\", \"Topic8\", \"Topic8\", \"Topic8\", \"Topic8\", \"Topic8\", \"Topic8\", \"Topic8\", \"Topic8\", \"Topic8\", \"Topic8\", \"Topic8\", \"Topic8\", \"Topic8\", \"Topic8\", \"Topic8\", \"Topic8\", \"Topic8\", \"Topic8\", \"Topic8\", \"Topic8\", \"Topic8\", \"Topic8\", \"Topic8\", \"Topic9\", \"Topic9\", \"Topic9\", \"Topic9\", \"Topic9\", \"Topic9\", \"Topic9\", \"Topic9\", \"Topic9\", \"Topic9\", \"Topic9\", \"Topic9\", \"Topic9\", \"Topic9\", \"Topic9\", \"Topic9\", \"Topic9\", \"Topic9\", \"Topic9\", \"Topic9\", \"Topic9\", \"Topic9\", \"Topic9\", \"Topic9\", \"Topic9\", \"Topic9\", \"Topic9\", \"Topic9\", \"Topic9\", \"Topic9\", \"Topic9\", \"Topic9\", \"Topic9\", \"Topic9\", \"Topic9\", \"Topic9\", \"Topic9\", \"Topic9\", \"Topic9\", \"Topic9\", \"Topic9\", \"Topic9\", \"Topic9\", \"Topic9\", \"Topic9\", \"Topic9\", \"Topic9\", \"Topic9\", \"Topic9\", \"Topic9\", \"Topic9\", \"Topic9\", \"Topic9\", \"Topic9\", \"Topic9\", \"Topic9\", \"Topic9\", \"Topic9\", \"Topic9\", \"Topic9\", \"Topic9\", \"Topic9\", \"Topic9\", \"Topic9\", \"Topic9\", \"Topic9\", \"Topic9\", \"Topic9\", \"Topic9\", \"Topic9\", \"Topic9\", \"Topic9\", \"Topic9\", \"Topic9\", \"Topic9\", \"Topic9\", \"Topic9\", \"Topic9\", \"Topic9\", \"Topic9\", \"Topic9\", \"Topic9\", \"Topic9\", \"Topic9\", \"Topic9\", \"Topic9\", \"Topic9\", \"Topic9\", \"Topic9\", \"Topic9\", \"Topic9\", \"Topic9\", \"Topic9\", \"Topic9\", \"Topic9\", \"Topic10\", \"Topic10\", \"Topic10\", \"Topic10\", \"Topic10\", \"Topic10\", \"Topic10\", \"Topic10\", \"Topic10\", \"Topic10\", \"Topic10\", \"Topic10\", \"Topic10\", \"Topic10\", \"Topic10\", \"Topic10\", \"Topic10\", \"Topic10\", \"Topic10\", \"Topic10\", \"Topic10\", \"Topic10\", \"Topic10\", \"Topic10\", \"Topic10\", \"Topic10\", \"Topic10\", \"Topic10\", \"Topic10\", \"Topic10\", \"Topic10\", \"Topic10\", \"Topic10\", \"Topic10\", \"Topic10\", \"Topic10\", \"Topic10\", \"Topic10\", \"Topic10\", \"Topic10\", \"Topic10\", \"Topic10\", \"Topic10\", \"Topic10\", \"Topic10\", \"Topic10\", \"Topic10\", \"Topic10\", \"Topic10\", \"Topic10\", \"Topic10\", \"Topic10\", \"Topic10\", \"Topic10\", \"Topic10\", \"Topic10\", \"Topic10\", \"Topic10\", \"Topic10\", \"Topic10\", \"Topic10\", \"Topic10\", \"Topic10\", \"Topic10\", \"Topic10\", \"Topic10\", \"Topic10\", \"Topic10\", \"Topic10\", \"Topic10\", \"Topic10\", \"Topic10\", \"Topic10\", \"Topic10\", \"Topic10\", \"Topic10\", \"Topic10\", \"Topic10\", \"Topic10\", \"Topic10\", \"Topic10\", \"Topic10\", \"Topic10\", \"Topic10\", \"Topic10\", \"Topic10\", \"Topic10\", \"Topic10\"], \"loglift\": [30.0, 29.0, 28.0, 27.0, 26.0, 25.0, 24.0, 23.0, 22.0, 21.0, 20.0, 19.0, 18.0, 17.0, 16.0, 15.0, 14.0, 13.0, 12.0, 11.0, 10.0, 9.0, 8.0, 7.0, 6.0, 5.0, 4.0, 3.0, 2.0, 1.0, 1.961, 1.9602, 1.9598, 1.9595, 1.9595, 1.9593, 1.9587, 1.9586, 1.9584, 1.9582, 1.9581, 1.958, 1.9579, 1.9576, 1.9574, 1.9572, 1.957, 1.9569, 1.9567, 1.9565, 1.9564, 1.9563, 1.9563, 1.9563, 1.9557, 1.9556, 1.9556, 1.9555, 1.9555, 1.9553, 1.9523, 1.9545, 1.9448, 1.9474, 1.9438, 1.8825, 1.9386, 1.8147, 1.8695, 1.9017, 1.7798, 1.8246, 1.9022, 1.7442, 1.7689, 1.8574, 1.7069, 1.8392, 1.7702, 1.5247, 1.6382, 1.1312, 1.6865, 1.4307, 1.1965, 1.0434, 0.9602, 1.5105, 1.1598, 0.9858, 1.2351, 1.1663, 0.9882, 1.2433, 0.841, 0.6995, 1.2389, 1.2814, 1.1833, 0.4756, 0.2434, 0.458, 0.3574, 0.5699, -0.0218, 0.3856, 0.5685, 0.6095, 0.8472, 0.55, 0.4801, 0.1816, 0.5889, 0.452, 0.3444, 0.1182, 0.0319, -0.0279, 0.3032, 0.2991, 1.9897, 1.9892, 1.989, 1.9877, 1.9877, 1.9876, 1.9873, 1.9873, 1.9851, 1.9851, 1.9846, 1.9844, 1.984, 1.9838, 1.9837, 1.9836, 1.9835, 1.9835, 1.9833, 1.983, 1.983, 1.9824, 1.9824, 1.9819, 1.9815, 1.9813, 1.981, 1.9807, 1.9806, 1.9805, 1.9788, 1.9746, 1.9771, 1.9766, 1.9435, 1.9526, 1.9708, 1.9599, 1.8833, 1.8829, 1.8748, 1.964, 1.9561, 1.931, 1.911, 1.9205, 1.9379, 1.9039, 1.8416, 1.6993, 1.787, 1.7451, 1.7617, 1.8558, 1.6394, 1.8315, 1.8257, 1.854, 1.6631, 1.7874, 1.7136, 1.5915, 1.2754, 1.3707, 1.6111, 1.6367, 1.2981, 1.6546, 1.4008, 1.4732, 1.2785, 1.4758, 1.198, 1.1772, 1.6275, 1.2528, 1.3781, 1.0003, 1.4463, 1.2822, 0.9778, 1.2003, 0.9707, 0.4473, 0.5483, 0.731, 0.7501, 0.6787, -0.0609, 0.3961, 0.4423, -0.226, 0.4348, 0.217, 0.7778, 0.6894, 0.1693, -0.1161, -0.0576, 2.2464, 2.246, 2.2459, 2.2452, 2.2452, 2.2449, 2.2446, 2.2445, 2.2442, 2.2441, 2.2433, 2.2427, 2.2427, 2.2419, 2.2419, 2.2418, 2.2417, 2.2417, 2.2414, 2.2414, 2.2413, 2.2413, 2.2413, 2.2412, 2.2407, 2.2405, 2.2405, 2.2405, 2.2405, 2.2401, 2.2315, 2.2388, 2.2369, 2.2305, 2.2358, 2.2346, 2.1579, 2.229, 2.1691, 2.1042, 1.9864, 1.651, 1.6409, 2.1854, 2.0103, 1.9701, 2.0782, 1.7757, 2.0825, 1.7954, 1.87, 1.7193, 1.5567, 1.6025, 1.6661, 1.9284, 1.3577, 1.6934, 1.1396, 1.732, 1.4775, 1.1241, 1.8208, 1.8974, 1.7349, 1.028, 0.658, 1.1405, 0.6891, 0.7917, 0.912, 0.6415, 1.3162, 1.144, 0.3535, 1.0433, 0.8774, 0.8485, 0.5757, 0.213, 0.0134, 0.1444, 0.694, 0.6493, -0.0642, 0.6178, 0.0305, -0.5119, 0.2638, 0.1066, -0.1992, -0.2571, -0.0043, 0.4456, 2.3379, 2.3378, 2.3374, 2.3373, 2.3373, 2.3369, 2.3369, 2.3368, 2.3368, 2.3367, 2.3367, 2.3367, 2.3366, 2.3365, 2.3363, 2.336, 2.3358, 2.3357, 2.3356, 2.3355, 2.3354, 2.3349, 2.3347, 2.3347, 2.3347, 2.3346, 2.3346, 2.3346, 2.3344, 2.3344, 2.3339, 2.3327, 2.3334, 2.3322, 2.3313, 2.3269, 2.3275, 2.3249, 2.3249, 2.3195, 2.2964, 2.2576, 2.2508, 1.5718, 2.1047, 2.098, 2.078, 1.5615, 1.9717, 2.063, 1.7215, 1.5634, 2.0344, 1.9259, 1.161, 1.2087, 1.6533, 1.9612, 0.9536, 1.4692, 1.1686, 1.5512, 1.4818, 1.7526, 1.0289, 1.1734, 1.5245, 1.2273, 0.7698, 1.3339, 1.3607, 0.5806, 1.2554, 0.4227, 1.0737, 0.9431, 0.6966, 0.6473, 1.0968, 0.0543, 0.6759, -0.0568, 0.0644, 0.6791, 0.4579, 0.0193, 0.8702, -0.0669, 0.1916, -0.6188, -0.2872, -0.2119, 0.3514, 0.0373, 2.2796, 2.2796, 2.2793, 2.2791, 2.2788, 2.2787, 2.2785, 2.2785, 2.2785, 2.2783, 2.2779, 2.2778, 2.2775, 2.2773, 2.2771, 2.277, 2.2769, 2.2768, 2.2768, 2.2768, 2.2766, 2.2763, 2.276, 2.2759, 2.2759, 2.2757, 2.2756, 2.2753, 2.2752, 2.275, 2.2732, 2.2747, 2.273, 2.2527, 2.2547, 2.2715, 2.2318, 2.1994, 1.9261, 2.1137, 2.2393, 1.832, 2.0282, 2.1002, 1.7562, 1.8369, 1.8374, 1.6968, 1.7779, 1.9931, 1.5835, 1.6431, 1.7302, 1.1443, 1.0563, 0.6929, 1.1792, 1.1203, 0.5203, 0.9773, 1.6672, 0.6738, 1.4856, 0.8779, 1.299, 1.4514, 1.0973, 0.8275, 0.9071, 0.7392, 0.5789, 0.2945, 0.829, 0.7648, 0.5477, 0.2078, 0.027, 0.1461, 0.1357, 0.5965, -0.4996, -0.0721, -0.1564, 0.2413, 2.2906, 2.2901, 2.29, 2.29, 2.2897, 2.2896, 2.2895, 2.2894, 2.2894, 2.2893, 2.2893, 2.2893, 2.2892, 2.2891, 2.2891, 2.2891, 2.289, 2.2884, 2.2882, 2.288, 2.288, 2.2879, 2.2878, 2.2878, 2.2878, 2.2875, 2.2875, 2.2872, 2.2871, 2.287, 2.2742, 2.2792, 2.2805, 2.276, 2.2869, 2.2865, 2.2869, 2.2856, 2.2861, 2.2686, 2.2734, 2.2688, 2.2344, 2.2526, 2.2784, 2.1394, 2.1976, 2.204, 2.0971, 2.1842, 2.1453, 1.9694, 2.2226, 2.2369, 2.1843, 2.1694, 1.9668, 2.2007, 2.1907, 2.1419, 2.2037, 2.1547, 1.8276, 1.9118, 2.0161, 2.0093, 1.6588, 1.3527, 1.8229, 1.9917, 1.7265, 0.8926, 1.5872, 1.4288, 1.5329, 1.3365, 0.6509, 0.997, 1.4007, 1.1619, 0.7536, 1.0141, 0.5298, 1.3348, 0.7727, 0.6951, 0.3317, 0.4479, 0.1564, 0.2748, 1.0751, -0.0414, -0.1303, -0.5586, -0.0162, 0.1656, -0.9899, 0.0812, 2.7761, 2.774, 2.773, 2.773, 2.7726, 2.7721, 2.772, 2.7718, 2.7703, 2.7694, 2.7692, 2.7688, 2.7688, 2.7682, 2.7679, 2.7677, 2.7674, 2.7662, 2.7661, 2.7658, 2.7657, 2.7656, 2.7654, 2.765, 2.765, 2.7649, 2.7649, 2.7647, 2.7647, 2.7646, 2.7622, 2.7593, 2.7628, 2.7644, 2.7389, 2.7494, 2.708, 2.7404, 2.7298, 2.7007, 2.6545, 2.6579, 2.7238, 2.7453, 2.7187, 2.7207, 2.5899, 2.7214, 2.4676, 2.5456, 2.5644, 2.6835, 2.6027, 2.4453, 2.5533, 2.367, 2.4178, 2.4893, 2.5714, 2.1739, 2.3587, 2.443, 2.1476, 2.2226, 2.2313, 1.66, 2.4244, 2.0916, 1.9182, 2.3019, 2.1008, 1.2641, 0.9346, 1.2886, 1.7806, 1.788, 1.1585, 0.6836, 0.0977, 1.3087, 0.3883, 1.3934, 0.6678, 0.427, 0.2257, -0.2743, 1.4904, 0.0096, -0.0095, 2.73, 2.7298, 2.7295, 2.7292, 2.7291, 2.7287, 2.7286, 2.7286, 2.7285, 2.7284, 2.7282, 2.7282, 2.7281, 2.7277, 2.7276, 2.7276, 2.7275, 2.7272, 2.7271, 2.727, 2.727, 2.727, 2.7269, 2.7269, 2.7268, 2.7268, 2.7265, 2.7264, 2.7264, 2.7264, 2.7152, 2.7232, 2.7237, 2.6985, 2.7154, 2.6317, 2.6497, 2.6934, 2.621, 2.5782, 2.613, 2.7133, 2.6769, 2.6051, 2.4355, 2.6273, 2.2718, 2.4579, 1.9999, 2.3541, 1.7645, 1.7925, 2.4728, 2.4007, 1.7438, 1.6718, 1.2857, 0.7863, 0.0856, 0.8036, 1.3242, 1.6297, -0.1057, 1.0663, 0.9844, 0.3025, 0.8176, 1.2996, 0.0408, 0.0223, -0.363, 0.6463, 0.191, -0.3129, 0.1557, -0.0953, 0.1629, -0.3522, 0.233, 0.3044, 0.1002, -0.1772, 2.6649, 2.6642, 2.6639, 2.6633, 2.663, 2.6627, 2.6626, 2.6626, 2.6624, 2.6623, 2.6623, 2.6621, 2.6621, 2.6621, 2.662, 2.6618, 2.6617, 2.6616, 2.6615, 2.6613, 2.6613, 2.6611, 2.6611, 2.6611, 2.661, 2.6609, 2.6608, 2.6608, 2.6607, 2.6607, 2.6566, 2.6517, 2.6573, 2.6576, 2.6605, 2.627, 2.6561, 2.6547, 2.6556, 2.6038, 2.5414, 2.6039, 2.603, 2.5661, 2.6032, 2.4656, 2.6204, 2.39, 2.5636, 2.5542, 2.3576, 2.3727, 2.3144, 2.1433, 2.3444, 2.0851, 2.4287, 2.01, 2.4548, 2.2108, 2.3256, 2.3748, 2.1879, 2.0313, 2.0583, 1.7626, 2.2119, 1.3885, 1.3515, 1.1715, 1.5416, 1.1144, 1.5892, 1.2531, 2.0887, -0.1905, 0.1666, -0.0308, 1.2835, 0.17, 1.288, 0.9003, -0.0274, -0.1172, 0.8725, -0.3149, -0.1644, -0.8632, -0.1724, 0.139, 0.0365, -1.2182, 0.0121, 0.1602, -0.1224, 2.1142, 2.1141, 2.113, 2.1124, 2.1121, 2.1118, 2.1113, 2.1111, 2.111, 2.1109, 2.1108, 2.1106, 2.1102, 2.1102, 2.1101, 2.1094, 2.1094, 2.1093, 2.1092, 2.109, 2.1089, 2.1089, 2.1087, 2.1086, 2.1084, 2.1084, 2.1084, 2.1083, 2.1083, 2.1077, 2.106, 2.1021, 2.1029, 2.1044, 2.072, 2.0969, 2.0919, 2.1051, 2.0861, 2.0446, 2.075, 2.0781, 2.082, 2.0918, 2.0436, 2.0826, 2.0828, 2.0659, 1.9903, 2.0032, 2.0084, 2.0582, 2.0456, 1.9481, 1.9806, 1.978, 1.9428, 1.9419, 1.8966, 1.7266, 1.8172, 1.7085, 1.9548, 1.7995, 1.7007, 1.2836, 1.9621, 1.7408, 1.0169, 1.5015, 1.3292, 0.5641, 0.8193, 0.8821, 0.6555, 0.1149, 0.5152, 0.8763, 0.8443, 0.6392, 0.3064, 0.0074, 0.2367, 0.3489, 1.2811, 0.7726, 0.054, -0.1486]}, \"R\": 30};\n",
       "\n",
       "function LDAvis_load_lib(url, callback){\n",
       "  var s = document.createElement('script');\n",
       "  s.src = url;\n",
       "  s.async = true;\n",
       "  s.onreadystatechange = s.onload = callback;\n",
       "  s.onerror = function(){console.warn(\"failed to load library \" + url);};\n",
       "  document.getElementsByTagName(\"head\")[0].appendChild(s);\n",
       "}\n",
       "\n",
       "if(typeof(LDAvis) !== \"undefined\"){\n",
       "   // already loaded: just create the visualization\n",
       "   !function(LDAvis){\n",
       "       new LDAvis(\"#\" + \"ldavis_el578027325872858648248516756\", ldavis_el578027325872858648248516756_data);\n",
       "   }(LDAvis);\n",
       "}else if(typeof define === \"function\" && define.amd){\n",
       "   // require.js is available: use it to load d3/LDAvis\n",
       "   require.config({paths: {d3: \"https://cdnjs.cloudflare.com/ajax/libs/d3/3.5.5/d3.min\"}});\n",
       "   require([\"d3\"], function(d3){\n",
       "      window.d3 = d3;\n",
       "      LDAvis_load_lib(\"https://cdn.rawgit.com/bmabey/pyLDAvis/files/ldavis.v1.0.0.js\", function(){\n",
       "        new LDAvis(\"#\" + \"ldavis_el578027325872858648248516756\", ldavis_el578027325872858648248516756_data);\n",
       "      });\n",
       "    });\n",
       "}else{\n",
       "    // require.js not available: dynamically load d3 & LDAvis\n",
       "    LDAvis_load_lib(\"https://cdnjs.cloudflare.com/ajax/libs/d3/3.5.5/d3.min.js\", function(){\n",
       "         LDAvis_load_lib(\"https://cdn.rawgit.com/bmabey/pyLDAvis/files/ldavis.v1.0.0.js\", function(){\n",
       "                 new LDAvis(\"#\" + \"ldavis_el578027325872858648248516756\", ldavis_el578027325872858648248516756_data);\n",
       "            })\n",
       "         });\n",
       "}\n",
       "</script>"
      ],
      "text/plain": [
       "<IPython.core.display.HTML object>"
      ]
     },
     "execution_count": 15,
     "metadata": {},
     "output_type": "execute_result"
    }
   ],
   "source": [
    "bow_corpus = [corpus_vocab.doc2bow(doc) for doc in tokenized_docs]\n",
    "\n",
    "lda_model = gensim.models.ldamodel.LdaModel(bow_corpus, num_topics=NUM_CATEGORIES, id2word=corpus_vocab, passes=15)\n",
    "lda_display = pyLDAvis.gensim.prepare(lda_model, bow_corpus, corpus_vocab, sort_topics=False)\n",
    "pyLDAvis.display(lda_display)"
   ]
  },
  {
   "cell_type": "code",
   "execution_count": 20,
   "metadata": {
    "collapsed": true
   },
   "outputs": [],
   "source": [
    "import pickle\n",
    "corpus_vocab.save('top-10-categories.dictionary')\n",
    "pickle.dump(bow_corpus, open( \"top-10-bow_corpus.list\", \"wb\" ))"
   ]
  },
  {
   "cell_type": "code",
   "execution_count": 21,
   "metadata": {
    "collapsed": true
   },
   "outputs": [],
   "source": [
    "lda_model.save('10-topics.ldamodel')"
   ]
  },
  {
   "cell_type": "code",
   "execution_count": 24,
   "metadata": {
    "collapsed": true
   },
   "outputs": [],
   "source": [
    "from sklearn.feature_extraction.text import TfidfVectorizer\n",
    "\n",
    "selected_docs = [judgments.raw(docid) for docid in selected_docs_ids]\n",
    "tfidf_vectorizer = TfidfVectorizer(stop_words=stopwords, tokenizer=get_tokens)\n",
    "tfidf_vectors = tfidf_vectorizer.fit_transform(selected_docs)"
   ]
  },
  {
   "cell_type": "code",
   "execution_count": 27,
   "metadata": {},
   "outputs": [
    {
     "ename": "NameError",
     "evalue": "name 'w2v' is not defined",
     "output_type": "error",
     "traceback": [
      "\u001b[0;31m---------------------------------------------------------------------------\u001b[0m",
      "\u001b[0;31mNameError\u001b[0m                                 Traceback (most recent call last)",
      "\u001b[0;32m<ipython-input-27-70ca701c4d44>\u001b[0m in \u001b[0;36m<module>\u001b[0;34m()\u001b[0m\n\u001b[1;32m      1\u001b[0m \u001b[1;32mimport\u001b[0m \u001b[0mgensim\u001b[0m\u001b[1;33m\u001b[0m\u001b[0m\n\u001b[1;32m      2\u001b[0m \u001b[0mw2v_model\u001b[0m \u001b[1;33m=\u001b[0m \u001b[0mgensim\u001b[0m\u001b[1;33m.\u001b[0m\u001b[0mmodels\u001b[0m\u001b[1;33m.\u001b[0m\u001b[0mword2vec\u001b[0m\u001b[1;33m.\u001b[0m\u001b[0mWord2Vec\u001b[0m\u001b[1;33m(\u001b[0m\u001b[0mtokenized_docs\u001b[0m\u001b[1;33m,\u001b[0m \u001b[0msize\u001b[0m\u001b[1;33m=\u001b[0m\u001b[1;36m100\u001b[0m\u001b[1;33m)\u001b[0m\u001b[1;33m\u001b[0m\u001b[0m\n\u001b[0;32m----> 3\u001b[0;31m \u001b[0mw2v\u001b[0m \u001b[1;33m=\u001b[0m \u001b[0mdict\u001b[0m\u001b[1;33m(\u001b[0m\u001b[0mzip\u001b[0m\u001b[1;33m(\u001b[0m\u001b[0mw2v\u001b[0m\u001b[1;33m.\u001b[0m\u001b[0mmodel\u001b[0m\u001b[1;33m.\u001b[0m\u001b[0mindex2word\u001b[0m\u001b[1;33m,\u001b[0m \u001b[0mmodel\u001b[0m\u001b[1;33m.\u001b[0m\u001b[0msyn0\u001b[0m\u001b[1;33m)\u001b[0m\u001b[1;33m)\u001b[0m\u001b[1;33m\u001b[0m\u001b[0m\n\u001b[0m",
      "\u001b[0;31mNameError\u001b[0m: name 'w2v' is not defined"
     ]
    }
   ],
   "source": [
    "import gensim\n",
    "w2v_model = gensim.models.word2vec.Word2Vec(tokenized_docs, size=100)"
   ]
  },
  {
   "cell_type": "code",
   "execution_count": null,
   "metadata": {
    "collapsed": true
   },
   "outputs": [],
   "source": [
    "w2v_model.save('top-10-w2vmodel')"
   ]
  },
  {
   "cell_type": "code",
   "execution_count": 31,
   "metadata": {
    "collapsed": true
   },
   "outputs": [],
   "source": [
    "w2v = dict(zip(w2v_model.wv.index2word, w2v_model.wv.syn0))"
   ]
  },
  {
   "cell_type": "code",
   "execution_count": 33,
   "metadata": {
    "collapsed": true
   },
   "outputs": [],
   "source": [
    "selected_train_docs_ids = [docid for docid in selected_docs_ids if docid.startswith('training')]\n",
    "selected_test_docs_ids = [docid for docid in selected_docs_ids if docid.startswith('test')]"
   ]
  },
  {
   "cell_type": "code",
   "execution_count": 34,
   "metadata": {
    "collapsed": true
   },
   "outputs": [],
   "source": [
    "from collections import Counter\n",
    "\n",
    "c = Counter()\n",
    "\n",
    "for docid in selected_train_docs_ids:\n",
    "    c.update(judgments.categories(docid))"
   ]
  },
  {
   "cell_type": "code",
   "execution_count": 40,
   "metadata": {},
   "outputs": [
    {
     "data": {
      "text/plain": [
       "Counter({'1': 1814, '2': 763, '3': 229, '4': 55, '5': 13, '6': 5, '7': 1})"
      ]
     },
     "execution_count": 40,
     "metadata": {},
     "output_type": "execute_result"
    }
   ],
   "source": [
    "c1 = Counter()\n",
    "\n",
    "for docid in selected_train_docs_ids:\n",
    "    c1.update(str(len(judgments.categories(docid))))\n",
    "c1"
   ]
  },
  {
   "cell_type": "code",
   "execution_count": null,
   "metadata": {
    "collapsed": true
   },
   "outputs": [],
   "source": []
  }
 ],
 "metadata": {
  "anaconda-cloud": {},
  "kernelspec": {
   "display_name": "Python 3",
   "language": "python",
   "name": "python3"
  },
  "language_info": {
   "codemirror_mode": {
    "name": "ipython",
    "version": 3
   },
   "file_extension": ".py",
   "mimetype": "text/x-python",
   "name": "python",
   "nbconvert_exporter": "python",
   "pygments_lexer": "ipython3",
   "version": "3.6.0"
  }
 },
 "nbformat": 4,
 "nbformat_minor": 2
}
